{
 "cells": [
  {
   "cell_type": "code",
   "execution_count": 45,
   "id": "62e460f3-7f9d-44cb-9018-9d7a31701300",
   "metadata": {},
   "outputs": [
    {
     "name": "stdout",
     "output_type": "stream",
     "text": [
      "Requirement already satisfied: plotly in c:\\users\\pc\\appdata\\local\\programs\\python\\python313\\lib\\site-packages (6.2.0)\n",
      "Requirement already satisfied: narwhals>=1.15.1 in c:\\users\\pc\\appdata\\local\\programs\\python\\python313\\lib\\site-packages (from plotly) (1.48.0)\n",
      "Requirement already satisfied: packaging in c:\\users\\pc\\appdata\\local\\programs\\python\\python313\\lib\\site-packages (from plotly) (25.0)\n"
     ]
    }
   ],
   "source": [
    "!pip install plotly\n",
    "# Import required libraries\n",
    "import pandas as pd\n",
    "import plotly.express as px\n",
    "import plotly.graph_objects as go\n",
    "import numpy as np"
   ]
  },
  {
   "cell_type": "code",
   "execution_count": 3,
   "id": "8add1fc0-698c-40b5-9bec-43f9b7fe74fe",
   "metadata": {},
   "outputs": [],
   "source": [
    "airline_data =  pd.read_csv('https://cf-courses-data.s3.us.cloud-object-storage.appdomain.cloud/IBMDeveloperSkillsNetwork-DV0101EN-SkillsNetwork/Data%20Files/airline_data.csv', \n",
    "                            encoding = \"ISO-8859-1\",\n",
    "                            dtype={'Div1Airport': str, 'Div1TailNum': str, \n",
    "                                   'Div2Airport': str, 'Div2TailNum': str})"
   ]
  },
  {
   "cell_type": "code",
   "execution_count": 46,
   "id": "5dfc3136-a35d-4275-9ebc-297bdc5adeb7",
   "metadata": {},
   "outputs": [
    {
     "data": {
      "text/html": [
       "<div>\n",
       "<style scoped>\n",
       "    .dataframe tbody tr th:only-of-type {\n",
       "        vertical-align: middle;\n",
       "    }\n",
       "\n",
       "    .dataframe tbody tr th {\n",
       "        vertical-align: top;\n",
       "    }\n",
       "\n",
       "    .dataframe thead th {\n",
       "        text-align: right;\n",
       "    }\n",
       "</style>\n",
       "<table border=\"1\" class=\"dataframe\">\n",
       "  <thead>\n",
       "    <tr style=\"text-align: right;\">\n",
       "      <th></th>\n",
       "      <th>Unnamed: 0</th>\n",
       "      <th>Year</th>\n",
       "      <th>Quarter</th>\n",
       "      <th>Month</th>\n",
       "      <th>DayofMonth</th>\n",
       "      <th>DayOfWeek</th>\n",
       "      <th>FlightDate</th>\n",
       "      <th>Reporting_Airline</th>\n",
       "      <th>DOT_ID_Reporting_Airline</th>\n",
       "      <th>IATA_CODE_Reporting_Airline</th>\n",
       "      <th>...</th>\n",
       "      <th>Div4WheelsOff</th>\n",
       "      <th>Div4TailNum</th>\n",
       "      <th>Div5Airport</th>\n",
       "      <th>Div5AirportID</th>\n",
       "      <th>Div5AirportSeqID</th>\n",
       "      <th>Div5WheelsOn</th>\n",
       "      <th>Div5TotalGTime</th>\n",
       "      <th>Div5LongestGTime</th>\n",
       "      <th>Div5WheelsOff</th>\n",
       "      <th>Div5TailNum</th>\n",
       "    </tr>\n",
       "  </thead>\n",
       "  <tbody>\n",
       "    <tr>\n",
       "      <th>0</th>\n",
       "      <td>1295781</td>\n",
       "      <td>1998</td>\n",
       "      <td>2</td>\n",
       "      <td>4</td>\n",
       "      <td>2</td>\n",
       "      <td>4</td>\n",
       "      <td>1998-04-02</td>\n",
       "      <td>AS</td>\n",
       "      <td>19930</td>\n",
       "      <td>AS</td>\n",
       "      <td>...</td>\n",
       "      <td>NaN</td>\n",
       "      <td>NaN</td>\n",
       "      <td>NaN</td>\n",
       "      <td>NaN</td>\n",
       "      <td>NaN</td>\n",
       "      <td>NaN</td>\n",
       "      <td>NaN</td>\n",
       "      <td>NaN</td>\n",
       "      <td>NaN</td>\n",
       "      <td>NaN</td>\n",
       "    </tr>\n",
       "    <tr>\n",
       "      <th>1</th>\n",
       "      <td>1125375</td>\n",
       "      <td>2013</td>\n",
       "      <td>2</td>\n",
       "      <td>5</td>\n",
       "      <td>13</td>\n",
       "      <td>1</td>\n",
       "      <td>2013-05-13</td>\n",
       "      <td>EV</td>\n",
       "      <td>20366</td>\n",
       "      <td>EV</td>\n",
       "      <td>...</td>\n",
       "      <td>NaN</td>\n",
       "      <td>NaN</td>\n",
       "      <td>NaN</td>\n",
       "      <td>NaN</td>\n",
       "      <td>NaN</td>\n",
       "      <td>NaN</td>\n",
       "      <td>NaN</td>\n",
       "      <td>NaN</td>\n",
       "      <td>NaN</td>\n",
       "      <td>NaN</td>\n",
       "    </tr>\n",
       "    <tr>\n",
       "      <th>2</th>\n",
       "      <td>118824</td>\n",
       "      <td>1993</td>\n",
       "      <td>3</td>\n",
       "      <td>9</td>\n",
       "      <td>25</td>\n",
       "      <td>6</td>\n",
       "      <td>1993-09-25</td>\n",
       "      <td>UA</td>\n",
       "      <td>19977</td>\n",
       "      <td>UA</td>\n",
       "      <td>...</td>\n",
       "      <td>NaN</td>\n",
       "      <td>NaN</td>\n",
       "      <td>NaN</td>\n",
       "      <td>NaN</td>\n",
       "      <td>NaN</td>\n",
       "      <td>NaN</td>\n",
       "      <td>NaN</td>\n",
       "      <td>NaN</td>\n",
       "      <td>NaN</td>\n",
       "      <td>NaN</td>\n",
       "    </tr>\n",
       "    <tr>\n",
       "      <th>3</th>\n",
       "      <td>634825</td>\n",
       "      <td>1994</td>\n",
       "      <td>4</td>\n",
       "      <td>11</td>\n",
       "      <td>12</td>\n",
       "      <td>6</td>\n",
       "      <td>1994-11-12</td>\n",
       "      <td>HP</td>\n",
       "      <td>19991</td>\n",
       "      <td>HP</td>\n",
       "      <td>...</td>\n",
       "      <td>NaN</td>\n",
       "      <td>NaN</td>\n",
       "      <td>NaN</td>\n",
       "      <td>NaN</td>\n",
       "      <td>NaN</td>\n",
       "      <td>NaN</td>\n",
       "      <td>NaN</td>\n",
       "      <td>NaN</td>\n",
       "      <td>NaN</td>\n",
       "      <td>NaN</td>\n",
       "    </tr>\n",
       "    <tr>\n",
       "      <th>4</th>\n",
       "      <td>1888125</td>\n",
       "      <td>2017</td>\n",
       "      <td>3</td>\n",
       "      <td>8</td>\n",
       "      <td>17</td>\n",
       "      <td>4</td>\n",
       "      <td>2017-08-17</td>\n",
       "      <td>UA</td>\n",
       "      <td>19977</td>\n",
       "      <td>UA</td>\n",
       "      <td>...</td>\n",
       "      <td>NaN</td>\n",
       "      <td>NaN</td>\n",
       "      <td>NaN</td>\n",
       "      <td>NaN</td>\n",
       "      <td>NaN</td>\n",
       "      <td>NaN</td>\n",
       "      <td>NaN</td>\n",
       "      <td>NaN</td>\n",
       "      <td>NaN</td>\n",
       "      <td>NaN</td>\n",
       "    </tr>\n",
       "  </tbody>\n",
       "</table>\n",
       "<p>5 rows × 110 columns</p>\n",
       "</div>"
      ],
      "text/plain": [
       "   Unnamed: 0  Year  Quarter  Month  DayofMonth  DayOfWeek  FlightDate  \\\n",
       "0     1295781  1998        2      4           2          4  1998-04-02   \n",
       "1     1125375  2013        2      5          13          1  2013-05-13   \n",
       "2      118824  1993        3      9          25          6  1993-09-25   \n",
       "3      634825  1994        4     11          12          6  1994-11-12   \n",
       "4     1888125  2017        3      8          17          4  2017-08-17   \n",
       "\n",
       "  Reporting_Airline  DOT_ID_Reporting_Airline IATA_CODE_Reporting_Airline  \\\n",
       "0                AS                     19930                          AS   \n",
       "1                EV                     20366                          EV   \n",
       "2                UA                     19977                          UA   \n",
       "3                HP                     19991                          HP   \n",
       "4                UA                     19977                          UA   \n",
       "\n",
       "   ... Div4WheelsOff  Div4TailNum  Div5Airport  Div5AirportID  \\\n",
       "0  ...           NaN          NaN          NaN            NaN   \n",
       "1  ...           NaN          NaN          NaN            NaN   \n",
       "2  ...           NaN          NaN          NaN            NaN   \n",
       "3  ...           NaN          NaN          NaN            NaN   \n",
       "4  ...           NaN          NaN          NaN            NaN   \n",
       "\n",
       "   Div5AirportSeqID Div5WheelsOn Div5TotalGTime Div5LongestGTime  \\\n",
       "0               NaN          NaN            NaN              NaN   \n",
       "1               NaN          NaN            NaN              NaN   \n",
       "2               NaN          NaN            NaN              NaN   \n",
       "3               NaN          NaN            NaN              NaN   \n",
       "4               NaN          NaN            NaN              NaN   \n",
       "\n",
       "   Div5WheelsOff Div5TailNum  \n",
       "0            NaN         NaN  \n",
       "1            NaN         NaN  \n",
       "2            NaN         NaN  \n",
       "3            NaN         NaN  \n",
       "4            NaN         NaN  \n",
       "\n",
       "[5 rows x 110 columns]"
      ]
     },
     "execution_count": 46,
     "metadata": {},
     "output_type": "execute_result"
    }
   ],
   "source": [
    "airline_data.head()"
   ]
  },
  {
   "cell_type": "code",
   "execution_count": 5,
   "id": "70917ae4-e9e0-4ba3-b1b5-b13c863768be",
   "metadata": {},
   "outputs": [
    {
     "data": {
      "text/plain": [
       "(27000, 110)"
      ]
     },
     "execution_count": 5,
     "metadata": {},
     "output_type": "execute_result"
    }
   ],
   "source": [
    "# Shape of the data\n",
    "airline_data.shape"
   ]
  },
  {
   "cell_type": "code",
   "execution_count": 22,
   "id": "73657452-2a95-4873-8d72-115ede3fac19",
   "metadata": {},
   "outputs": [],
   "source": [
    "# Randomly sample 500 data points. Setting the random state to be 42 so that we get same result.\n",
    "data = airline_data.sample(n=500, random_state=42)"
   ]
  },
  {
   "cell_type": "code",
   "execution_count": 23,
   "id": "9458b76f-fffe-4052-ae71-6159b809cbf9",
   "metadata": {},
   "outputs": [
    {
     "data": {
      "text/plain": [
       "(500, 110)"
      ]
     },
     "execution_count": 23,
     "metadata": {},
     "output_type": "execute_result"
    }
   ],
   "source": [
    "data.shape\n",
    "#data.columns"
   ]
  },
  {
   "cell_type": "markdown",
   "id": "29125a9d-5aa4-4d15-ac78-b8a75127b5e9",
   "metadata": {},
   "source": [
    "## 1. Scatter Plot\n",
    "\n",
    "\n",
    "A scatter plot shows the relationship between 2 variables on the x and y-axis. \n",
    "The data points here appear scattered when plotted on a two-dimensional plane. Using scatter plots, we can create exciting visualizations to express various relationships, such as:\n",
    "\n",
    "Height vs weight of persons\n",
    "\n",
    "Engine size vs automobile price\n",
    "\n",
    "Exercise time vs Body Fat"
   ]
  },
  {
   "cell_type": "markdown",
   "id": "0bd50401-738b-4ebf-8d3e-1b39c9fa9cae",
   "metadata": {},
   "source": [
    "Let us use a scatter plot to represent departure time changes with respect to airport distance\n",
    "\n",
    "This plot should contain the following\n",
    "\n",
    "* Title as **Distance vs Departure Time**.\n",
    "* x-axis label should be **Distance**\n",
    "* y-axis label should be **DeptTime**\n",
    "* **Distance** column data from the flight delay dataset should be considered in x-axis\n",
    "* **DepTime** column data from the flight delay dataset should be considered in y-axis\n",
    "* Scatter plot markers should be of red color"
   ]
  },
  {
   "cell_type": "code",
   "execution_count": 48,
   "id": "affe1990-cbe7-44f5-8ca5-9fb5d1cc1584",
   "metadata": {},
   "outputs": [
    {
     "data": {
      "application/vnd.plotly.v1+json": {
       "config": {
        "plotlyServerURL": "https://plot.ly"
       },
       "data": [
        {
         "marker": {
          "color": "red"
         },
         "mode": "markers",
         "type": "scatter",
         "x": {
          "bdata": "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",
          "dtype": "f8"
         },
         "y": {
          "bdata": "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",
          "dtype": "f8"
         }
        }
       ],
       "layout": {
        "template": {
         "data": {
          "bar": [
           {
            "error_x": {
             "color": "#2a3f5f"
            },
            "error_y": {
             "color": "#2a3f5f"
            },
            "marker": {
             "line": {
              "color": "#E5ECF6",
              "width": 0.5
             },
             "pattern": {
              "fillmode": "overlay",
              "size": 10,
              "solidity": 0.2
             }
            },
            "type": "bar"
           }
          ],
          "barpolar": [
           {
            "marker": {
             "line": {
              "color": "#E5ECF6",
              "width": 0.5
             },
             "pattern": {
              "fillmode": "overlay",
              "size": 10,
              "solidity": 0.2
             }
            },
            "type": "barpolar"
           }
          ],
          "carpet": [
           {
            "aaxis": {
             "endlinecolor": "#2a3f5f",
             "gridcolor": "white",
             "linecolor": "white",
             "minorgridcolor": "white",
             "startlinecolor": "#2a3f5f"
            },
            "baxis": {
             "endlinecolor": "#2a3f5f",
             "gridcolor": "white",
             "linecolor": "white",
             "minorgridcolor": "white",
             "startlinecolor": "#2a3f5f"
            },
            "type": "carpet"
           }
          ],
          "choropleth": [
           {
            "colorbar": {
             "outlinewidth": 0,
             "ticks": ""
            },
            "type": "choropleth"
           }
          ],
          "contour": [
           {
            "colorbar": {
             "outlinewidth": 0,
             "ticks": ""
            },
            "colorscale": [
             [
              0,
              "#0d0887"
             ],
             [
              0.1111111111111111,
              "#46039f"
             ],
             [
              0.2222222222222222,
              "#7201a8"
             ],
             [
              0.3333333333333333,
              "#9c179e"
             ],
             [
              0.4444444444444444,
              "#bd3786"
             ],
             [
              0.5555555555555556,
              "#d8576b"
             ],
             [
              0.6666666666666666,
              "#ed7953"
             ],
             [
              0.7777777777777778,
              "#fb9f3a"
             ],
             [
              0.8888888888888888,
              "#fdca26"
             ],
             [
              1,
              "#f0f921"
             ]
            ],
            "type": "contour"
           }
          ],
          "contourcarpet": [
           {
            "colorbar": {
             "outlinewidth": 0,
             "ticks": ""
            },
            "type": "contourcarpet"
           }
          ],
          "heatmap": [
           {
            "colorbar": {
             "outlinewidth": 0,
             "ticks": ""
            },
            "colorscale": [
             [
              0,
              "#0d0887"
             ],
             [
              0.1111111111111111,
              "#46039f"
             ],
             [
              0.2222222222222222,
              "#7201a8"
             ],
             [
              0.3333333333333333,
              "#9c179e"
             ],
             [
              0.4444444444444444,
              "#bd3786"
             ],
             [
              0.5555555555555556,
              "#d8576b"
             ],
             [
              0.6666666666666666,
              "#ed7953"
             ],
             [
              0.7777777777777778,
              "#fb9f3a"
             ],
             [
              0.8888888888888888,
              "#fdca26"
             ],
             [
              1,
              "#f0f921"
             ]
            ],
            "type": "heatmap"
           }
          ],
          "histogram": [
           {
            "marker": {
             "pattern": {
              "fillmode": "overlay",
              "size": 10,
              "solidity": 0.2
             }
            },
            "type": "histogram"
           }
          ],
          "histogram2d": [
           {
            "colorbar": {
             "outlinewidth": 0,
             "ticks": ""
            },
            "colorscale": [
             [
              0,
              "#0d0887"
             ],
             [
              0.1111111111111111,
              "#46039f"
             ],
             [
              0.2222222222222222,
              "#7201a8"
             ],
             [
              0.3333333333333333,
              "#9c179e"
             ],
             [
              0.4444444444444444,
              "#bd3786"
             ],
             [
              0.5555555555555556,
              "#d8576b"
             ],
             [
              0.6666666666666666,
              "#ed7953"
             ],
             [
              0.7777777777777778,
              "#fb9f3a"
             ],
             [
              0.8888888888888888,
              "#fdca26"
             ],
             [
              1,
              "#f0f921"
             ]
            ],
            "type": "histogram2d"
           }
          ],
          "histogram2dcontour": [
           {
            "colorbar": {
             "outlinewidth": 0,
             "ticks": ""
            },
            "colorscale": [
             [
              0,
              "#0d0887"
             ],
             [
              0.1111111111111111,
              "#46039f"
             ],
             [
              0.2222222222222222,
              "#7201a8"
             ],
             [
              0.3333333333333333,
              "#9c179e"
             ],
             [
              0.4444444444444444,
              "#bd3786"
             ],
             [
              0.5555555555555556,
              "#d8576b"
             ],
             [
              0.6666666666666666,
              "#ed7953"
             ],
             [
              0.7777777777777778,
              "#fb9f3a"
             ],
             [
              0.8888888888888888,
              "#fdca26"
             ],
             [
              1,
              "#f0f921"
             ]
            ],
            "type": "histogram2dcontour"
           }
          ],
          "mesh3d": [
           {
            "colorbar": {
             "outlinewidth": 0,
             "ticks": ""
            },
            "type": "mesh3d"
           }
          ],
          "parcoords": [
           {
            "line": {
             "colorbar": {
              "outlinewidth": 0,
              "ticks": ""
             }
            },
            "type": "parcoords"
           }
          ],
          "pie": [
           {
            "automargin": true,
            "type": "pie"
           }
          ],
          "scatter": [
           {
            "fillpattern": {
             "fillmode": "overlay",
             "size": 10,
             "solidity": 0.2
            },
            "type": "scatter"
           }
          ],
          "scatter3d": [
           {
            "line": {
             "colorbar": {
              "outlinewidth": 0,
              "ticks": ""
             }
            },
            "marker": {
             "colorbar": {
              "outlinewidth": 0,
              "ticks": ""
             }
            },
            "type": "scatter3d"
           }
          ],
          "scattercarpet": [
           {
            "marker": {
             "colorbar": {
              "outlinewidth": 0,
              "ticks": ""
             }
            },
            "type": "scattercarpet"
           }
          ],
          "scattergeo": [
           {
            "marker": {
             "colorbar": {
              "outlinewidth": 0,
              "ticks": ""
             }
            },
            "type": "scattergeo"
           }
          ],
          "scattergl": [
           {
            "marker": {
             "colorbar": {
              "outlinewidth": 0,
              "ticks": ""
             }
            },
            "type": "scattergl"
           }
          ],
          "scattermap": [
           {
            "marker": {
             "colorbar": {
              "outlinewidth": 0,
              "ticks": ""
             }
            },
            "type": "scattermap"
           }
          ],
          "scattermapbox": [
           {
            "marker": {
             "colorbar": {
              "outlinewidth": 0,
              "ticks": ""
             }
            },
            "type": "scattermapbox"
           }
          ],
          "scatterpolar": [
           {
            "marker": {
             "colorbar": {
              "outlinewidth": 0,
              "ticks": ""
             }
            },
            "type": "scatterpolar"
           }
          ],
          "scatterpolargl": [
           {
            "marker": {
             "colorbar": {
              "outlinewidth": 0,
              "ticks": ""
             }
            },
            "type": "scatterpolargl"
           }
          ],
          "scatterternary": [
           {
            "marker": {
             "colorbar": {
              "outlinewidth": 0,
              "ticks": ""
             }
            },
            "type": "scatterternary"
           }
          ],
          "surface": [
           {
            "colorbar": {
             "outlinewidth": 0,
             "ticks": ""
            },
            "colorscale": [
             [
              0,
              "#0d0887"
             ],
             [
              0.1111111111111111,
              "#46039f"
             ],
             [
              0.2222222222222222,
              "#7201a8"
             ],
             [
              0.3333333333333333,
              "#9c179e"
             ],
             [
              0.4444444444444444,
              "#bd3786"
             ],
             [
              0.5555555555555556,
              "#d8576b"
             ],
             [
              0.6666666666666666,
              "#ed7953"
             ],
             [
              0.7777777777777778,
              "#fb9f3a"
             ],
             [
              0.8888888888888888,
              "#fdca26"
             ],
             [
              1,
              "#f0f921"
             ]
            ],
            "type": "surface"
           }
          ],
          "table": [
           {
            "cells": {
             "fill": {
              "color": "#EBF0F8"
             },
             "line": {
              "color": "white"
             }
            },
            "header": {
             "fill": {
              "color": "#C8D4E3"
             },
             "line": {
              "color": "white"
             }
            },
            "type": "table"
           }
          ]
         },
         "layout": {
          "annotationdefaults": {
           "arrowcolor": "#2a3f5f",
           "arrowhead": 0,
           "arrowwidth": 1
          },
          "autotypenumbers": "strict",
          "coloraxis": {
           "colorbar": {
            "outlinewidth": 0,
            "ticks": ""
           }
          },
          "colorscale": {
           "diverging": [
            [
             0,
             "#8e0152"
            ],
            [
             0.1,
             "#c51b7d"
            ],
            [
             0.2,
             "#de77ae"
            ],
            [
             0.3,
             "#f1b6da"
            ],
            [
             0.4,
             "#fde0ef"
            ],
            [
             0.5,
             "#f7f7f7"
            ],
            [
             0.6,
             "#e6f5d0"
            ],
            [
             0.7,
             "#b8e186"
            ],
            [
             0.8,
             "#7fbc41"
            ],
            [
             0.9,
             "#4d9221"
            ],
            [
             1,
             "#276419"
            ]
           ],
           "sequential": [
            [
             0,
             "#0d0887"
            ],
            [
             0.1111111111111111,
             "#46039f"
            ],
            [
             0.2222222222222222,
             "#7201a8"
            ],
            [
             0.3333333333333333,
             "#9c179e"
            ],
            [
             0.4444444444444444,
             "#bd3786"
            ],
            [
             0.5555555555555556,
             "#d8576b"
            ],
            [
             0.6666666666666666,
             "#ed7953"
            ],
            [
             0.7777777777777778,
             "#fb9f3a"
            ],
            [
             0.8888888888888888,
             "#fdca26"
            ],
            [
             1,
             "#f0f921"
            ]
           ],
           "sequentialminus": [
            [
             0,
             "#0d0887"
            ],
            [
             0.1111111111111111,
             "#46039f"
            ],
            [
             0.2222222222222222,
             "#7201a8"
            ],
            [
             0.3333333333333333,
             "#9c179e"
            ],
            [
             0.4444444444444444,
             "#bd3786"
            ],
            [
             0.5555555555555556,
             "#d8576b"
            ],
            [
             0.6666666666666666,
             "#ed7953"
            ],
            [
             0.7777777777777778,
             "#fb9f3a"
            ],
            [
             0.8888888888888888,
             "#fdca26"
            ],
            [
             1,
             "#f0f921"
            ]
           ]
          },
          "colorway": [
           "#636efa",
           "#EF553B",
           "#00cc96",
           "#ab63fa",
           "#FFA15A",
           "#19d3f3",
           "#FF6692",
           "#B6E880",
           "#FF97FF",
           "#FECB52"
          ],
          "font": {
           "color": "#2a3f5f"
          },
          "geo": {
           "bgcolor": "white",
           "lakecolor": "white",
           "landcolor": "#E5ECF6",
           "showlakes": true,
           "showland": true,
           "subunitcolor": "white"
          },
          "hoverlabel": {
           "align": "left"
          },
          "hovermode": "closest",
          "mapbox": {
           "style": "light"
          },
          "paper_bgcolor": "white",
          "plot_bgcolor": "#E5ECF6",
          "polar": {
           "angularaxis": {
            "gridcolor": "white",
            "linecolor": "white",
            "ticks": ""
           },
           "bgcolor": "#E5ECF6",
           "radialaxis": {
            "gridcolor": "white",
            "linecolor": "white",
            "ticks": ""
           }
          },
          "scene": {
           "xaxis": {
            "backgroundcolor": "#E5ECF6",
            "gridcolor": "white",
            "gridwidth": 2,
            "linecolor": "white",
            "showbackground": true,
            "ticks": "",
            "zerolinecolor": "white"
           },
           "yaxis": {
            "backgroundcolor": "#E5ECF6",
            "gridcolor": "white",
            "gridwidth": 2,
            "linecolor": "white",
            "showbackground": true,
            "ticks": "",
            "zerolinecolor": "white"
           },
           "zaxis": {
            "backgroundcolor": "#E5ECF6",
            "gridcolor": "white",
            "gridwidth": 2,
            "linecolor": "white",
            "showbackground": true,
            "ticks": "",
            "zerolinecolor": "white"
           }
          },
          "shapedefaults": {
           "line": {
            "color": "#2a3f5f"
           }
          },
          "ternary": {
           "aaxis": {
            "gridcolor": "white",
            "linecolor": "white",
            "ticks": ""
           },
           "baxis": {
            "gridcolor": "white",
            "linecolor": "white",
            "ticks": ""
           },
           "bgcolor": "#E5ECF6",
           "caxis": {
            "gridcolor": "white",
            "linecolor": "white",
            "ticks": ""
           }
          },
          "title": {
           "x": 0.05
          },
          "xaxis": {
           "automargin": true,
           "gridcolor": "white",
           "linecolor": "white",
           "ticks": "",
           "title": {
            "standoff": 15
           },
           "zerolinecolor": "white",
           "zerolinewidth": 2
          },
          "yaxis": {
           "automargin": true,
           "gridcolor": "white",
           "linecolor": "white",
           "ticks": "",
           "title": {
            "standoff": 15
           },
           "zerolinecolor": "white",
           "zerolinewidth": 2
          }
         }
        },
        "title": {
         "text": "Distance vs Departure Time"
        },
        "xaxis": {
         "title": {
          "text": "Distance"
         }
        },
        "yaxis": {
         "title": {
          "text": "DepTime"
         }
        }
       }
      }
     },
     "metadata": {},
     "output_type": "display_data"
    }
   ],
   "source": [
    "#First we will create an empty figure ising go.Figure()\n",
    "fig=go.Figure()\n",
    "#Next we will create a scatter plot by using the add_trace function and use the go.scatter() function within it\n",
    "# In go.Scatter we define the x-axis data,y-axis data and define the mode as markers with color of the marker as red\n",
    "fig.add_trace(go.Scatter(x=data['Distance'], y=data['DepTime'], mode='markers', marker=dict(color='red')))\n",
    "fig.update_layout(title='Distance vs Departure Time', xaxis_title='Distance', yaxis_title='DepTime')\n",
    "# Display the figure\n",
    "fig.show()"
   ]
  },
  {
   "cell_type": "markdown",
   "id": "06ff523d-0e1b-4101-81f6-7f3c81863447",
   "metadata": {},
   "source": [
    "Can we rewrite the above code using px.scatter? if yes how? "
   ]
  },
  {
   "cell_type": "code",
   "execution_count": 25,
   "id": "85149a55-276c-47a8-95ae-90c00500c802",
   "metadata": {},
   "outputs": [
    {
     "data": {
      "application/vnd.plotly.v1+json": {
       "config": {
        "plotlyServerURL": "https://plot.ly"
       },
       "data": [
        {
         "hovertemplate": "Distance=%{x}<br>DeptTime=%{y}<extra></extra>",
         "legendgroup": "",
         "marker": {
          "color": "#636efa",
          "symbol": "circle"
         },
         "mode": "markers",
         "name": "",
         "orientation": "v",
         "showlegend": false,
         "type": "scatter",
         "x": {
          "bdata": "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",
          "dtype": "f8"
         },
         "xaxis": "x",
         "y": {
          "bdata": "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",
          "dtype": "f8"
         },
         "yaxis": "y"
        }
       ],
       "layout": {
        "legend": {
         "tracegroupgap": 0
        },
        "template": {
         "data": {
          "bar": [
           {
            "error_x": {
             "color": "#2a3f5f"
            },
            "error_y": {
             "color": "#2a3f5f"
            },
            "marker": {
             "line": {
              "color": "#E5ECF6",
              "width": 0.5
             },
             "pattern": {
              "fillmode": "overlay",
              "size": 10,
              "solidity": 0.2
             }
            },
            "type": "bar"
           }
          ],
          "barpolar": [
           {
            "marker": {
             "line": {
              "color": "#E5ECF6",
              "width": 0.5
             },
             "pattern": {
              "fillmode": "overlay",
              "size": 10,
              "solidity": 0.2
             }
            },
            "type": "barpolar"
           }
          ],
          "carpet": [
           {
            "aaxis": {
             "endlinecolor": "#2a3f5f",
             "gridcolor": "white",
             "linecolor": "white",
             "minorgridcolor": "white",
             "startlinecolor": "#2a3f5f"
            },
            "baxis": {
             "endlinecolor": "#2a3f5f",
             "gridcolor": "white",
             "linecolor": "white",
             "minorgridcolor": "white",
             "startlinecolor": "#2a3f5f"
            },
            "type": "carpet"
           }
          ],
          "choropleth": [
           {
            "colorbar": {
             "outlinewidth": 0,
             "ticks": ""
            },
            "type": "choropleth"
           }
          ],
          "contour": [
           {
            "colorbar": {
             "outlinewidth": 0,
             "ticks": ""
            },
            "colorscale": [
             [
              0,
              "#0d0887"
             ],
             [
              0.1111111111111111,
              "#46039f"
             ],
             [
              0.2222222222222222,
              "#7201a8"
             ],
             [
              0.3333333333333333,
              "#9c179e"
             ],
             [
              0.4444444444444444,
              "#bd3786"
             ],
             [
              0.5555555555555556,
              "#d8576b"
             ],
             [
              0.6666666666666666,
              "#ed7953"
             ],
             [
              0.7777777777777778,
              "#fb9f3a"
             ],
             [
              0.8888888888888888,
              "#fdca26"
             ],
             [
              1,
              "#f0f921"
             ]
            ],
            "type": "contour"
           }
          ],
          "contourcarpet": [
           {
            "colorbar": {
             "outlinewidth": 0,
             "ticks": ""
            },
            "type": "contourcarpet"
           }
          ],
          "heatmap": [
           {
            "colorbar": {
             "outlinewidth": 0,
             "ticks": ""
            },
            "colorscale": [
             [
              0,
              "#0d0887"
             ],
             [
              0.1111111111111111,
              "#46039f"
             ],
             [
              0.2222222222222222,
              "#7201a8"
             ],
             [
              0.3333333333333333,
              "#9c179e"
             ],
             [
              0.4444444444444444,
              "#bd3786"
             ],
             [
              0.5555555555555556,
              "#d8576b"
             ],
             [
              0.6666666666666666,
              "#ed7953"
             ],
             [
              0.7777777777777778,
              "#fb9f3a"
             ],
             [
              0.8888888888888888,
              "#fdca26"
             ],
             [
              1,
              "#f0f921"
             ]
            ],
            "type": "heatmap"
           }
          ],
          "histogram": [
           {
            "marker": {
             "pattern": {
              "fillmode": "overlay",
              "size": 10,
              "solidity": 0.2
             }
            },
            "type": "histogram"
           }
          ],
          "histogram2d": [
           {
            "colorbar": {
             "outlinewidth": 0,
             "ticks": ""
            },
            "colorscale": [
             [
              0,
              "#0d0887"
             ],
             [
              0.1111111111111111,
              "#46039f"
             ],
             [
              0.2222222222222222,
              "#7201a8"
             ],
             [
              0.3333333333333333,
              "#9c179e"
             ],
             [
              0.4444444444444444,
              "#bd3786"
             ],
             [
              0.5555555555555556,
              "#d8576b"
             ],
             [
              0.6666666666666666,
              "#ed7953"
             ],
             [
              0.7777777777777778,
              "#fb9f3a"
             ],
             [
              0.8888888888888888,
              "#fdca26"
             ],
             [
              1,
              "#f0f921"
             ]
            ],
            "type": "histogram2d"
           }
          ],
          "histogram2dcontour": [
           {
            "colorbar": {
             "outlinewidth": 0,
             "ticks": ""
            },
            "colorscale": [
             [
              0,
              "#0d0887"
             ],
             [
              0.1111111111111111,
              "#46039f"
             ],
             [
              0.2222222222222222,
              "#7201a8"
             ],
             [
              0.3333333333333333,
              "#9c179e"
             ],
             [
              0.4444444444444444,
              "#bd3786"
             ],
             [
              0.5555555555555556,
              "#d8576b"
             ],
             [
              0.6666666666666666,
              "#ed7953"
             ],
             [
              0.7777777777777778,
              "#fb9f3a"
             ],
             [
              0.8888888888888888,
              "#fdca26"
             ],
             [
              1,
              "#f0f921"
             ]
            ],
            "type": "histogram2dcontour"
           }
          ],
          "mesh3d": [
           {
            "colorbar": {
             "outlinewidth": 0,
             "ticks": ""
            },
            "type": "mesh3d"
           }
          ],
          "parcoords": [
           {
            "line": {
             "colorbar": {
              "outlinewidth": 0,
              "ticks": ""
             }
            },
            "type": "parcoords"
           }
          ],
          "pie": [
           {
            "automargin": true,
            "type": "pie"
           }
          ],
          "scatter": [
           {
            "fillpattern": {
             "fillmode": "overlay",
             "size": 10,
             "solidity": 0.2
            },
            "type": "scatter"
           }
          ],
          "scatter3d": [
           {
            "line": {
             "colorbar": {
              "outlinewidth": 0,
              "ticks": ""
             }
            },
            "marker": {
             "colorbar": {
              "outlinewidth": 0,
              "ticks": ""
             }
            },
            "type": "scatter3d"
           }
          ],
          "scattercarpet": [
           {
            "marker": {
             "colorbar": {
              "outlinewidth": 0,
              "ticks": ""
             }
            },
            "type": "scattercarpet"
           }
          ],
          "scattergeo": [
           {
            "marker": {
             "colorbar": {
              "outlinewidth": 0,
              "ticks": ""
             }
            },
            "type": "scattergeo"
           }
          ],
          "scattergl": [
           {
            "marker": {
             "colorbar": {
              "outlinewidth": 0,
              "ticks": ""
             }
            },
            "type": "scattergl"
           }
          ],
          "scattermap": [
           {
            "marker": {
             "colorbar": {
              "outlinewidth": 0,
              "ticks": ""
             }
            },
            "type": "scattermap"
           }
          ],
          "scattermapbox": [
           {
            "marker": {
             "colorbar": {
              "outlinewidth": 0,
              "ticks": ""
             }
            },
            "type": "scattermapbox"
           }
          ],
          "scatterpolar": [
           {
            "marker": {
             "colorbar": {
              "outlinewidth": 0,
              "ticks": ""
             }
            },
            "type": "scatterpolar"
           }
          ],
          "scatterpolargl": [
           {
            "marker": {
             "colorbar": {
              "outlinewidth": 0,
              "ticks": ""
             }
            },
            "type": "scatterpolargl"
           }
          ],
          "scatterternary": [
           {
            "marker": {
             "colorbar": {
              "outlinewidth": 0,
              "ticks": ""
             }
            },
            "type": "scatterternary"
           }
          ],
          "surface": [
           {
            "colorbar": {
             "outlinewidth": 0,
             "ticks": ""
            },
            "colorscale": [
             [
              0,
              "#0d0887"
             ],
             [
              0.1111111111111111,
              "#46039f"
             ],
             [
              0.2222222222222222,
              "#7201a8"
             ],
             [
              0.3333333333333333,
              "#9c179e"
             ],
             [
              0.4444444444444444,
              "#bd3786"
             ],
             [
              0.5555555555555556,
              "#d8576b"
             ],
             [
              0.6666666666666666,
              "#ed7953"
             ],
             [
              0.7777777777777778,
              "#fb9f3a"
             ],
             [
              0.8888888888888888,
              "#fdca26"
             ],
             [
              1,
              "#f0f921"
             ]
            ],
            "type": "surface"
           }
          ],
          "table": [
           {
            "cells": {
             "fill": {
              "color": "#EBF0F8"
             },
             "line": {
              "color": "white"
             }
            },
            "header": {
             "fill": {
              "color": "#C8D4E3"
             },
             "line": {
              "color": "white"
             }
            },
            "type": "table"
           }
          ]
         },
         "layout": {
          "annotationdefaults": {
           "arrowcolor": "#2a3f5f",
           "arrowhead": 0,
           "arrowwidth": 1
          },
          "autotypenumbers": "strict",
          "coloraxis": {
           "colorbar": {
            "outlinewidth": 0,
            "ticks": ""
           }
          },
          "colorscale": {
           "diverging": [
            [
             0,
             "#8e0152"
            ],
            [
             0.1,
             "#c51b7d"
            ],
            [
             0.2,
             "#de77ae"
            ],
            [
             0.3,
             "#f1b6da"
            ],
            [
             0.4,
             "#fde0ef"
            ],
            [
             0.5,
             "#f7f7f7"
            ],
            [
             0.6,
             "#e6f5d0"
            ],
            [
             0.7,
             "#b8e186"
            ],
            [
             0.8,
             "#7fbc41"
            ],
            [
             0.9,
             "#4d9221"
            ],
            [
             1,
             "#276419"
            ]
           ],
           "sequential": [
            [
             0,
             "#0d0887"
            ],
            [
             0.1111111111111111,
             "#46039f"
            ],
            [
             0.2222222222222222,
             "#7201a8"
            ],
            [
             0.3333333333333333,
             "#9c179e"
            ],
            [
             0.4444444444444444,
             "#bd3786"
            ],
            [
             0.5555555555555556,
             "#d8576b"
            ],
            [
             0.6666666666666666,
             "#ed7953"
            ],
            [
             0.7777777777777778,
             "#fb9f3a"
            ],
            [
             0.8888888888888888,
             "#fdca26"
            ],
            [
             1,
             "#f0f921"
            ]
           ],
           "sequentialminus": [
            [
             0,
             "#0d0887"
            ],
            [
             0.1111111111111111,
             "#46039f"
            ],
            [
             0.2222222222222222,
             "#7201a8"
            ],
            [
             0.3333333333333333,
             "#9c179e"
            ],
            [
             0.4444444444444444,
             "#bd3786"
            ],
            [
             0.5555555555555556,
             "#d8576b"
            ],
            [
             0.6666666666666666,
             "#ed7953"
            ],
            [
             0.7777777777777778,
             "#fb9f3a"
            ],
            [
             0.8888888888888888,
             "#fdca26"
            ],
            [
             1,
             "#f0f921"
            ]
           ]
          },
          "colorway": [
           "#636efa",
           "#EF553B",
           "#00cc96",
           "#ab63fa",
           "#FFA15A",
           "#19d3f3",
           "#FF6692",
           "#B6E880",
           "#FF97FF",
           "#FECB52"
          ],
          "font": {
           "color": "#2a3f5f"
          },
          "geo": {
           "bgcolor": "white",
           "lakecolor": "white",
           "landcolor": "#E5ECF6",
           "showlakes": true,
           "showland": true,
           "subunitcolor": "white"
          },
          "hoverlabel": {
           "align": "left"
          },
          "hovermode": "closest",
          "mapbox": {
           "style": "light"
          },
          "paper_bgcolor": "white",
          "plot_bgcolor": "#E5ECF6",
          "polar": {
           "angularaxis": {
            "gridcolor": "white",
            "linecolor": "white",
            "ticks": ""
           },
           "bgcolor": "#E5ECF6",
           "radialaxis": {
            "gridcolor": "white",
            "linecolor": "white",
            "ticks": ""
           }
          },
          "scene": {
           "xaxis": {
            "backgroundcolor": "#E5ECF6",
            "gridcolor": "white",
            "gridwidth": 2,
            "linecolor": "white",
            "showbackground": true,
            "ticks": "",
            "zerolinecolor": "white"
           },
           "yaxis": {
            "backgroundcolor": "#E5ECF6",
            "gridcolor": "white",
            "gridwidth": 2,
            "linecolor": "white",
            "showbackground": true,
            "ticks": "",
            "zerolinecolor": "white"
           },
           "zaxis": {
            "backgroundcolor": "#E5ECF6",
            "gridcolor": "white",
            "gridwidth": 2,
            "linecolor": "white",
            "showbackground": true,
            "ticks": "",
            "zerolinecolor": "white"
           }
          },
          "shapedefaults": {
           "line": {
            "color": "#2a3f5f"
           }
          },
          "ternary": {
           "aaxis": {
            "gridcolor": "white",
            "linecolor": "white",
            "ticks": ""
           },
           "baxis": {
            "gridcolor": "white",
            "linecolor": "white",
            "ticks": ""
           },
           "bgcolor": "#E5ECF6",
           "caxis": {
            "gridcolor": "white",
            "linecolor": "white",
            "ticks": ""
           }
          },
          "title": {
           "x": 0.05
          },
          "xaxis": {
           "automargin": true,
           "gridcolor": "white",
           "linecolor": "white",
           "ticks": "",
           "title": {
            "standoff": 15
           },
           "zerolinecolor": "white",
           "zerolinewidth": 2
          },
          "yaxis": {
           "automargin": true,
           "gridcolor": "white",
           "linecolor": "white",
           "ticks": "",
           "title": {
            "standoff": 15
           },
           "zerolinecolor": "white",
           "zerolinewidth": 2
          }
         }
        },
        "title": {
         "text": "Distance vs Departure Time"
        },
        "xaxis": {
         "anchor": "y",
         "domain": [
          0,
          1
         ],
         "title": {
          "text": "Distance"
         }
        },
        "yaxis": {
         "anchor": "x",
         "domain": [
          0,
          1
         ],
         "title": {
          "text": "DeptTime"
         }
        }
       }
      }
     },
     "metadata": {},
     "output_type": "display_data"
    }
   ],
   "source": [
    "fig=px.scatter(x=data['Distance'], y=data['DepTime'], title='Distance vs Departure Time', labels=dict(x='Distance', y='DeptTime'))\n",
    "fig.show()"
   ]
  },
  {
   "cell_type": "markdown",
   "id": "10fc73a0-549a-4458-8d74-ddaf14edbddc",
   "metadata": {},
   "source": [
    "## 2. Line Plot\n",
    "\n",
    "A line plot shows information that changes continuously with time. Here the data points are connected by straight lines. Line plots are also plotted on a two dimensional plane like scatter plots. Using line plots, we can create exciting visualizations to illustrate:\n",
    "\n",
    "  * Annual revenue growth\n",
    "  * Stock Market analysis over time\n",
    "  * Product Sales over time\n"
   ]
  },
  {
   "cell_type": "markdown",
   "id": "a4eedb6b-a002-4318-83c5-8426efe75453",
   "metadata": {},
   "source": [
    "Let us now use a line plot to extract average monthly arrival delay time and see how it changes over the year.\n",
    "\n",
    "  This plot should contain the following\n",
    "\n",
    "* Title as **Month vs Average Flight Delay Time**.\n",
    "* x-axis label should be **Month**\n",
    "* y-axis label should be **ArrDelay**\n",
    "* A new dataframe **line_data** should be created which consists of 2 columns average **arrival delay time per month** and **month** from the dataset\n",
    "* **Month** column data from the line_data dataframe should be considered in x-axis\n",
    "* **ArrDelay** column data from the ine_data dataframeshould be considered in y-axis\n",
    "* Plotted line in the line plot should be of green color"
   ]
  },
  {
   "cell_type": "code",
   "execution_count": 26,
   "id": "311194e4-484a-4e13-9e63-c0e8090c2e8f",
   "metadata": {},
   "outputs": [],
   "source": [
    "line_data = data.groupby('Month')['ArrDelay'].mean().reset_index()"
   ]
  },
  {
   "cell_type": "code",
   "execution_count": 16,
   "id": "6e0b4b5e-1025-4161-8ed2-3f742c476033",
   "metadata": {},
   "outputs": [
    {
     "data": {
      "text/html": [
       "<div>\n",
       "<style scoped>\n",
       "    .dataframe tbody tr th:only-of-type {\n",
       "        vertical-align: middle;\n",
       "    }\n",
       "\n",
       "    .dataframe tbody tr th {\n",
       "        vertical-align: top;\n",
       "    }\n",
       "\n",
       "    .dataframe thead th {\n",
       "        text-align: right;\n",
       "    }\n",
       "</style>\n",
       "<table border=\"1\" class=\"dataframe\">\n",
       "  <thead>\n",
       "    <tr style=\"text-align: right;\">\n",
       "      <th></th>\n",
       "      <th>Month</th>\n",
       "      <th>ArrDelay</th>\n",
       "    </tr>\n",
       "  </thead>\n",
       "  <tbody>\n",
       "    <tr>\n",
       "      <th>0</th>\n",
       "      <td>1</td>\n",
       "      <td>2.232558</td>\n",
       "    </tr>\n",
       "    <tr>\n",
       "      <th>1</th>\n",
       "      <td>2</td>\n",
       "      <td>2.687500</td>\n",
       "    </tr>\n",
       "    <tr>\n",
       "      <th>2</th>\n",
       "      <td>3</td>\n",
       "      <td>10.868421</td>\n",
       "    </tr>\n",
       "    <tr>\n",
       "      <th>3</th>\n",
       "      <td>4</td>\n",
       "      <td>6.229167</td>\n",
       "    </tr>\n",
       "    <tr>\n",
       "      <th>4</th>\n",
       "      <td>5</td>\n",
       "      <td>-0.279070</td>\n",
       "    </tr>\n",
       "    <tr>\n",
       "      <th>5</th>\n",
       "      <td>6</td>\n",
       "      <td>17.310345</td>\n",
       "    </tr>\n",
       "    <tr>\n",
       "      <th>6</th>\n",
       "      <td>7</td>\n",
       "      <td>5.088889</td>\n",
       "    </tr>\n",
       "    <tr>\n",
       "      <th>7</th>\n",
       "      <td>8</td>\n",
       "      <td>3.121951</td>\n",
       "    </tr>\n",
       "    <tr>\n",
       "      <th>8</th>\n",
       "      <td>9</td>\n",
       "      <td>9.081081</td>\n",
       "    </tr>\n",
       "    <tr>\n",
       "      <th>9</th>\n",
       "      <td>10</td>\n",
       "      <td>1.200000</td>\n",
       "    </tr>\n",
       "    <tr>\n",
       "      <th>10</th>\n",
       "      <td>11</td>\n",
       "      <td>-3.975000</td>\n",
       "    </tr>\n",
       "    <tr>\n",
       "      <th>11</th>\n",
       "      <td>12</td>\n",
       "      <td>3.240741</td>\n",
       "    </tr>\n",
       "  </tbody>\n",
       "</table>\n",
       "</div>"
      ],
      "text/plain": [
       "    Month   ArrDelay\n",
       "0       1   2.232558\n",
       "1       2   2.687500\n",
       "2       3  10.868421\n",
       "3       4   6.229167\n",
       "4       5  -0.279070\n",
       "5       6  17.310345\n",
       "6       7   5.088889\n",
       "7       8   3.121951\n",
       "8       9   9.081081\n",
       "9      10   1.200000\n",
       "10     11  -3.975000\n",
       "11     12   3.240741"
      ]
     },
     "execution_count": 16,
     "metadata": {},
     "output_type": "execute_result"
    }
   ],
   "source": [
    "line_data"
   ]
  },
  {
   "cell_type": "code",
   "execution_count": 38,
   "id": "f3b09253-f66a-40ca-b1d6-f9a6ed35d382",
   "metadata": {},
   "outputs": [
    {
     "data": {
      "application/vnd.plotly.v1+json": {
       "config": {
        "plotlyServerURL": "https://plot.ly"
       },
       "data": [
        {
         "marker": {
          "color": "red"
         },
         "mode": "lines+markers",
         "type": "scatter",
         "x": [
          "Jan",
          "Feb",
          "Mar",
          "Apr",
          "May",
          "Jun",
          "Jul",
          "Aug",
          "Sep",
          "Oct",
          "Nov",
          "Dec"
         ],
         "y": {
          "bdata": "d8QdcUfcAUAAAAAAAIAFQMprKK+hvCVAq6qqqqrqGEB3xB1xR9zRvyz3NMJyTzFAsAVbsAVbFED6GJyPwfkIQJgin3WDKSJAMzMzMzMz8z/NzMzMzMwPwNFeQnsJ7QlA",
          "dtype": "f8"
         }
        }
       ],
       "layout": {
        "template": {
         "data": {
          "bar": [
           {
            "error_x": {
             "color": "#2a3f5f"
            },
            "error_y": {
             "color": "#2a3f5f"
            },
            "marker": {
             "line": {
              "color": "#E5ECF6",
              "width": 0.5
             },
             "pattern": {
              "fillmode": "overlay",
              "size": 10,
              "solidity": 0.2
             }
            },
            "type": "bar"
           }
          ],
          "barpolar": [
           {
            "marker": {
             "line": {
              "color": "#E5ECF6",
              "width": 0.5
             },
             "pattern": {
              "fillmode": "overlay",
              "size": 10,
              "solidity": 0.2
             }
            },
            "type": "barpolar"
           }
          ],
          "carpet": [
           {
            "aaxis": {
             "endlinecolor": "#2a3f5f",
             "gridcolor": "white",
             "linecolor": "white",
             "minorgridcolor": "white",
             "startlinecolor": "#2a3f5f"
            },
            "baxis": {
             "endlinecolor": "#2a3f5f",
             "gridcolor": "white",
             "linecolor": "white",
             "minorgridcolor": "white",
             "startlinecolor": "#2a3f5f"
            },
            "type": "carpet"
           }
          ],
          "choropleth": [
           {
            "colorbar": {
             "outlinewidth": 0,
             "ticks": ""
            },
            "type": "choropleth"
           }
          ],
          "contour": [
           {
            "colorbar": {
             "outlinewidth": 0,
             "ticks": ""
            },
            "colorscale": [
             [
              0,
              "#0d0887"
             ],
             [
              0.1111111111111111,
              "#46039f"
             ],
             [
              0.2222222222222222,
              "#7201a8"
             ],
             [
              0.3333333333333333,
              "#9c179e"
             ],
             [
              0.4444444444444444,
              "#bd3786"
             ],
             [
              0.5555555555555556,
              "#d8576b"
             ],
             [
              0.6666666666666666,
              "#ed7953"
             ],
             [
              0.7777777777777778,
              "#fb9f3a"
             ],
             [
              0.8888888888888888,
              "#fdca26"
             ],
             [
              1,
              "#f0f921"
             ]
            ],
            "type": "contour"
           }
          ],
          "contourcarpet": [
           {
            "colorbar": {
             "outlinewidth": 0,
             "ticks": ""
            },
            "type": "contourcarpet"
           }
          ],
          "heatmap": [
           {
            "colorbar": {
             "outlinewidth": 0,
             "ticks": ""
            },
            "colorscale": [
             [
              0,
              "#0d0887"
             ],
             [
              0.1111111111111111,
              "#46039f"
             ],
             [
              0.2222222222222222,
              "#7201a8"
             ],
             [
              0.3333333333333333,
              "#9c179e"
             ],
             [
              0.4444444444444444,
              "#bd3786"
             ],
             [
              0.5555555555555556,
              "#d8576b"
             ],
             [
              0.6666666666666666,
              "#ed7953"
             ],
             [
              0.7777777777777778,
              "#fb9f3a"
             ],
             [
              0.8888888888888888,
              "#fdca26"
             ],
             [
              1,
              "#f0f921"
             ]
            ],
            "type": "heatmap"
           }
          ],
          "histogram": [
           {
            "marker": {
             "pattern": {
              "fillmode": "overlay",
              "size": 10,
              "solidity": 0.2
             }
            },
            "type": "histogram"
           }
          ],
          "histogram2d": [
           {
            "colorbar": {
             "outlinewidth": 0,
             "ticks": ""
            },
            "colorscale": [
             [
              0,
              "#0d0887"
             ],
             [
              0.1111111111111111,
              "#46039f"
             ],
             [
              0.2222222222222222,
              "#7201a8"
             ],
             [
              0.3333333333333333,
              "#9c179e"
             ],
             [
              0.4444444444444444,
              "#bd3786"
             ],
             [
              0.5555555555555556,
              "#d8576b"
             ],
             [
              0.6666666666666666,
              "#ed7953"
             ],
             [
              0.7777777777777778,
              "#fb9f3a"
             ],
             [
              0.8888888888888888,
              "#fdca26"
             ],
             [
              1,
              "#f0f921"
             ]
            ],
            "type": "histogram2d"
           }
          ],
          "histogram2dcontour": [
           {
            "colorbar": {
             "outlinewidth": 0,
             "ticks": ""
            },
            "colorscale": [
             [
              0,
              "#0d0887"
             ],
             [
              0.1111111111111111,
              "#46039f"
             ],
             [
              0.2222222222222222,
              "#7201a8"
             ],
             [
              0.3333333333333333,
              "#9c179e"
             ],
             [
              0.4444444444444444,
              "#bd3786"
             ],
             [
              0.5555555555555556,
              "#d8576b"
             ],
             [
              0.6666666666666666,
              "#ed7953"
             ],
             [
              0.7777777777777778,
              "#fb9f3a"
             ],
             [
              0.8888888888888888,
              "#fdca26"
             ],
             [
              1,
              "#f0f921"
             ]
            ],
            "type": "histogram2dcontour"
           }
          ],
          "mesh3d": [
           {
            "colorbar": {
             "outlinewidth": 0,
             "ticks": ""
            },
            "type": "mesh3d"
           }
          ],
          "parcoords": [
           {
            "line": {
             "colorbar": {
              "outlinewidth": 0,
              "ticks": ""
             }
            },
            "type": "parcoords"
           }
          ],
          "pie": [
           {
            "automargin": true,
            "type": "pie"
           }
          ],
          "scatter": [
           {
            "fillpattern": {
             "fillmode": "overlay",
             "size": 10,
             "solidity": 0.2
            },
            "type": "scatter"
           }
          ],
          "scatter3d": [
           {
            "line": {
             "colorbar": {
              "outlinewidth": 0,
              "ticks": ""
             }
            },
            "marker": {
             "colorbar": {
              "outlinewidth": 0,
              "ticks": ""
             }
            },
            "type": "scatter3d"
           }
          ],
          "scattercarpet": [
           {
            "marker": {
             "colorbar": {
              "outlinewidth": 0,
              "ticks": ""
             }
            },
            "type": "scattercarpet"
           }
          ],
          "scattergeo": [
           {
            "marker": {
             "colorbar": {
              "outlinewidth": 0,
              "ticks": ""
             }
            },
            "type": "scattergeo"
           }
          ],
          "scattergl": [
           {
            "marker": {
             "colorbar": {
              "outlinewidth": 0,
              "ticks": ""
             }
            },
            "type": "scattergl"
           }
          ],
          "scattermap": [
           {
            "marker": {
             "colorbar": {
              "outlinewidth": 0,
              "ticks": ""
             }
            },
            "type": "scattermap"
           }
          ],
          "scattermapbox": [
           {
            "marker": {
             "colorbar": {
              "outlinewidth": 0,
              "ticks": ""
             }
            },
            "type": "scattermapbox"
           }
          ],
          "scatterpolar": [
           {
            "marker": {
             "colorbar": {
              "outlinewidth": 0,
              "ticks": ""
             }
            },
            "type": "scatterpolar"
           }
          ],
          "scatterpolargl": [
           {
            "marker": {
             "colorbar": {
              "outlinewidth": 0,
              "ticks": ""
             }
            },
            "type": "scatterpolargl"
           }
          ],
          "scatterternary": [
           {
            "marker": {
             "colorbar": {
              "outlinewidth": 0,
              "ticks": ""
             }
            },
            "type": "scatterternary"
           }
          ],
          "surface": [
           {
            "colorbar": {
             "outlinewidth": 0,
             "ticks": ""
            },
            "colorscale": [
             [
              0,
              "#0d0887"
             ],
             [
              0.1111111111111111,
              "#46039f"
             ],
             [
              0.2222222222222222,
              "#7201a8"
             ],
             [
              0.3333333333333333,
              "#9c179e"
             ],
             [
              0.4444444444444444,
              "#bd3786"
             ],
             [
              0.5555555555555556,
              "#d8576b"
             ],
             [
              0.6666666666666666,
              "#ed7953"
             ],
             [
              0.7777777777777778,
              "#fb9f3a"
             ],
             [
              0.8888888888888888,
              "#fdca26"
             ],
             [
              1,
              "#f0f921"
             ]
            ],
            "type": "surface"
           }
          ],
          "table": [
           {
            "cells": {
             "fill": {
              "color": "#EBF0F8"
             },
             "line": {
              "color": "white"
             }
            },
            "header": {
             "fill": {
              "color": "#C8D4E3"
             },
             "line": {
              "color": "white"
             }
            },
            "type": "table"
           }
          ]
         },
         "layout": {
          "annotationdefaults": {
           "arrowcolor": "#2a3f5f",
           "arrowhead": 0,
           "arrowwidth": 1
          },
          "autotypenumbers": "strict",
          "coloraxis": {
           "colorbar": {
            "outlinewidth": 0,
            "ticks": ""
           }
          },
          "colorscale": {
           "diverging": [
            [
             0,
             "#8e0152"
            ],
            [
             0.1,
             "#c51b7d"
            ],
            [
             0.2,
             "#de77ae"
            ],
            [
             0.3,
             "#f1b6da"
            ],
            [
             0.4,
             "#fde0ef"
            ],
            [
             0.5,
             "#f7f7f7"
            ],
            [
             0.6,
             "#e6f5d0"
            ],
            [
             0.7,
             "#b8e186"
            ],
            [
             0.8,
             "#7fbc41"
            ],
            [
             0.9,
             "#4d9221"
            ],
            [
             1,
             "#276419"
            ]
           ],
           "sequential": [
            [
             0,
             "#0d0887"
            ],
            [
             0.1111111111111111,
             "#46039f"
            ],
            [
             0.2222222222222222,
             "#7201a8"
            ],
            [
             0.3333333333333333,
             "#9c179e"
            ],
            [
             0.4444444444444444,
             "#bd3786"
            ],
            [
             0.5555555555555556,
             "#d8576b"
            ],
            [
             0.6666666666666666,
             "#ed7953"
            ],
            [
             0.7777777777777778,
             "#fb9f3a"
            ],
            [
             0.8888888888888888,
             "#fdca26"
            ],
            [
             1,
             "#f0f921"
            ]
           ],
           "sequentialminus": [
            [
             0,
             "#0d0887"
            ],
            [
             0.1111111111111111,
             "#46039f"
            ],
            [
             0.2222222222222222,
             "#7201a8"
            ],
            [
             0.3333333333333333,
             "#9c179e"
            ],
            [
             0.4444444444444444,
             "#bd3786"
            ],
            [
             0.5555555555555556,
             "#d8576b"
            ],
            [
             0.6666666666666666,
             "#ed7953"
            ],
            [
             0.7777777777777778,
             "#fb9f3a"
            ],
            [
             0.8888888888888888,
             "#fdca26"
            ],
            [
             1,
             "#f0f921"
            ]
           ]
          },
          "colorway": [
           "#636efa",
           "#EF553B",
           "#00cc96",
           "#ab63fa",
           "#FFA15A",
           "#19d3f3",
           "#FF6692",
           "#B6E880",
           "#FF97FF",
           "#FECB52"
          ],
          "font": {
           "color": "#2a3f5f"
          },
          "geo": {
           "bgcolor": "white",
           "lakecolor": "white",
           "landcolor": "#E5ECF6",
           "showlakes": true,
           "showland": true,
           "subunitcolor": "white"
          },
          "hoverlabel": {
           "align": "left"
          },
          "hovermode": "closest",
          "mapbox": {
           "style": "light"
          },
          "paper_bgcolor": "white",
          "plot_bgcolor": "#E5ECF6",
          "polar": {
           "angularaxis": {
            "gridcolor": "white",
            "linecolor": "white",
            "ticks": ""
           },
           "bgcolor": "#E5ECF6",
           "radialaxis": {
            "gridcolor": "white",
            "linecolor": "white",
            "ticks": ""
           }
          },
          "scene": {
           "xaxis": {
            "backgroundcolor": "#E5ECF6",
            "gridcolor": "white",
            "gridwidth": 2,
            "linecolor": "white",
            "showbackground": true,
            "ticks": "",
            "zerolinecolor": "white"
           },
           "yaxis": {
            "backgroundcolor": "#E5ECF6",
            "gridcolor": "white",
            "gridwidth": 2,
            "linecolor": "white",
            "showbackground": true,
            "ticks": "",
            "zerolinecolor": "white"
           },
           "zaxis": {
            "backgroundcolor": "#E5ECF6",
            "gridcolor": "white",
            "gridwidth": 2,
            "linecolor": "white",
            "showbackground": true,
            "ticks": "",
            "zerolinecolor": "white"
           }
          },
          "shapedefaults": {
           "line": {
            "color": "#2a3f5f"
           }
          },
          "ternary": {
           "aaxis": {
            "gridcolor": "white",
            "linecolor": "white",
            "ticks": ""
           },
           "baxis": {
            "gridcolor": "white",
            "linecolor": "white",
            "ticks": ""
           },
           "bgcolor": "#E5ECF6",
           "caxis": {
            "gridcolor": "white",
            "linecolor": "white",
            "ticks": ""
           }
          },
          "title": {
           "x": 0.05
          },
          "xaxis": {
           "automargin": true,
           "gridcolor": "white",
           "linecolor": "white",
           "ticks": "",
           "title": {
            "standoff": 15
           },
           "zerolinecolor": "white",
           "zerolinewidth": 2
          },
          "yaxis": {
           "automargin": true,
           "gridcolor": "white",
           "linecolor": "white",
           "ticks": "",
           "title": {
            "standoff": 15
           },
           "zerolinecolor": "white",
           "zerolinewidth": 2
          }
         }
        },
        "title": {
         "text": "Month vs Average Flight Delay Time"
        },
        "xaxis": {
         "title": {
          "text": "Month"
         }
        },
        "yaxis": {
         "title": {
          "text": "ArrDelay"
         }
        }
       }
      }
     },
     "metadata": {},
     "output_type": "display_data"
    }
   ],
   "source": [
    "fig=go.Figure()\n",
    "fig.add_trace(go.Scatter(x=line_data['Month'], y=line_data['ArrDelay'], mode='lines+markers', marker=dict(color='red')))\n",
    "fig.update_layout(title='Month vs Average Flight Delay Time', xaxis_title='Month', yaxis_title='ArrDelay')\n",
    "fig.show()"
   ]
  },
  {
   "cell_type": "markdown",
   "id": "880f1832-f769-4790-a12a-ba87c10acb79",
   "metadata": {},
   "source": [
    "## 3.Bar Plot: \n",
    "A bar plot represents categorical data in rectangular bars. Each category is defined on one axis, and the value counts for this category are represented on another axis. Bar charts are generally used to compare values.We can use bar plots in visualizing:\n",
    "\n",
    " * Pizza delivery time in peak and non peak hours\n",
    " * Population comparison by gender\n",
    " * Number of views by movie name"
   ]
  },
  {
   "cell_type": "markdown",
   "id": "1f67b095-514b-4306-ab14-e27d269ea474",
   "metadata": {},
   "source": [
    "Let us use a bar chart to extract number of flights that goes to a destination\n",
    "\n",
    "This plot should contain the following\n",
    "\n",
    "* Title as **Total number of flights to the destination state split by reporting air**.\n",
    "* x-axis label should be **DestState**\n",
    "* y-axis label should be **Flights**\n",
    "* Create a new dataframe called **bar_data**  which contains 2 columns **DestState** and **Flights**.Here **flights** indicate total number of flights in each combination."
   ]
  },
  {
   "cell_type": "code",
   "execution_count": 28,
   "id": "fc777a0c-ccd0-4a14-8a6a-f89988b5d6f0",
   "metadata": {
    "scrolled": true
   },
   "outputs": [
    {
     "data": {
      "text/html": [
       "<div>\n",
       "<style scoped>\n",
       "    .dataframe tbody tr th:only-of-type {\n",
       "        vertical-align: middle;\n",
       "    }\n",
       "\n",
       "    .dataframe tbody tr th {\n",
       "        vertical-align: top;\n",
       "    }\n",
       "\n",
       "    .dataframe thead th {\n",
       "        text-align: right;\n",
       "    }\n",
       "</style>\n",
       "<table border=\"1\" class=\"dataframe\">\n",
       "  <thead>\n",
       "    <tr style=\"text-align: right;\">\n",
       "      <th></th>\n",
       "      <th>DestState</th>\n",
       "      <th>Flights</th>\n",
       "    </tr>\n",
       "  </thead>\n",
       "  <tbody>\n",
       "    <tr>\n",
       "      <th>0</th>\n",
       "      <td>AK</td>\n",
       "      <td>1.0</td>\n",
       "    </tr>\n",
       "    <tr>\n",
       "      <th>1</th>\n",
       "      <td>AL</td>\n",
       "      <td>1.0</td>\n",
       "    </tr>\n",
       "    <tr>\n",
       "      <th>2</th>\n",
       "      <td>AZ</td>\n",
       "      <td>1.0</td>\n",
       "    </tr>\n",
       "    <tr>\n",
       "      <th>3</th>\n",
       "      <td>CA</td>\n",
       "      <td>1.0</td>\n",
       "    </tr>\n",
       "    <tr>\n",
       "      <th>4</th>\n",
       "      <td>CO</td>\n",
       "      <td>1.0</td>\n",
       "    </tr>\n",
       "    <tr>\n",
       "      <th>5</th>\n",
       "      <td>CT</td>\n",
       "      <td>1.0</td>\n",
       "    </tr>\n",
       "    <tr>\n",
       "      <th>6</th>\n",
       "      <td>FL</td>\n",
       "      <td>1.0</td>\n",
       "    </tr>\n",
       "    <tr>\n",
       "      <th>7</th>\n",
       "      <td>GA</td>\n",
       "      <td>1.0</td>\n",
       "    </tr>\n",
       "    <tr>\n",
       "      <th>8</th>\n",
       "      <td>HI</td>\n",
       "      <td>1.0</td>\n",
       "    </tr>\n",
       "    <tr>\n",
       "      <th>9</th>\n",
       "      <td>IA</td>\n",
       "      <td>1.0</td>\n",
       "    </tr>\n",
       "    <tr>\n",
       "      <th>10</th>\n",
       "      <td>ID</td>\n",
       "      <td>1.0</td>\n",
       "    </tr>\n",
       "    <tr>\n",
       "      <th>11</th>\n",
       "      <td>IL</td>\n",
       "      <td>1.0</td>\n",
       "    </tr>\n",
       "    <tr>\n",
       "      <th>12</th>\n",
       "      <td>IN</td>\n",
       "      <td>1.0</td>\n",
       "    </tr>\n",
       "    <tr>\n",
       "      <th>13</th>\n",
       "      <td>KS</td>\n",
       "      <td>1.0</td>\n",
       "    </tr>\n",
       "    <tr>\n",
       "      <th>14</th>\n",
       "      <td>KY</td>\n",
       "      <td>1.0</td>\n",
       "    </tr>\n",
       "    <tr>\n",
       "      <th>15</th>\n",
       "      <td>LA</td>\n",
       "      <td>1.0</td>\n",
       "    </tr>\n",
       "    <tr>\n",
       "      <th>16</th>\n",
       "      <td>MA</td>\n",
       "      <td>1.0</td>\n",
       "    </tr>\n",
       "    <tr>\n",
       "      <th>17</th>\n",
       "      <td>MD</td>\n",
       "      <td>1.0</td>\n",
       "    </tr>\n",
       "    <tr>\n",
       "      <th>18</th>\n",
       "      <td>MI</td>\n",
       "      <td>1.0</td>\n",
       "    </tr>\n",
       "    <tr>\n",
       "      <th>19</th>\n",
       "      <td>MN</td>\n",
       "      <td>1.0</td>\n",
       "    </tr>\n",
       "    <tr>\n",
       "      <th>20</th>\n",
       "      <td>MO</td>\n",
       "      <td>1.0</td>\n",
       "    </tr>\n",
       "    <tr>\n",
       "      <th>21</th>\n",
       "      <td>MT</td>\n",
       "      <td>1.0</td>\n",
       "    </tr>\n",
       "    <tr>\n",
       "      <th>22</th>\n",
       "      <td>NC</td>\n",
       "      <td>1.0</td>\n",
       "    </tr>\n",
       "    <tr>\n",
       "      <th>23</th>\n",
       "      <td>NE</td>\n",
       "      <td>1.0</td>\n",
       "    </tr>\n",
       "    <tr>\n",
       "      <th>24</th>\n",
       "      <td>NH</td>\n",
       "      <td>1.0</td>\n",
       "    </tr>\n",
       "    <tr>\n",
       "      <th>25</th>\n",
       "      <td>NJ</td>\n",
       "      <td>1.0</td>\n",
       "    </tr>\n",
       "    <tr>\n",
       "      <th>26</th>\n",
       "      <td>NM</td>\n",
       "      <td>1.0</td>\n",
       "    </tr>\n",
       "    <tr>\n",
       "      <th>27</th>\n",
       "      <td>NV</td>\n",
       "      <td>1.0</td>\n",
       "    </tr>\n",
       "    <tr>\n",
       "      <th>28</th>\n",
       "      <td>NY</td>\n",
       "      <td>1.0</td>\n",
       "    </tr>\n",
       "    <tr>\n",
       "      <th>29</th>\n",
       "      <td>OH</td>\n",
       "      <td>1.0</td>\n",
       "    </tr>\n",
       "    <tr>\n",
       "      <th>30</th>\n",
       "      <td>OK</td>\n",
       "      <td>1.0</td>\n",
       "    </tr>\n",
       "    <tr>\n",
       "      <th>31</th>\n",
       "      <td>OR</td>\n",
       "      <td>1.0</td>\n",
       "    </tr>\n",
       "    <tr>\n",
       "      <th>32</th>\n",
       "      <td>PA</td>\n",
       "      <td>1.0</td>\n",
       "    </tr>\n",
       "    <tr>\n",
       "      <th>33</th>\n",
       "      <td>PR</td>\n",
       "      <td>1.0</td>\n",
       "    </tr>\n",
       "    <tr>\n",
       "      <th>34</th>\n",
       "      <td>RI</td>\n",
       "      <td>1.0</td>\n",
       "    </tr>\n",
       "    <tr>\n",
       "      <th>35</th>\n",
       "      <td>SC</td>\n",
       "      <td>1.0</td>\n",
       "    </tr>\n",
       "    <tr>\n",
       "      <th>36</th>\n",
       "      <td>TN</td>\n",
       "      <td>1.0</td>\n",
       "    </tr>\n",
       "    <tr>\n",
       "      <th>37</th>\n",
       "      <td>TX</td>\n",
       "      <td>1.0</td>\n",
       "    </tr>\n",
       "    <tr>\n",
       "      <th>38</th>\n",
       "      <td>UT</td>\n",
       "      <td>1.0</td>\n",
       "    </tr>\n",
       "    <tr>\n",
       "      <th>39</th>\n",
       "      <td>VA</td>\n",
       "      <td>1.0</td>\n",
       "    </tr>\n",
       "    <tr>\n",
       "      <th>40</th>\n",
       "      <td>VI</td>\n",
       "      <td>1.0</td>\n",
       "    </tr>\n",
       "    <tr>\n",
       "      <th>41</th>\n",
       "      <td>WA</td>\n",
       "      <td>1.0</td>\n",
       "    </tr>\n",
       "    <tr>\n",
       "      <th>42</th>\n",
       "      <td>WI</td>\n",
       "      <td>1.0</td>\n",
       "    </tr>\n",
       "  </tbody>\n",
       "</table>\n",
       "</div>"
      ],
      "text/plain": [
       "   DestState  Flights\n",
       "0         AK      1.0\n",
       "1         AL      1.0\n",
       "2         AZ      1.0\n",
       "3         CA      1.0\n",
       "4         CO      1.0\n",
       "5         CT      1.0\n",
       "6         FL      1.0\n",
       "7         GA      1.0\n",
       "8         HI      1.0\n",
       "9         IA      1.0\n",
       "10        ID      1.0\n",
       "11        IL      1.0\n",
       "12        IN      1.0\n",
       "13        KS      1.0\n",
       "14        KY      1.0\n",
       "15        LA      1.0\n",
       "16        MA      1.0\n",
       "17        MD      1.0\n",
       "18        MI      1.0\n",
       "19        MN      1.0\n",
       "20        MO      1.0\n",
       "21        MT      1.0\n",
       "22        NC      1.0\n",
       "23        NE      1.0\n",
       "24        NH      1.0\n",
       "25        NJ      1.0\n",
       "26        NM      1.0\n",
       "27        NV      1.0\n",
       "28        NY      1.0\n",
       "29        OH      1.0\n",
       "30        OK      1.0\n",
       "31        OR      1.0\n",
       "32        PA      1.0\n",
       "33        PR      1.0\n",
       "34        RI      1.0\n",
       "35        SC      1.0\n",
       "36        TN      1.0\n",
       "37        TX      1.0\n",
       "38        UT      1.0\n",
       "39        VA      1.0\n",
       "40        VI      1.0\n",
       "41        WA      1.0\n",
       "42        WI      1.0"
      ]
     },
     "execution_count": 28,
     "metadata": {},
     "output_type": "execute_result"
    }
   ],
   "source": [
    "bar_data = data.groupby(['DestState'])['Flights'].mean().reset_index()\n",
    "bar_data"
   ]
  },
  {
   "cell_type": "code",
   "execution_count": 50,
   "id": "714dced1-6a61-4345-884f-eda74414b30a",
   "metadata": {},
   "outputs": [
    {
     "data": {
      "application/vnd.plotly.v1+json": {
       "config": {
        "plotlyServerURL": "https://plot.ly"
       },
       "data": [
        {
         "hovertemplate": "DestState=%{x}<br>Flights=%{y}<extra></extra>",
         "legendgroup": "",
         "marker": {
          "color": "#636efa",
          "pattern": {
           "shape": ""
          }
         },
         "name": "",
         "orientation": "v",
         "showlegend": false,
         "textposition": "auto",
         "type": "bar",
         "x": [
          "AK",
          "AL",
          "AZ",
          "CA",
          "CO",
          "CT",
          "FL",
          "GA",
          "HI",
          "IA",
          "ID",
          "IL",
          "IN",
          "KS",
          "KY",
          "LA",
          "MA",
          "MD",
          "MI",
          "MN",
          "MO",
          "MT",
          "NC",
          "NE",
          "NH",
          "NJ",
          "NM",
          "NV",
          "NY",
          "OH",
          "OK",
          "OR",
          "PA",
          "PR",
          "RI",
          "SC",
          "TN",
          "TX",
          "UT",
          "VA",
          "VI",
          "WA",
          "WI"
         ],
         "xaxis": "x",
         "y": {
          "bdata": "AAAAAAAAEEAAAAAAAAAIQAAAAAAAACBAAAAAAAAAUUAAAAAAAAA0QAAAAAAAABRAAAAAAAAAQEAAAAAAAAA7QAAAAAAAABRAAAAAAAAA8D8AAAAAAADwPwAAAAAAgEBAAAAAAAAAGEAAAAAAAADwPwAAAAAAACxAAAAAAAAAEEAAAAAAAAAkQAAAAAAAABxAAAAAAAAAMEAAAAAAAAAmQAAAAAAAADJAAAAAAAAACEAAAAAAAAAqQAAAAAAAAABAAAAAAAAA8D8AAAAAAAAUQAAAAAAAAPA/AAAAAAAAKkAAAAAAAAA1QAAAAAAAACJAAAAAAAAAGEAAAAAAAAAIQAAAAAAAACxAAAAAAAAAAEAAAAAAAADwPwAAAAAAAPA/AAAAAAAALEAAAAAAAABOQAAAAAAAABxAAAAAAAAAJkAAAAAAAADwPwAAAAAAACRAAAAAAAAAIEA=",
          "dtype": "f8"
         },
         "yaxis": "y"
        }
       ],
       "layout": {
        "barmode": "relative",
        "legend": {
         "tracegroupgap": 0
        },
        "template": {
         "data": {
          "bar": [
           {
            "error_x": {
             "color": "#2a3f5f"
            },
            "error_y": {
             "color": "#2a3f5f"
            },
            "marker": {
             "line": {
              "color": "#E5ECF6",
              "width": 0.5
             },
             "pattern": {
              "fillmode": "overlay",
              "size": 10,
              "solidity": 0.2
             }
            },
            "type": "bar"
           }
          ],
          "barpolar": [
           {
            "marker": {
             "line": {
              "color": "#E5ECF6",
              "width": 0.5
             },
             "pattern": {
              "fillmode": "overlay",
              "size": 10,
              "solidity": 0.2
             }
            },
            "type": "barpolar"
           }
          ],
          "carpet": [
           {
            "aaxis": {
             "endlinecolor": "#2a3f5f",
             "gridcolor": "white",
             "linecolor": "white",
             "minorgridcolor": "white",
             "startlinecolor": "#2a3f5f"
            },
            "baxis": {
             "endlinecolor": "#2a3f5f",
             "gridcolor": "white",
             "linecolor": "white",
             "minorgridcolor": "white",
             "startlinecolor": "#2a3f5f"
            },
            "type": "carpet"
           }
          ],
          "choropleth": [
           {
            "colorbar": {
             "outlinewidth": 0,
             "ticks": ""
            },
            "type": "choropleth"
           }
          ],
          "contour": [
           {
            "colorbar": {
             "outlinewidth": 0,
             "ticks": ""
            },
            "colorscale": [
             [
              0,
              "#0d0887"
             ],
             [
              0.1111111111111111,
              "#46039f"
             ],
             [
              0.2222222222222222,
              "#7201a8"
             ],
             [
              0.3333333333333333,
              "#9c179e"
             ],
             [
              0.4444444444444444,
              "#bd3786"
             ],
             [
              0.5555555555555556,
              "#d8576b"
             ],
             [
              0.6666666666666666,
              "#ed7953"
             ],
             [
              0.7777777777777778,
              "#fb9f3a"
             ],
             [
              0.8888888888888888,
              "#fdca26"
             ],
             [
              1,
              "#f0f921"
             ]
            ],
            "type": "contour"
           }
          ],
          "contourcarpet": [
           {
            "colorbar": {
             "outlinewidth": 0,
             "ticks": ""
            },
            "type": "contourcarpet"
           }
          ],
          "heatmap": [
           {
            "colorbar": {
             "outlinewidth": 0,
             "ticks": ""
            },
            "colorscale": [
             [
              0,
              "#0d0887"
             ],
             [
              0.1111111111111111,
              "#46039f"
             ],
             [
              0.2222222222222222,
              "#7201a8"
             ],
             [
              0.3333333333333333,
              "#9c179e"
             ],
             [
              0.4444444444444444,
              "#bd3786"
             ],
             [
              0.5555555555555556,
              "#d8576b"
             ],
             [
              0.6666666666666666,
              "#ed7953"
             ],
             [
              0.7777777777777778,
              "#fb9f3a"
             ],
             [
              0.8888888888888888,
              "#fdca26"
             ],
             [
              1,
              "#f0f921"
             ]
            ],
            "type": "heatmap"
           }
          ],
          "histogram": [
           {
            "marker": {
             "pattern": {
              "fillmode": "overlay",
              "size": 10,
              "solidity": 0.2
             }
            },
            "type": "histogram"
           }
          ],
          "histogram2d": [
           {
            "colorbar": {
             "outlinewidth": 0,
             "ticks": ""
            },
            "colorscale": [
             [
              0,
              "#0d0887"
             ],
             [
              0.1111111111111111,
              "#46039f"
             ],
             [
              0.2222222222222222,
              "#7201a8"
             ],
             [
              0.3333333333333333,
              "#9c179e"
             ],
             [
              0.4444444444444444,
              "#bd3786"
             ],
             [
              0.5555555555555556,
              "#d8576b"
             ],
             [
              0.6666666666666666,
              "#ed7953"
             ],
             [
              0.7777777777777778,
              "#fb9f3a"
             ],
             [
              0.8888888888888888,
              "#fdca26"
             ],
             [
              1,
              "#f0f921"
             ]
            ],
            "type": "histogram2d"
           }
          ],
          "histogram2dcontour": [
           {
            "colorbar": {
             "outlinewidth": 0,
             "ticks": ""
            },
            "colorscale": [
             [
              0,
              "#0d0887"
             ],
             [
              0.1111111111111111,
              "#46039f"
             ],
             [
              0.2222222222222222,
              "#7201a8"
             ],
             [
              0.3333333333333333,
              "#9c179e"
             ],
             [
              0.4444444444444444,
              "#bd3786"
             ],
             [
              0.5555555555555556,
              "#d8576b"
             ],
             [
              0.6666666666666666,
              "#ed7953"
             ],
             [
              0.7777777777777778,
              "#fb9f3a"
             ],
             [
              0.8888888888888888,
              "#fdca26"
             ],
             [
              1,
              "#f0f921"
             ]
            ],
            "type": "histogram2dcontour"
           }
          ],
          "mesh3d": [
           {
            "colorbar": {
             "outlinewidth": 0,
             "ticks": ""
            },
            "type": "mesh3d"
           }
          ],
          "parcoords": [
           {
            "line": {
             "colorbar": {
              "outlinewidth": 0,
              "ticks": ""
             }
            },
            "type": "parcoords"
           }
          ],
          "pie": [
           {
            "automargin": true,
            "type": "pie"
           }
          ],
          "scatter": [
           {
            "fillpattern": {
             "fillmode": "overlay",
             "size": 10,
             "solidity": 0.2
            },
            "type": "scatter"
           }
          ],
          "scatter3d": [
           {
            "line": {
             "colorbar": {
              "outlinewidth": 0,
              "ticks": ""
             }
            },
            "marker": {
             "colorbar": {
              "outlinewidth": 0,
              "ticks": ""
             }
            },
            "type": "scatter3d"
           }
          ],
          "scattercarpet": [
           {
            "marker": {
             "colorbar": {
              "outlinewidth": 0,
              "ticks": ""
             }
            },
            "type": "scattercarpet"
           }
          ],
          "scattergeo": [
           {
            "marker": {
             "colorbar": {
              "outlinewidth": 0,
              "ticks": ""
             }
            },
            "type": "scattergeo"
           }
          ],
          "scattergl": [
           {
            "marker": {
             "colorbar": {
              "outlinewidth": 0,
              "ticks": ""
             }
            },
            "type": "scattergl"
           }
          ],
          "scattermap": [
           {
            "marker": {
             "colorbar": {
              "outlinewidth": 0,
              "ticks": ""
             }
            },
            "type": "scattermap"
           }
          ],
          "scattermapbox": [
           {
            "marker": {
             "colorbar": {
              "outlinewidth": 0,
              "ticks": ""
             }
            },
            "type": "scattermapbox"
           }
          ],
          "scatterpolar": [
           {
            "marker": {
             "colorbar": {
              "outlinewidth": 0,
              "ticks": ""
             }
            },
            "type": "scatterpolar"
           }
          ],
          "scatterpolargl": [
           {
            "marker": {
             "colorbar": {
              "outlinewidth": 0,
              "ticks": ""
             }
            },
            "type": "scatterpolargl"
           }
          ],
          "scatterternary": [
           {
            "marker": {
             "colorbar": {
              "outlinewidth": 0,
              "ticks": ""
             }
            },
            "type": "scatterternary"
           }
          ],
          "surface": [
           {
            "colorbar": {
             "outlinewidth": 0,
             "ticks": ""
            },
            "colorscale": [
             [
              0,
              "#0d0887"
             ],
             [
              0.1111111111111111,
              "#46039f"
             ],
             [
              0.2222222222222222,
              "#7201a8"
             ],
             [
              0.3333333333333333,
              "#9c179e"
             ],
             [
              0.4444444444444444,
              "#bd3786"
             ],
             [
              0.5555555555555556,
              "#d8576b"
             ],
             [
              0.6666666666666666,
              "#ed7953"
             ],
             [
              0.7777777777777778,
              "#fb9f3a"
             ],
             [
              0.8888888888888888,
              "#fdca26"
             ],
             [
              1,
              "#f0f921"
             ]
            ],
            "type": "surface"
           }
          ],
          "table": [
           {
            "cells": {
             "fill": {
              "color": "#EBF0F8"
             },
             "line": {
              "color": "white"
             }
            },
            "header": {
             "fill": {
              "color": "#C8D4E3"
             },
             "line": {
              "color": "white"
             }
            },
            "type": "table"
           }
          ]
         },
         "layout": {
          "annotationdefaults": {
           "arrowcolor": "#2a3f5f",
           "arrowhead": 0,
           "arrowwidth": 1
          },
          "autotypenumbers": "strict",
          "coloraxis": {
           "colorbar": {
            "outlinewidth": 0,
            "ticks": ""
           }
          },
          "colorscale": {
           "diverging": [
            [
             0,
             "#8e0152"
            ],
            [
             0.1,
             "#c51b7d"
            ],
            [
             0.2,
             "#de77ae"
            ],
            [
             0.3,
             "#f1b6da"
            ],
            [
             0.4,
             "#fde0ef"
            ],
            [
             0.5,
             "#f7f7f7"
            ],
            [
             0.6,
             "#e6f5d0"
            ],
            [
             0.7,
             "#b8e186"
            ],
            [
             0.8,
             "#7fbc41"
            ],
            [
             0.9,
             "#4d9221"
            ],
            [
             1,
             "#276419"
            ]
           ],
           "sequential": [
            [
             0,
             "#0d0887"
            ],
            [
             0.1111111111111111,
             "#46039f"
            ],
            [
             0.2222222222222222,
             "#7201a8"
            ],
            [
             0.3333333333333333,
             "#9c179e"
            ],
            [
             0.4444444444444444,
             "#bd3786"
            ],
            [
             0.5555555555555556,
             "#d8576b"
            ],
            [
             0.6666666666666666,
             "#ed7953"
            ],
            [
             0.7777777777777778,
             "#fb9f3a"
            ],
            [
             0.8888888888888888,
             "#fdca26"
            ],
            [
             1,
             "#f0f921"
            ]
           ],
           "sequentialminus": [
            [
             0,
             "#0d0887"
            ],
            [
             0.1111111111111111,
             "#46039f"
            ],
            [
             0.2222222222222222,
             "#7201a8"
            ],
            [
             0.3333333333333333,
             "#9c179e"
            ],
            [
             0.4444444444444444,
             "#bd3786"
            ],
            [
             0.5555555555555556,
             "#d8576b"
            ],
            [
             0.6666666666666666,
             "#ed7953"
            ],
            [
             0.7777777777777778,
             "#fb9f3a"
            ],
            [
             0.8888888888888888,
             "#fdca26"
            ],
            [
             1,
             "#f0f921"
            ]
           ]
          },
          "colorway": [
           "#636efa",
           "#EF553B",
           "#00cc96",
           "#ab63fa",
           "#FFA15A",
           "#19d3f3",
           "#FF6692",
           "#B6E880",
           "#FF97FF",
           "#FECB52"
          ],
          "font": {
           "color": "#2a3f5f"
          },
          "geo": {
           "bgcolor": "white",
           "lakecolor": "white",
           "landcolor": "#E5ECF6",
           "showlakes": true,
           "showland": true,
           "subunitcolor": "white"
          },
          "hoverlabel": {
           "align": "left"
          },
          "hovermode": "closest",
          "mapbox": {
           "style": "light"
          },
          "paper_bgcolor": "white",
          "plot_bgcolor": "#E5ECF6",
          "polar": {
           "angularaxis": {
            "gridcolor": "white",
            "linecolor": "white",
            "ticks": ""
           },
           "bgcolor": "#E5ECF6",
           "radialaxis": {
            "gridcolor": "white",
            "linecolor": "white",
            "ticks": ""
           }
          },
          "scene": {
           "xaxis": {
            "backgroundcolor": "#E5ECF6",
            "gridcolor": "white",
            "gridwidth": 2,
            "linecolor": "white",
            "showbackground": true,
            "ticks": "",
            "zerolinecolor": "white"
           },
           "yaxis": {
            "backgroundcolor": "#E5ECF6",
            "gridcolor": "white",
            "gridwidth": 2,
            "linecolor": "white",
            "showbackground": true,
            "ticks": "",
            "zerolinecolor": "white"
           },
           "zaxis": {
            "backgroundcolor": "#E5ECF6",
            "gridcolor": "white",
            "gridwidth": 2,
            "linecolor": "white",
            "showbackground": true,
            "ticks": "",
            "zerolinecolor": "white"
           }
          },
          "shapedefaults": {
           "line": {
            "color": "#2a3f5f"
           }
          },
          "ternary": {
           "aaxis": {
            "gridcolor": "white",
            "linecolor": "white",
            "ticks": ""
           },
           "baxis": {
            "gridcolor": "white",
            "linecolor": "white",
            "ticks": ""
           },
           "bgcolor": "#E5ECF6",
           "caxis": {
            "gridcolor": "white",
            "linecolor": "white",
            "ticks": ""
           }
          },
          "title": {
           "x": 0.05
          },
          "xaxis": {
           "automargin": true,
           "gridcolor": "white",
           "linecolor": "white",
           "ticks": "",
           "title": {
            "standoff": 15
           },
           "zerolinecolor": "white",
           "zerolinewidth": 2
          },
          "yaxis": {
           "automargin": true,
           "gridcolor": "white",
           "linecolor": "white",
           "ticks": "",
           "title": {
            "standoff": 15
           },
           "zerolinecolor": "white",
           "zerolinewidth": 2
          }
         }
        },
        "title": {
         "text": "Total number of flights to the destination state split by reporting air"
        },
        "xaxis": {
         "anchor": "y",
         "domain": [
          0,
          1
         ],
         "title": {
          "text": "DestState"
         }
        },
        "yaxis": {
         "anchor": "x",
         "domain": [
          0,
          1
         ],
         "title": {
          "text": "Flights"
         }
        }
       }
      }
     },
     "metadata": {},
     "output_type": "display_data"
    }
   ],
   "source": [
    "bar_data = data.groupby(['DestState'])['Flights'].sum().reset_index()\n",
    "fig=px.bar(x=bar_data['DestState'], y=bar_data['Flights'], title='Total number of flights to the destination state split by reporting air', labels=dict(x='DestState', y='Flights'))\n",
    "fig.show()"
   ]
  },
  {
   "cell_type": "markdown",
   "id": "54fb5dca-056c-470e-aeec-b32fa007a1d6",
   "metadata": {},
   "source": [
    "## 4.Histogram: \n",
    " A histogram is used to represent continuous data in the form of bar. Each bar has discrete values in bar graphs, whereas in histograms, we have bars representing a range of values. Histograms show frequency distributions. We can use histograms to visualize:\n",
    " \n",
    " * Students marks distribution\n",
    " * Frequency of waiting time of customers in a Bank\n"
   ]
  },
  {
   "cell_type": "markdown",
   "id": "7199c638-3bef-4cb9-8a58-6cd4cd53794b",
   "metadata": {},
   "source": [
    "Let us represent the distribution of arrival delay using a histogram\n",
    "\n",
    "This plot should contain the following\n",
    "\n",
    "* Title as **Total number of flights to the destination state split by reporting air**.\n",
    "* x-axis label should be **ArrayDelay**\n",
    "* y-axis will show the count of arrival delay"
   ]
  },
  {
   "cell_type": "code",
   "execution_count": 51,
   "id": "e7f6e295-cc71-4560-9b18-4f91c592e788",
   "metadata": {},
   "outputs": [
    {
     "data": {
      "application/vnd.plotly.v1+json": {
       "config": {
        "plotlyServerURL": "https://plot.ly"
       },
       "data": [
        {
         "bingroup": "x",
         "hovertemplate": "ArrDelay=%{x}<br>count=%{y}<extra></extra>",
         "legendgroup": "",
         "marker": {
          "color": "#636efa",
          "pattern": {
           "shape": ""
          }
         },
         "name": "",
         "orientation": "v",
         "showlegend": false,
         "type": "histogram",
         "x": {
          "bdata": "AAAAAAAAQEAAAAAAAADwvwAAAAAAABTAAAAAAAAAAMAAAAAAAAAmwAAAAAAAABDAAAAAAAAAKMAAAAAAAAAkQAAAAAAAABzAAAAAAAAAEMAAAAAAAIBBQAAAAAAAAAjAAAAAAAAAFMAAAAAAAAAcQAAAAAAAwFZAAAAAAAAAAEAAAAAAAAAQQAAAAAAAACzAAAAAAAAAAAAAAAAAAAA2wAAAAAAAABTAAAAAAAAAAAAAAAAAAAAxwAAAAAAAAC7AAAAAAAAAOUAAAAAAAAA7QAAAAAAAAADAAAAAAAAACEAAAAAAAAA6QAAAAAAAACbAAAAAAAAAIsAAAAAAAAA8wAAAAAAAACzAAAAAAAAAMkAAAAAAAAAYQAAAAAAAAFNAAAAAAAAAPEAAAAAAAAAAAAAAAAAAAADAAAAAAAAACEAAAAAAAAAUwAAAAAAAACLAAAAAAAAAKEAAAAAAAAAkwAAAAAAAACrAAAAAAAAAPcAAAAAAAAAsQAAAAAAAAC7AAAAAAAAAMkAAAAAAAAAqQAAAAAAAABzAAAAAAAAACMAAAAAAAAAgwAAAAAAAAC7AAAAAAAAAEMAAAAAAAAA4wAAAAAAAACpAAAAAAAAAJkAAAAAAAAAywAAAAAAAACrAAAAAAAAAMEAAAAAAAAA3wAAAAAAAAAjAAAAAAAAAAAAAAAAAAAAoQAAAAAAAACZAAAAAAAAAIMAAAAAAAAAowAAAAAAAACTAAAAAAAAACMAAAAAAAAAUwAAAAAAAADNAAAAAAAAAFMAAAAAAAIBEQAAAAAAAAABAAAAAAAAAHMAAAAAAAIBZQAAAAAAAABTAAAAAAAAAAMAAAAAAAAAuwAAAAAAAABhAAAAAAAAAEMAAAAAAAAAmwAAAAAAAAABAAAAAAAAALsAAAAAAAAAcQAAAAAAAADVAAAAAAAAASEAAAAAAAAA7QAAAAAAAAD9AAAAAAAAAFMAAAAAAAABJQAAAAAAAACZAAAAAAAAAAAAAAAAAAAAowAAAAAAAABRAAAAAAAAAWUAAAAAAAAAcQAAAAAAAADRAAAAAAADAUkAAAAAAAAAswAAAAAAAABzAAAAAAAAAAAAAAAAAAABAQAAAAAAAACLAAAAAAAAAEEAAAAAAAAA6wAAAAAAAAC5AAAAAAAAAKMAAAAAAAAAsQAAAAAAAACTAAAAAAAAANMAAAAAAAIBTQAAAAAAAACBAAAAAAAAAFMAAAAAAAAAkQAAAAAAAAD9AAAAAAAAALMAAAAAAAAAwwAAAAAAAwFlAAAAAAAAANsAAAAAAAAAcwAAAAAAAABRAAAAAAAAACMAAAAAAAAAIwAAAAAAAAPC/AAAAAAAA8D8AAAAAAIBJQAAAAAAAAERAAAAAAAAAMUAAAAAAAAAQQAAAAAAAAABAAAAAAAAAJsAAAAAAAAAkwAAAAAAAACjAAAAAAAAAHMAAAAAAAAAwwAAAAAAAACrAAAAAAAAAKkAAAAAAAAAzwAAAAAAAAChAAAAAAAAAFEAAAAAAAAAAAAAAAAAAAAAAAAAAAAAAZ0AAAAAAAAAuQAAAAAAAACRAAAAAAAAAEEAAAAAAAADwvwAAAAAAADfAAAAAAAAAOsAAAAAAAAAiwAAAAAAAABjAAAAAAAAAKsAAAAAAAADwvwAAAAAAACZAAAAAAAAAIkAAAAAAAABDQAAAAAAAACpAAAAAAACAQUAAAAAAAAA8QAAAAAAAgEZAAAAAAAAACMAAAAAAAAA8QAAAAAAAACLAAAAAAAAAHEAAAAAAAAAiwAAAAAAAADBAAAAAAAAAJkAAAAAAAAAIQAAAAAAAAC5AAAAAAAAACMAAAAAAAAAgQAAAAAAAAAjAAAAAAAAAIMAAAAAAAAAcwAAAAAAAADNAAAAAAAAASEAAAAAAAAAswAAAAAAAABxAAAAAAAAANcAAAAAAAAAUwAAAAAAAABjAAAAAAAAALMAAAAAAAAAzQAAAAAAAADjAAAAAAAAANcAAAAAAAAA2wAAAAAAAADfAAAAAAAAAJsAAAAAAAAAiwAAAAAAAADXAAAAAAAAAMMAAAAAAAAAiwAAAAAAAACRAAAAAAAAAMMAAAAAAAAAiwAAAAAAAABTAAAAAAAAALMAAAAAAAAA+wAAAAAAAAD9AAAAAAAAA8D8AAAAAAAAQwAAAAAAAACrAAAAAAAAAEMAAAAAAAAAIwAAAAAAAABBAAAAAAACAQUAAAAAAAAAcQAAAAAAAABzAAAAAAAAAAAAAAAAAAAAAAAAAAAAAAAAAAAAAAAAAKEAAAAAAAAA3wAAAAAAAADPAAAAAAAAAAAAAAAAAAAAkQAAAAAAAABhAAAAAAAAAEMAAAAAAAAAQQAAAAAAAADHAAAAAAAAAMcAAAAAAAABOQAAAAAAAAAAAAAAAAAAAAAAAAAAAAIBJQAAAAAAAACjAAAAAAAAAAAAAAAAAAIBCQAAAAAAAAAAAAAAAAAAAU0AAAAAAAAA1QAAAAAAAACRAAAAAAAAAHEAAAAAAAAAIQAAAAAAAAAjAAAAAAAAAAAAAAAAAAAAkwAAAAAAAACJAAAAAAAAALMAAAAAAAAAUQAAAAAAAADDAAAAAAAAAAAAAAAAAAAAUwAAAAAAAACLAAAAAAAAAAAAAAAAAAAAQwAAAAAAAACrAAAAAAAAAPMAAAAAAAAAcwAAAAAAAACrAAAAAAAAA8L8AAAAAAAAyQAAAAAAAACDAAAAAAACAUUAAAAAAAAAswAAAAAAAAChAAAAAAAAAAMAAAAAAAADwPwAAAAAAAPC/AAAAAAAAFEAAAAAAAAAAAAAAAAAAAEvAAAAAAAAAAAAAAAAAAAA8QAAAAAAAADHAAAAAAAAALMAAAAAAAADwPwAAAAAAACDAAAAAAAAAMkAAAAAAAAAwwAAAAAAAACrAAAAAAAAAFEAAAAAAAAAkQAAAAAAAAEhAAAAAAAAAMEAAAAAAAAAowAAAAAAAAAAAAAAAAAAAEMAAAAAAAAAowAAAAAAAADvAAAAAAAAAFMAAAAAAAAAuwAAAAAAAADRAAAAAAAAAFMAAAAAAAAAkwAAAAAAAgEBAAAAAAAAAGEAAAAAAAAAQwAAAAAAAAFtAAAAAAAAAHEAAAAAAAAAAwAAAAAAAACBAAAAAAAAA8L8AAAAAAAAkwAAAAAAAACTAAAAAAAAAGEAAAAAAAAAQQAAAAAAAABzAAAAAAAAALEAAAAAAAAA2QAAAAAAAADFAAAAAAAAA8D8AAAAAAAA5wAAAAAAAADRAAAAAAAAACEAAAAAAAAAAAAAAAAAAAAhAAAAAAAAANEAAAAAAAAAUQAAAAAAAACZAAAAAAAAA8L8AAAAAAAAQQAAAAAAAACrAAAAAAAAANMAAAAAAAAAzwAAAAAAAACZAAAAAAAAALMAAAAAAAAAiQAAAAAAAABBAAAAAAAAAN8AAAAAAAAAcwAAAAAAAAEHAAAAAAAAACMAAAAAAAAAmwAAAAAAAAPC/AAAAAAAAMMAAAAAAAAAcwAAAAAAAACjAAAAAAAAAAAAAAAAAAAAiwAAAAAAAACDAAAAAAAAALEAAAAAAAAAAQAAAAAAAABRAAAAAAAAAOsAAAAAAAAAUwAAAAAAAACbAAAAAAAAAOEAAAAAAAAAiwAAAAAAAABjAAAAAAAAANsAAAAAAAAAmQAAAAAAAADfAAAAAAAAAEMAAAAAAAIBBQAAAAAAAABDAAAAAAAAASkAAAAAAAAAiwAAAAAAAgFBAAAAAAAAAKMAAAAAAAAAAAAAAAAAAACJAAAAAAAAAKEAAAAAAAMBbQAAAAAAAADpAAAAAAAAAMsAAAAAAAAAcQAAAAAAAADVAAAAAAACAWkAAAAAAAAAmwAAAAAAAAPC/AAAAAAAAJsAAAAAAAAAkwAAAAAAAADHAAAAAAAAAOEAAAAAAAAAoQAAAAAAAACzAAAAAAAAAKMAAAAAAAIBGwAAAAAAAACzAAAAAAAAALEAAAAAAAAAmwAAAAAAAACZAAAAAAAAAJEAAAAAAAABBQAAAAAAAADZAAAAAAAAA8D8AAAAAAMBXQAAAAAAAADPAAAAAAAAA8L8AAAAAAAAIQAAAAAAAAAAAAAAAAAAAM8AAAAAAAAAUQAAAAAAAADPAAAAAAAAAOkAAAAAAAAAowAAAAAAAAC5AAAAAAAAAMkAAAAAAAAAiQAAAAAAAAAAAAAAAAAAA8L8AAAAAAADwvwAAAAAAAPC/AAAAAAAAAAAAAAAAAAAswAAAAAAAABhAAAAAAAAAKEAAAAAAAAA1QAAAAAAAAAAAAAAAAAAAPkAAAAAAAAA2wAAAAAAAAADAAAAAAAAAKkAAAAAAAAA0QAAAAAAAgEdAAAAAAAAAJsAAAAAAAAAzwAAAAAAAABBAAAAAAAAANMAAAAAAAAAUwAAAAAAAADdAAAAAAAAAAAAAAAAAAAAIwAAAAAAAACxAAAAAAAAAT0AAAAAAAAAkwAAAAAAAAAhAAAAAAAAAJsAAAAAAAAAAwAAAAAAAACjAAAAAAAAAIMAAAAAAAAAQwAAAAAAAgE1AAAAAAAAAHEAAAAAAAAAYQAAAAAAAABBAAAAAAAAAKMAAAAAAAAAuQAAAAAAAACLAAAAAAAAAIEAAAAAAAAAgwAAAAAAAABBAAAAAAAAAMMAAAAAAAAAcQAAAAAAAADLAAAAAAAAAIEAAAAAAAAAoQAAAAAAAAAjAAAAAAAAAHEAAAAAAAAAIQAAAAAAAAAAAAAAAAAAALsAAAAAAAAAkQAAAAAAAABBAAAAAAAAAHEAAAAAAAAAiwAAAAAAAAC7AAAAAAAAAKsAAAAAAAAA/QAAAAAAAAAAAAAAAAAAAEMAAAAAAAAA1QAAAAAAAAPC/AAAAAAAAIMAAAAAAAAAoQAAAAAAAACpAAAAAAAAAHEAAAAAAAAAAQAAAAAAAACTAAAAAAAAAM0AAAAAAAAAIwAAAAAAAgEBAAAAAAAAACMAAAAAAAAAIwAAAAAAAQGpAAAAAAACASUAAAAAAAAAQQAAAAAAAACTAAAAAAAAANEAAAAAAAAAkQAAAAAAAACDAAAAAAAAAAAAAAAAAAAAsQAAAAAAAABjAAAAAAAAAPcAAAAAAAAAUQAAAAAAAAAAAAAAAAAAAHMAAAAAAAABBwAAAAAAAADNAAAAAAAAAFMAAAAAAAAAgQAAAAAAAADfAAAAAAAAANEAAAAAAAAAUQAAAAAAAAEnAAAAAAACATEAAAAAAAAAQwAAAAAAAABDAAAAAAAAAAMAAAAAAAAAowAAAAAAAADXAAAAAAAAAIEAAAAAAAAAUwAAAAAAAACzAAAAAAAAAVkAAAAAAAAAQQA==",
          "dtype": "f8"
         },
         "xaxis": "x",
         "yaxis": "y"
        }
       ],
       "layout": {
        "barmode": "relative",
        "legend": {
         "tracegroupgap": 0
        },
        "template": {
         "data": {
          "bar": [
           {
            "error_x": {
             "color": "#2a3f5f"
            },
            "error_y": {
             "color": "#2a3f5f"
            },
            "marker": {
             "line": {
              "color": "#E5ECF6",
              "width": 0.5
             },
             "pattern": {
              "fillmode": "overlay",
              "size": 10,
              "solidity": 0.2
             }
            },
            "type": "bar"
           }
          ],
          "barpolar": [
           {
            "marker": {
             "line": {
              "color": "#E5ECF6",
              "width": 0.5
             },
             "pattern": {
              "fillmode": "overlay",
              "size": 10,
              "solidity": 0.2
             }
            },
            "type": "barpolar"
           }
          ],
          "carpet": [
           {
            "aaxis": {
             "endlinecolor": "#2a3f5f",
             "gridcolor": "white",
             "linecolor": "white",
             "minorgridcolor": "white",
             "startlinecolor": "#2a3f5f"
            },
            "baxis": {
             "endlinecolor": "#2a3f5f",
             "gridcolor": "white",
             "linecolor": "white",
             "minorgridcolor": "white",
             "startlinecolor": "#2a3f5f"
            },
            "type": "carpet"
           }
          ],
          "choropleth": [
           {
            "colorbar": {
             "outlinewidth": 0,
             "ticks": ""
            },
            "type": "choropleth"
           }
          ],
          "contour": [
           {
            "colorbar": {
             "outlinewidth": 0,
             "ticks": ""
            },
            "colorscale": [
             [
              0,
              "#0d0887"
             ],
             [
              0.1111111111111111,
              "#46039f"
             ],
             [
              0.2222222222222222,
              "#7201a8"
             ],
             [
              0.3333333333333333,
              "#9c179e"
             ],
             [
              0.4444444444444444,
              "#bd3786"
             ],
             [
              0.5555555555555556,
              "#d8576b"
             ],
             [
              0.6666666666666666,
              "#ed7953"
             ],
             [
              0.7777777777777778,
              "#fb9f3a"
             ],
             [
              0.8888888888888888,
              "#fdca26"
             ],
             [
              1,
              "#f0f921"
             ]
            ],
            "type": "contour"
           }
          ],
          "contourcarpet": [
           {
            "colorbar": {
             "outlinewidth": 0,
             "ticks": ""
            },
            "type": "contourcarpet"
           }
          ],
          "heatmap": [
           {
            "colorbar": {
             "outlinewidth": 0,
             "ticks": ""
            },
            "colorscale": [
             [
              0,
              "#0d0887"
             ],
             [
              0.1111111111111111,
              "#46039f"
             ],
             [
              0.2222222222222222,
              "#7201a8"
             ],
             [
              0.3333333333333333,
              "#9c179e"
             ],
             [
              0.4444444444444444,
              "#bd3786"
             ],
             [
              0.5555555555555556,
              "#d8576b"
             ],
             [
              0.6666666666666666,
              "#ed7953"
             ],
             [
              0.7777777777777778,
              "#fb9f3a"
             ],
             [
              0.8888888888888888,
              "#fdca26"
             ],
             [
              1,
              "#f0f921"
             ]
            ],
            "type": "heatmap"
           }
          ],
          "histogram": [
           {
            "marker": {
             "pattern": {
              "fillmode": "overlay",
              "size": 10,
              "solidity": 0.2
             }
            },
            "type": "histogram"
           }
          ],
          "histogram2d": [
           {
            "colorbar": {
             "outlinewidth": 0,
             "ticks": ""
            },
            "colorscale": [
             [
              0,
              "#0d0887"
             ],
             [
              0.1111111111111111,
              "#46039f"
             ],
             [
              0.2222222222222222,
              "#7201a8"
             ],
             [
              0.3333333333333333,
              "#9c179e"
             ],
             [
              0.4444444444444444,
              "#bd3786"
             ],
             [
              0.5555555555555556,
              "#d8576b"
             ],
             [
              0.6666666666666666,
              "#ed7953"
             ],
             [
              0.7777777777777778,
              "#fb9f3a"
             ],
             [
              0.8888888888888888,
              "#fdca26"
             ],
             [
              1,
              "#f0f921"
             ]
            ],
            "type": "histogram2d"
           }
          ],
          "histogram2dcontour": [
           {
            "colorbar": {
             "outlinewidth": 0,
             "ticks": ""
            },
            "colorscale": [
             [
              0,
              "#0d0887"
             ],
             [
              0.1111111111111111,
              "#46039f"
             ],
             [
              0.2222222222222222,
              "#7201a8"
             ],
             [
              0.3333333333333333,
              "#9c179e"
             ],
             [
              0.4444444444444444,
              "#bd3786"
             ],
             [
              0.5555555555555556,
              "#d8576b"
             ],
             [
              0.6666666666666666,
              "#ed7953"
             ],
             [
              0.7777777777777778,
              "#fb9f3a"
             ],
             [
              0.8888888888888888,
              "#fdca26"
             ],
             [
              1,
              "#f0f921"
             ]
            ],
            "type": "histogram2dcontour"
           }
          ],
          "mesh3d": [
           {
            "colorbar": {
             "outlinewidth": 0,
             "ticks": ""
            },
            "type": "mesh3d"
           }
          ],
          "parcoords": [
           {
            "line": {
             "colorbar": {
              "outlinewidth": 0,
              "ticks": ""
             }
            },
            "type": "parcoords"
           }
          ],
          "pie": [
           {
            "automargin": true,
            "type": "pie"
           }
          ],
          "scatter": [
           {
            "fillpattern": {
             "fillmode": "overlay",
             "size": 10,
             "solidity": 0.2
            },
            "type": "scatter"
           }
          ],
          "scatter3d": [
           {
            "line": {
             "colorbar": {
              "outlinewidth": 0,
              "ticks": ""
             }
            },
            "marker": {
             "colorbar": {
              "outlinewidth": 0,
              "ticks": ""
             }
            },
            "type": "scatter3d"
           }
          ],
          "scattercarpet": [
           {
            "marker": {
             "colorbar": {
              "outlinewidth": 0,
              "ticks": ""
             }
            },
            "type": "scattercarpet"
           }
          ],
          "scattergeo": [
           {
            "marker": {
             "colorbar": {
              "outlinewidth": 0,
              "ticks": ""
             }
            },
            "type": "scattergeo"
           }
          ],
          "scattergl": [
           {
            "marker": {
             "colorbar": {
              "outlinewidth": 0,
              "ticks": ""
             }
            },
            "type": "scattergl"
           }
          ],
          "scattermap": [
           {
            "marker": {
             "colorbar": {
              "outlinewidth": 0,
              "ticks": ""
             }
            },
            "type": "scattermap"
           }
          ],
          "scattermapbox": [
           {
            "marker": {
             "colorbar": {
              "outlinewidth": 0,
              "ticks": ""
             }
            },
            "type": "scattermapbox"
           }
          ],
          "scatterpolar": [
           {
            "marker": {
             "colorbar": {
              "outlinewidth": 0,
              "ticks": ""
             }
            },
            "type": "scatterpolar"
           }
          ],
          "scatterpolargl": [
           {
            "marker": {
             "colorbar": {
              "outlinewidth": 0,
              "ticks": ""
             }
            },
            "type": "scatterpolargl"
           }
          ],
          "scatterternary": [
           {
            "marker": {
             "colorbar": {
              "outlinewidth": 0,
              "ticks": ""
             }
            },
            "type": "scatterternary"
           }
          ],
          "surface": [
           {
            "colorbar": {
             "outlinewidth": 0,
             "ticks": ""
            },
            "colorscale": [
             [
              0,
              "#0d0887"
             ],
             [
              0.1111111111111111,
              "#46039f"
             ],
             [
              0.2222222222222222,
              "#7201a8"
             ],
             [
              0.3333333333333333,
              "#9c179e"
             ],
             [
              0.4444444444444444,
              "#bd3786"
             ],
             [
              0.5555555555555556,
              "#d8576b"
             ],
             [
              0.6666666666666666,
              "#ed7953"
             ],
             [
              0.7777777777777778,
              "#fb9f3a"
             ],
             [
              0.8888888888888888,
              "#fdca26"
             ],
             [
              1,
              "#f0f921"
             ]
            ],
            "type": "surface"
           }
          ],
          "table": [
           {
            "cells": {
             "fill": {
              "color": "#EBF0F8"
             },
             "line": {
              "color": "white"
             }
            },
            "header": {
             "fill": {
              "color": "#C8D4E3"
             },
             "line": {
              "color": "white"
             }
            },
            "type": "table"
           }
          ]
         },
         "layout": {
          "annotationdefaults": {
           "arrowcolor": "#2a3f5f",
           "arrowhead": 0,
           "arrowwidth": 1
          },
          "autotypenumbers": "strict",
          "coloraxis": {
           "colorbar": {
            "outlinewidth": 0,
            "ticks": ""
           }
          },
          "colorscale": {
           "diverging": [
            [
             0,
             "#8e0152"
            ],
            [
             0.1,
             "#c51b7d"
            ],
            [
             0.2,
             "#de77ae"
            ],
            [
             0.3,
             "#f1b6da"
            ],
            [
             0.4,
             "#fde0ef"
            ],
            [
             0.5,
             "#f7f7f7"
            ],
            [
             0.6,
             "#e6f5d0"
            ],
            [
             0.7,
             "#b8e186"
            ],
            [
             0.8,
             "#7fbc41"
            ],
            [
             0.9,
             "#4d9221"
            ],
            [
             1,
             "#276419"
            ]
           ],
           "sequential": [
            [
             0,
             "#0d0887"
            ],
            [
             0.1111111111111111,
             "#46039f"
            ],
            [
             0.2222222222222222,
             "#7201a8"
            ],
            [
             0.3333333333333333,
             "#9c179e"
            ],
            [
             0.4444444444444444,
             "#bd3786"
            ],
            [
             0.5555555555555556,
             "#d8576b"
            ],
            [
             0.6666666666666666,
             "#ed7953"
            ],
            [
             0.7777777777777778,
             "#fb9f3a"
            ],
            [
             0.8888888888888888,
             "#fdca26"
            ],
            [
             1,
             "#f0f921"
            ]
           ],
           "sequentialminus": [
            [
             0,
             "#0d0887"
            ],
            [
             0.1111111111111111,
             "#46039f"
            ],
            [
             0.2222222222222222,
             "#7201a8"
            ],
            [
             0.3333333333333333,
             "#9c179e"
            ],
            [
             0.4444444444444444,
             "#bd3786"
            ],
            [
             0.5555555555555556,
             "#d8576b"
            ],
            [
             0.6666666666666666,
             "#ed7953"
            ],
            [
             0.7777777777777778,
             "#fb9f3a"
            ],
            [
             0.8888888888888888,
             "#fdca26"
            ],
            [
             1,
             "#f0f921"
            ]
           ]
          },
          "colorway": [
           "#636efa",
           "#EF553B",
           "#00cc96",
           "#ab63fa",
           "#FFA15A",
           "#19d3f3",
           "#FF6692",
           "#B6E880",
           "#FF97FF",
           "#FECB52"
          ],
          "font": {
           "color": "#2a3f5f"
          },
          "geo": {
           "bgcolor": "white",
           "lakecolor": "white",
           "landcolor": "#E5ECF6",
           "showlakes": true,
           "showland": true,
           "subunitcolor": "white"
          },
          "hoverlabel": {
           "align": "left"
          },
          "hovermode": "closest",
          "mapbox": {
           "style": "light"
          },
          "paper_bgcolor": "white",
          "plot_bgcolor": "#E5ECF6",
          "polar": {
           "angularaxis": {
            "gridcolor": "white",
            "linecolor": "white",
            "ticks": ""
           },
           "bgcolor": "#E5ECF6",
           "radialaxis": {
            "gridcolor": "white",
            "linecolor": "white",
            "ticks": ""
           }
          },
          "scene": {
           "xaxis": {
            "backgroundcolor": "#E5ECF6",
            "gridcolor": "white",
            "gridwidth": 2,
            "linecolor": "white",
            "showbackground": true,
            "ticks": "",
            "zerolinecolor": "white"
           },
           "yaxis": {
            "backgroundcolor": "#E5ECF6",
            "gridcolor": "white",
            "gridwidth": 2,
            "linecolor": "white",
            "showbackground": true,
            "ticks": "",
            "zerolinecolor": "white"
           },
           "zaxis": {
            "backgroundcolor": "#E5ECF6",
            "gridcolor": "white",
            "gridwidth": 2,
            "linecolor": "white",
            "showbackground": true,
            "ticks": "",
            "zerolinecolor": "white"
           }
          },
          "shapedefaults": {
           "line": {
            "color": "#2a3f5f"
           }
          },
          "ternary": {
           "aaxis": {
            "gridcolor": "white",
            "linecolor": "white",
            "ticks": ""
           },
           "baxis": {
            "gridcolor": "white",
            "linecolor": "white",
            "ticks": ""
           },
           "bgcolor": "#E5ECF6",
           "caxis": {
            "gridcolor": "white",
            "linecolor": "white",
            "ticks": ""
           }
          },
          "title": {
           "x": 0.05
          },
          "xaxis": {
           "automargin": true,
           "gridcolor": "white",
           "linecolor": "white",
           "ticks": "",
           "title": {
            "standoff": 15
           },
           "zerolinecolor": "white",
           "zerolinewidth": 2
          },
          "yaxis": {
           "automargin": true,
           "gridcolor": "white",
           "linecolor": "white",
           "ticks": "",
           "title": {
            "standoff": 15
           },
           "zerolinecolor": "white",
           "zerolinewidth": 2
          }
         }
        },
        "title": {
         "text": "Total number of flights to the destination state split by reporting air"
        },
        "xaxis": {
         "anchor": "y",
         "domain": [
          0,
          1
         ],
         "title": {
          "text": "ArrDelay"
         }
        },
        "yaxis": {
         "anchor": "x",
         "domain": [
          0,
          1
         ],
         "title": {
          "text": "count"
         }
        }
       }
      }
     },
     "metadata": {},
     "output_type": "display_data"
    }
   ],
   "source": [
    "data['ArrDelay'] = data['ArrDelay'].fillna(0)\n",
    "fig=px.histogram(data,x='ArrDelay', title='Total number of flights to the destination state split by reporting air')\n",
    "fig.show()"
   ]
  },
  {
   "cell_type": "markdown",
   "id": "38f00bed-c87f-46fe-81e9-0a7a0632722b",
   "metadata": {},
   "source": [
    "**But what if I need to get the distribution of flights that arrived delayed? (ie, Just the positive values)**"
   ]
  },
  {
   "cell_type": "code",
   "execution_count": 15,
   "id": "700ba907-2ac1-4d39-b305-f207f03c46a5",
   "metadata": {
    "scrolled": true
   },
   "outputs": [
    {
     "data": {
      "application/vnd.plotly.v1+json": {
       "config": {
        "plotlyServerURL": "https://plot.ly"
       },
       "data": [
        {
         "bingroup": "x",
         "hovertemplate": "ArrDelay=%{x}<br>count=%{y}<extra></extra>",
         "legendgroup": "",
         "marker": {
          "color": "#636efa",
          "pattern": {
           "shape": ""
          }
         },
         "name": "",
         "nbinsx": 50,
         "orientation": "v",
         "showlegend": false,
         "type": "histogram",
         "x": [
          true,
          false,
          false,
          false,
          false,
          false,
          false,
          true,
          false,
          false,
          true,
          false,
          false,
          true,
          true,
          true,
          true,
          false,
          false,
          false,
          false,
          false,
          false,
          false,
          true,
          true,
          false,
          true,
          true,
          false,
          false,
          false,
          false,
          true,
          true,
          true,
          true,
          false,
          false,
          true,
          false,
          false,
          true,
          false,
          false,
          false,
          true,
          false,
          true,
          true,
          false,
          false,
          false,
          false,
          false,
          false,
          true,
          true,
          false,
          false,
          true,
          false,
          false,
          false,
          true,
          true,
          false,
          false,
          false,
          false,
          false,
          true,
          false,
          true,
          true,
          false,
          true,
          false,
          false,
          false,
          true,
          false,
          false,
          true,
          false,
          true,
          true,
          true,
          true,
          true,
          false,
          true,
          true,
          false,
          false,
          true,
          true,
          true,
          true,
          true,
          false,
          false,
          false,
          true,
          false,
          true,
          false,
          true,
          false,
          true,
          false,
          false,
          true,
          true,
          false,
          true,
          true,
          false,
          false,
          true,
          false,
          false,
          true,
          false,
          false,
          false,
          true,
          true,
          true,
          true,
          true,
          true,
          false,
          false,
          false,
          false,
          false,
          false,
          true,
          false,
          true,
          true,
          false,
          false,
          true,
          true,
          true,
          true,
          false,
          false,
          false,
          false,
          false,
          false,
          false,
          true,
          true,
          true,
          true,
          true,
          true,
          true,
          false,
          true,
          false,
          true,
          false,
          true,
          true,
          true,
          true,
          false,
          true,
          false,
          false,
          false,
          true,
          true,
          false,
          true,
          false,
          false,
          false,
          false,
          true,
          false,
          false,
          false,
          false,
          false,
          false,
          false,
          false,
          false,
          true,
          false,
          false,
          false,
          false,
          false,
          true,
          true,
          false,
          false,
          false,
          false,
          true,
          true,
          true,
          false,
          false,
          false,
          false,
          true,
          false,
          false,
          false,
          true,
          true,
          false,
          true,
          false,
          false,
          true,
          false,
          false,
          true,
          false,
          false,
          true,
          false,
          true,
          true,
          true,
          true,
          true,
          false,
          false,
          false,
          true,
          false,
          true,
          false,
          false,
          false,
          false,
          false,
          false,
          false,
          false,
          false,
          false,
          false,
          true,
          false,
          true,
          false,
          true,
          false,
          true,
          false,
          true,
          false,
          false,
          false,
          true,
          false,
          false,
          true,
          false,
          true,
          false,
          false,
          true,
          true,
          true,
          true,
          false,
          false,
          false,
          false,
          false,
          false,
          false,
          true,
          false,
          false,
          true,
          true,
          false,
          true,
          true,
          false,
          true,
          false,
          false,
          false,
          true,
          true,
          false,
          true,
          true,
          true,
          true,
          false,
          true,
          true,
          false,
          true,
          true,
          true,
          true,
          false,
          true,
          false,
          false,
          false,
          true,
          false,
          true,
          true,
          false,
          false,
          false,
          false,
          false,
          false,
          false,
          false,
          false,
          false,
          false,
          false,
          true,
          true,
          true,
          false,
          false,
          false,
          true,
          false,
          false,
          false,
          true,
          false,
          false,
          true,
          false,
          true,
          false,
          true,
          false,
          false,
          true,
          true,
          true,
          true,
          false,
          true,
          true,
          true,
          false,
          false,
          false,
          false,
          false,
          true,
          true,
          false,
          false,
          false,
          false,
          true,
          false,
          true,
          true,
          true,
          true,
          true,
          true,
          false,
          false,
          true,
          false,
          false,
          true,
          false,
          true,
          false,
          true,
          true,
          true,
          false,
          false,
          false,
          false,
          false,
          false,
          true,
          true,
          true,
          false,
          true,
          false,
          false,
          true,
          true,
          true,
          false,
          false,
          true,
          false,
          false,
          true,
          false,
          false,
          true,
          true,
          false,
          true,
          false,
          false,
          false,
          false,
          false,
          true,
          true,
          true,
          true,
          false,
          true,
          false,
          true,
          false,
          true,
          false,
          true,
          false,
          true,
          true,
          false,
          true,
          true,
          false,
          false,
          true,
          true,
          true,
          false,
          false,
          false,
          true,
          false,
          false,
          true,
          false,
          false,
          true,
          true,
          true,
          true,
          false,
          true,
          false,
          true,
          false,
          false,
          true,
          true,
          true,
          false,
          true,
          true,
          false,
          false,
          true,
          false,
          false,
          true,
          false,
          false,
          false,
          true,
          false,
          true,
          false,
          true,
          true,
          false,
          true,
          false,
          false,
          false,
          false,
          false,
          true,
          false,
          false,
          true,
          true
         ],
         "xaxis": "x",
         "yaxis": "y"
        }
       ],
       "layout": {
        "barmode": "relative",
        "legend": {
         "tracegroupgap": 0
        },
        "template": {
         "data": {
          "bar": [
           {
            "error_x": {
             "color": "#2a3f5f"
            },
            "error_y": {
             "color": "#2a3f5f"
            },
            "marker": {
             "line": {
              "color": "#E5ECF6",
              "width": 0.5
             },
             "pattern": {
              "fillmode": "overlay",
              "size": 10,
              "solidity": 0.2
             }
            },
            "type": "bar"
           }
          ],
          "barpolar": [
           {
            "marker": {
             "line": {
              "color": "#E5ECF6",
              "width": 0.5
             },
             "pattern": {
              "fillmode": "overlay",
              "size": 10,
              "solidity": 0.2
             }
            },
            "type": "barpolar"
           }
          ],
          "carpet": [
           {
            "aaxis": {
             "endlinecolor": "#2a3f5f",
             "gridcolor": "white",
             "linecolor": "white",
             "minorgridcolor": "white",
             "startlinecolor": "#2a3f5f"
            },
            "baxis": {
             "endlinecolor": "#2a3f5f",
             "gridcolor": "white",
             "linecolor": "white",
             "minorgridcolor": "white",
             "startlinecolor": "#2a3f5f"
            },
            "type": "carpet"
           }
          ],
          "choropleth": [
           {
            "colorbar": {
             "outlinewidth": 0,
             "ticks": ""
            },
            "type": "choropleth"
           }
          ],
          "contour": [
           {
            "colorbar": {
             "outlinewidth": 0,
             "ticks": ""
            },
            "colorscale": [
             [
              0,
              "#0d0887"
             ],
             [
              0.1111111111111111,
              "#46039f"
             ],
             [
              0.2222222222222222,
              "#7201a8"
             ],
             [
              0.3333333333333333,
              "#9c179e"
             ],
             [
              0.4444444444444444,
              "#bd3786"
             ],
             [
              0.5555555555555556,
              "#d8576b"
             ],
             [
              0.6666666666666666,
              "#ed7953"
             ],
             [
              0.7777777777777778,
              "#fb9f3a"
             ],
             [
              0.8888888888888888,
              "#fdca26"
             ],
             [
              1,
              "#f0f921"
             ]
            ],
            "type": "contour"
           }
          ],
          "contourcarpet": [
           {
            "colorbar": {
             "outlinewidth": 0,
             "ticks": ""
            },
            "type": "contourcarpet"
           }
          ],
          "heatmap": [
           {
            "colorbar": {
             "outlinewidth": 0,
             "ticks": ""
            },
            "colorscale": [
             [
              0,
              "#0d0887"
             ],
             [
              0.1111111111111111,
              "#46039f"
             ],
             [
              0.2222222222222222,
              "#7201a8"
             ],
             [
              0.3333333333333333,
              "#9c179e"
             ],
             [
              0.4444444444444444,
              "#bd3786"
             ],
             [
              0.5555555555555556,
              "#d8576b"
             ],
             [
              0.6666666666666666,
              "#ed7953"
             ],
             [
              0.7777777777777778,
              "#fb9f3a"
             ],
             [
              0.8888888888888888,
              "#fdca26"
             ],
             [
              1,
              "#f0f921"
             ]
            ],
            "type": "heatmap"
           }
          ],
          "histogram": [
           {
            "marker": {
             "pattern": {
              "fillmode": "overlay",
              "size": 10,
              "solidity": 0.2
             }
            },
            "type": "histogram"
           }
          ],
          "histogram2d": [
           {
            "colorbar": {
             "outlinewidth": 0,
             "ticks": ""
            },
            "colorscale": [
             [
              0,
              "#0d0887"
             ],
             [
              0.1111111111111111,
              "#46039f"
             ],
             [
              0.2222222222222222,
              "#7201a8"
             ],
             [
              0.3333333333333333,
              "#9c179e"
             ],
             [
              0.4444444444444444,
              "#bd3786"
             ],
             [
              0.5555555555555556,
              "#d8576b"
             ],
             [
              0.6666666666666666,
              "#ed7953"
             ],
             [
              0.7777777777777778,
              "#fb9f3a"
             ],
             [
              0.8888888888888888,
              "#fdca26"
             ],
             [
              1,
              "#f0f921"
             ]
            ],
            "type": "histogram2d"
           }
          ],
          "histogram2dcontour": [
           {
            "colorbar": {
             "outlinewidth": 0,
             "ticks": ""
            },
            "colorscale": [
             [
              0,
              "#0d0887"
             ],
             [
              0.1111111111111111,
              "#46039f"
             ],
             [
              0.2222222222222222,
              "#7201a8"
             ],
             [
              0.3333333333333333,
              "#9c179e"
             ],
             [
              0.4444444444444444,
              "#bd3786"
             ],
             [
              0.5555555555555556,
              "#d8576b"
             ],
             [
              0.6666666666666666,
              "#ed7953"
             ],
             [
              0.7777777777777778,
              "#fb9f3a"
             ],
             [
              0.8888888888888888,
              "#fdca26"
             ],
             [
              1,
              "#f0f921"
             ]
            ],
            "type": "histogram2dcontour"
           }
          ],
          "mesh3d": [
           {
            "colorbar": {
             "outlinewidth": 0,
             "ticks": ""
            },
            "type": "mesh3d"
           }
          ],
          "parcoords": [
           {
            "line": {
             "colorbar": {
              "outlinewidth": 0,
              "ticks": ""
             }
            },
            "type": "parcoords"
           }
          ],
          "pie": [
           {
            "automargin": true,
            "type": "pie"
           }
          ],
          "scatter": [
           {
            "fillpattern": {
             "fillmode": "overlay",
             "size": 10,
             "solidity": 0.2
            },
            "type": "scatter"
           }
          ],
          "scatter3d": [
           {
            "line": {
             "colorbar": {
              "outlinewidth": 0,
              "ticks": ""
             }
            },
            "marker": {
             "colorbar": {
              "outlinewidth": 0,
              "ticks": ""
             }
            },
            "type": "scatter3d"
           }
          ],
          "scattercarpet": [
           {
            "marker": {
             "colorbar": {
              "outlinewidth": 0,
              "ticks": ""
             }
            },
            "type": "scattercarpet"
           }
          ],
          "scattergeo": [
           {
            "marker": {
             "colorbar": {
              "outlinewidth": 0,
              "ticks": ""
             }
            },
            "type": "scattergeo"
           }
          ],
          "scattergl": [
           {
            "marker": {
             "colorbar": {
              "outlinewidth": 0,
              "ticks": ""
             }
            },
            "type": "scattergl"
           }
          ],
          "scattermap": [
           {
            "marker": {
             "colorbar": {
              "outlinewidth": 0,
              "ticks": ""
             }
            },
            "type": "scattermap"
           }
          ],
          "scattermapbox": [
           {
            "marker": {
             "colorbar": {
              "outlinewidth": 0,
              "ticks": ""
             }
            },
            "type": "scattermapbox"
           }
          ],
          "scatterpolar": [
           {
            "marker": {
             "colorbar": {
              "outlinewidth": 0,
              "ticks": ""
             }
            },
            "type": "scatterpolar"
           }
          ],
          "scatterpolargl": [
           {
            "marker": {
             "colorbar": {
              "outlinewidth": 0,
              "ticks": ""
             }
            },
            "type": "scatterpolargl"
           }
          ],
          "scatterternary": [
           {
            "marker": {
             "colorbar": {
              "outlinewidth": 0,
              "ticks": ""
             }
            },
            "type": "scatterternary"
           }
          ],
          "surface": [
           {
            "colorbar": {
             "outlinewidth": 0,
             "ticks": ""
            },
            "colorscale": [
             [
              0,
              "#0d0887"
             ],
             [
              0.1111111111111111,
              "#46039f"
             ],
             [
              0.2222222222222222,
              "#7201a8"
             ],
             [
              0.3333333333333333,
              "#9c179e"
             ],
             [
              0.4444444444444444,
              "#bd3786"
             ],
             [
              0.5555555555555556,
              "#d8576b"
             ],
             [
              0.6666666666666666,
              "#ed7953"
             ],
             [
              0.7777777777777778,
              "#fb9f3a"
             ],
             [
              0.8888888888888888,
              "#fdca26"
             ],
             [
              1,
              "#f0f921"
             ]
            ],
            "type": "surface"
           }
          ],
          "table": [
           {
            "cells": {
             "fill": {
              "color": "#EBF0F8"
             },
             "line": {
              "color": "white"
             }
            },
            "header": {
             "fill": {
              "color": "#C8D4E3"
             },
             "line": {
              "color": "white"
             }
            },
            "type": "table"
           }
          ]
         },
         "layout": {
          "annotationdefaults": {
           "arrowcolor": "#2a3f5f",
           "arrowhead": 0,
           "arrowwidth": 1
          },
          "autotypenumbers": "strict",
          "coloraxis": {
           "colorbar": {
            "outlinewidth": 0,
            "ticks": ""
           }
          },
          "colorscale": {
           "diverging": [
            [
             0,
             "#8e0152"
            ],
            [
             0.1,
             "#c51b7d"
            ],
            [
             0.2,
             "#de77ae"
            ],
            [
             0.3,
             "#f1b6da"
            ],
            [
             0.4,
             "#fde0ef"
            ],
            [
             0.5,
             "#f7f7f7"
            ],
            [
             0.6,
             "#e6f5d0"
            ],
            [
             0.7,
             "#b8e186"
            ],
            [
             0.8,
             "#7fbc41"
            ],
            [
             0.9,
             "#4d9221"
            ],
            [
             1,
             "#276419"
            ]
           ],
           "sequential": [
            [
             0,
             "#0d0887"
            ],
            [
             0.1111111111111111,
             "#46039f"
            ],
            [
             0.2222222222222222,
             "#7201a8"
            ],
            [
             0.3333333333333333,
             "#9c179e"
            ],
            [
             0.4444444444444444,
             "#bd3786"
            ],
            [
             0.5555555555555556,
             "#d8576b"
            ],
            [
             0.6666666666666666,
             "#ed7953"
            ],
            [
             0.7777777777777778,
             "#fb9f3a"
            ],
            [
             0.8888888888888888,
             "#fdca26"
            ],
            [
             1,
             "#f0f921"
            ]
           ],
           "sequentialminus": [
            [
             0,
             "#0d0887"
            ],
            [
             0.1111111111111111,
             "#46039f"
            ],
            [
             0.2222222222222222,
             "#7201a8"
            ],
            [
             0.3333333333333333,
             "#9c179e"
            ],
            [
             0.4444444444444444,
             "#bd3786"
            ],
            [
             0.5555555555555556,
             "#d8576b"
            ],
            [
             0.6666666666666666,
             "#ed7953"
            ],
            [
             0.7777777777777778,
             "#fb9f3a"
            ],
            [
             0.8888888888888888,
             "#fdca26"
            ],
            [
             1,
             "#f0f921"
            ]
           ]
          },
          "colorway": [
           "#636efa",
           "#EF553B",
           "#00cc96",
           "#ab63fa",
           "#FFA15A",
           "#19d3f3",
           "#FF6692",
           "#B6E880",
           "#FF97FF",
           "#FECB52"
          ],
          "font": {
           "color": "#2a3f5f"
          },
          "geo": {
           "bgcolor": "white",
           "lakecolor": "white",
           "landcolor": "#E5ECF6",
           "showlakes": true,
           "showland": true,
           "subunitcolor": "white"
          },
          "hoverlabel": {
           "align": "left"
          },
          "hovermode": "closest",
          "mapbox": {
           "style": "light"
          },
          "paper_bgcolor": "white",
          "plot_bgcolor": "#E5ECF6",
          "polar": {
           "angularaxis": {
            "gridcolor": "white",
            "linecolor": "white",
            "ticks": ""
           },
           "bgcolor": "#E5ECF6",
           "radialaxis": {
            "gridcolor": "white",
            "linecolor": "white",
            "ticks": ""
           }
          },
          "scene": {
           "xaxis": {
            "backgroundcolor": "#E5ECF6",
            "gridcolor": "white",
            "gridwidth": 2,
            "linecolor": "white",
            "showbackground": true,
            "ticks": "",
            "zerolinecolor": "white"
           },
           "yaxis": {
            "backgroundcolor": "#E5ECF6",
            "gridcolor": "white",
            "gridwidth": 2,
            "linecolor": "white",
            "showbackground": true,
            "ticks": "",
            "zerolinecolor": "white"
           },
           "zaxis": {
            "backgroundcolor": "#E5ECF6",
            "gridcolor": "white",
            "gridwidth": 2,
            "linecolor": "white",
            "showbackground": true,
            "ticks": "",
            "zerolinecolor": "white"
           }
          },
          "shapedefaults": {
           "line": {
            "color": "#2a3f5f"
           }
          },
          "ternary": {
           "aaxis": {
            "gridcolor": "white",
            "linecolor": "white",
            "ticks": ""
           },
           "baxis": {
            "gridcolor": "white",
            "linecolor": "white",
            "ticks": ""
           },
           "bgcolor": "#E5ECF6",
           "caxis": {
            "gridcolor": "white",
            "linecolor": "white",
            "ticks": ""
           }
          },
          "title": {
           "x": 0.05
          },
          "xaxis": {
           "automargin": true,
           "gridcolor": "white",
           "linecolor": "white",
           "ticks": "",
           "title": {
            "standoff": 15
           },
           "zerolinecolor": "white",
           "zerolinewidth": 2
          },
          "yaxis": {
           "automargin": true,
           "gridcolor": "white",
           "linecolor": "white",
           "ticks": "",
           "title": {
            "standoff": 15
           },
           "zerolinecolor": "white",
           "zerolinewidth": 2
          }
         }
        },
        "title": {
         "text": "Distribution of Positive Arrival Delays (minutes)"
        },
        "xaxis": {
         "anchor": "y",
         "domain": [
          0,
          1
         ],
         "title": {
          "text": "ArrDelay"
         }
        },
        "yaxis": {
         "anchor": "x",
         "domain": [
          0,
          1
         ],
         "title": {
          "text": "count"
         }
        }
       }
      }
     },
     "metadata": {},
     "output_type": "display_data"
    }
   ],
   "source": [
    "fig = px.histogram(data['ArrDelay'] > 0, x='ArrDelay',\n",
    "                   nbins=50,\n",
    "                   title='Distribution of Positive Arrival Delays (minutes)')\n",
    "fig.show()\n"
   ]
  },
  {
   "cell_type": "markdown",
   "id": "87315266-1516-454c-8d67-d12b98c13a98",
   "metadata": {},
   "source": [
    "## 5. Bubble Plot: \n",
    "A bubble plot is used to show the relationship between 3 or more variables. It is an extension of a scatter plot. Bubble plots are ideal for visualizing:\n",
    "\n",
    "  * Global Economic position of Industries\n",
    "  * Impact of viruses on Diseases"
   ]
  },
  {
   "cell_type": "markdown",
   "id": "8cc0ef11-9506-4974-ae69-25c836135235",
   "metadata": {},
   "source": [
    "Let  use a bubble plot to represent number of flights as per reporting airline\n",
    "\n",
    "This plot should contain the following\n",
    "\n",
    "* Title as **Reporting Airline vs Number of Flights**.\n",
    "* x-axis label should be **Reporting_Airline**\n",
    "* y-axis label should be **Flights**\n",
    "* size of the bubble should be **Flights** indicating number of flights\n",
    "* Name of the hover tooltip to `reporting_airline` using `hover_name` parameter."
   ]
  },
  {
   "cell_type": "code",
   "execution_count": 30,
   "id": "c7efe9e9-17ef-4366-bd36-904f7eba6608",
   "metadata": {},
   "outputs": [
    {
     "data": {
      "application/vnd.plotly.v1+json": {
       "config": {
        "plotlyServerURL": "https://plot.ly"
       },
       "data": [
        {
         "hovertemplate": "<b>%{hovertext}</b><br><br>Reporting_Airline=%{x}<br>Flights=%{y}<extra></extra>",
         "hovertext": [
          "9E",
          "AA",
          "AS",
          "B6",
          "CO",
          "DL",
          "EA",
          "EV",
          "F9",
          "FL",
          "HA",
          "HP",
          "KH",
          "MQ",
          "NK",
          "NW",
          "OH",
          "OO",
          "PA (1)",
          "PI",
          "PS",
          "TW",
          "UA",
          "US",
          "VX",
          "WN",
          "XE",
          "YV",
          "YX"
         ],
         "legendgroup": "",
         "marker": {
          "color": "#636efa",
          "symbol": "circle"
         },
         "mode": "markers",
         "name": "",
         "orientation": "v",
         "showlegend": false,
         "type": "scatter",
         "x": [
          "9E",
          "AA",
          "AS",
          "B6",
          "CO",
          "DL",
          "EA",
          "EV",
          "F9",
          "FL",
          "HA",
          "HP",
          "KH",
          "MQ",
          "NK",
          "NW",
          "OH",
          "OO",
          "PA (1)",
          "PI",
          "PS",
          "TW",
          "UA",
          "US",
          "VX",
          "WN",
          "XE",
          "YV",
          "YX"
         ],
         "xaxis": "x",
         "y": {
          "bdata": "AAAAAAAAFEAAAAAAAIBMQAAAAAAAACxAAAAAAAAAJEAAAAAAAAAoQAAAAAAAgFBAAAAAAAAAEEAAAAAAAAAmQAAAAAAAABBAAAAAAAAACEAAAAAAAAAIQAAAAAAAABxAAAAAAAAA8D8AAAAAAAA7QAAAAAAAAAhAAAAAAAAAOkAAAAAAAAAgQAAAAAAAADxAAAAAAAAA8D8AAAAAAADwPwAAAAAAAPA/AAAAAAAALEAAAAAAAIBJQAAAAAAAgEVAAAAAAAAA8D8AAAAAAIBVQAAAAAAAABhAAAAAAAAAGEAAAAAAAADwPw==",
          "dtype": "f8"
         },
         "yaxis": "y"
        }
       ],
       "layout": {
        "legend": {
         "tracegroupgap": 0
        },
        "template": {
         "data": {
          "bar": [
           {
            "error_x": {
             "color": "#2a3f5f"
            },
            "error_y": {
             "color": "#2a3f5f"
            },
            "marker": {
             "line": {
              "color": "#E5ECF6",
              "width": 0.5
             },
             "pattern": {
              "fillmode": "overlay",
              "size": 10,
              "solidity": 0.2
             }
            },
            "type": "bar"
           }
          ],
          "barpolar": [
           {
            "marker": {
             "line": {
              "color": "#E5ECF6",
              "width": 0.5
             },
             "pattern": {
              "fillmode": "overlay",
              "size": 10,
              "solidity": 0.2
             }
            },
            "type": "barpolar"
           }
          ],
          "carpet": [
           {
            "aaxis": {
             "endlinecolor": "#2a3f5f",
             "gridcolor": "white",
             "linecolor": "white",
             "minorgridcolor": "white",
             "startlinecolor": "#2a3f5f"
            },
            "baxis": {
             "endlinecolor": "#2a3f5f",
             "gridcolor": "white",
             "linecolor": "white",
             "minorgridcolor": "white",
             "startlinecolor": "#2a3f5f"
            },
            "type": "carpet"
           }
          ],
          "choropleth": [
           {
            "colorbar": {
             "outlinewidth": 0,
             "ticks": ""
            },
            "type": "choropleth"
           }
          ],
          "contour": [
           {
            "colorbar": {
             "outlinewidth": 0,
             "ticks": ""
            },
            "colorscale": [
             [
              0,
              "#0d0887"
             ],
             [
              0.1111111111111111,
              "#46039f"
             ],
             [
              0.2222222222222222,
              "#7201a8"
             ],
             [
              0.3333333333333333,
              "#9c179e"
             ],
             [
              0.4444444444444444,
              "#bd3786"
             ],
             [
              0.5555555555555556,
              "#d8576b"
             ],
             [
              0.6666666666666666,
              "#ed7953"
             ],
             [
              0.7777777777777778,
              "#fb9f3a"
             ],
             [
              0.8888888888888888,
              "#fdca26"
             ],
             [
              1,
              "#f0f921"
             ]
            ],
            "type": "contour"
           }
          ],
          "contourcarpet": [
           {
            "colorbar": {
             "outlinewidth": 0,
             "ticks": ""
            },
            "type": "contourcarpet"
           }
          ],
          "heatmap": [
           {
            "colorbar": {
             "outlinewidth": 0,
             "ticks": ""
            },
            "colorscale": [
             [
              0,
              "#0d0887"
             ],
             [
              0.1111111111111111,
              "#46039f"
             ],
             [
              0.2222222222222222,
              "#7201a8"
             ],
             [
              0.3333333333333333,
              "#9c179e"
             ],
             [
              0.4444444444444444,
              "#bd3786"
             ],
             [
              0.5555555555555556,
              "#d8576b"
             ],
             [
              0.6666666666666666,
              "#ed7953"
             ],
             [
              0.7777777777777778,
              "#fb9f3a"
             ],
             [
              0.8888888888888888,
              "#fdca26"
             ],
             [
              1,
              "#f0f921"
             ]
            ],
            "type": "heatmap"
           }
          ],
          "histogram": [
           {
            "marker": {
             "pattern": {
              "fillmode": "overlay",
              "size": 10,
              "solidity": 0.2
             }
            },
            "type": "histogram"
           }
          ],
          "histogram2d": [
           {
            "colorbar": {
             "outlinewidth": 0,
             "ticks": ""
            },
            "colorscale": [
             [
              0,
              "#0d0887"
             ],
             [
              0.1111111111111111,
              "#46039f"
             ],
             [
              0.2222222222222222,
              "#7201a8"
             ],
             [
              0.3333333333333333,
              "#9c179e"
             ],
             [
              0.4444444444444444,
              "#bd3786"
             ],
             [
              0.5555555555555556,
              "#d8576b"
             ],
             [
              0.6666666666666666,
              "#ed7953"
             ],
             [
              0.7777777777777778,
              "#fb9f3a"
             ],
             [
              0.8888888888888888,
              "#fdca26"
             ],
             [
              1,
              "#f0f921"
             ]
            ],
            "type": "histogram2d"
           }
          ],
          "histogram2dcontour": [
           {
            "colorbar": {
             "outlinewidth": 0,
             "ticks": ""
            },
            "colorscale": [
             [
              0,
              "#0d0887"
             ],
             [
              0.1111111111111111,
              "#46039f"
             ],
             [
              0.2222222222222222,
              "#7201a8"
             ],
             [
              0.3333333333333333,
              "#9c179e"
             ],
             [
              0.4444444444444444,
              "#bd3786"
             ],
             [
              0.5555555555555556,
              "#d8576b"
             ],
             [
              0.6666666666666666,
              "#ed7953"
             ],
             [
              0.7777777777777778,
              "#fb9f3a"
             ],
             [
              0.8888888888888888,
              "#fdca26"
             ],
             [
              1,
              "#f0f921"
             ]
            ],
            "type": "histogram2dcontour"
           }
          ],
          "mesh3d": [
           {
            "colorbar": {
             "outlinewidth": 0,
             "ticks": ""
            },
            "type": "mesh3d"
           }
          ],
          "parcoords": [
           {
            "line": {
             "colorbar": {
              "outlinewidth": 0,
              "ticks": ""
             }
            },
            "type": "parcoords"
           }
          ],
          "pie": [
           {
            "automargin": true,
            "type": "pie"
           }
          ],
          "scatter": [
           {
            "fillpattern": {
             "fillmode": "overlay",
             "size": 10,
             "solidity": 0.2
            },
            "type": "scatter"
           }
          ],
          "scatter3d": [
           {
            "line": {
             "colorbar": {
              "outlinewidth": 0,
              "ticks": ""
             }
            },
            "marker": {
             "colorbar": {
              "outlinewidth": 0,
              "ticks": ""
             }
            },
            "type": "scatter3d"
           }
          ],
          "scattercarpet": [
           {
            "marker": {
             "colorbar": {
              "outlinewidth": 0,
              "ticks": ""
             }
            },
            "type": "scattercarpet"
           }
          ],
          "scattergeo": [
           {
            "marker": {
             "colorbar": {
              "outlinewidth": 0,
              "ticks": ""
             }
            },
            "type": "scattergeo"
           }
          ],
          "scattergl": [
           {
            "marker": {
             "colorbar": {
              "outlinewidth": 0,
              "ticks": ""
             }
            },
            "type": "scattergl"
           }
          ],
          "scattermap": [
           {
            "marker": {
             "colorbar": {
              "outlinewidth": 0,
              "ticks": ""
             }
            },
            "type": "scattermap"
           }
          ],
          "scattermapbox": [
           {
            "marker": {
             "colorbar": {
              "outlinewidth": 0,
              "ticks": ""
             }
            },
            "type": "scattermapbox"
           }
          ],
          "scatterpolar": [
           {
            "marker": {
             "colorbar": {
              "outlinewidth": 0,
              "ticks": ""
             }
            },
            "type": "scatterpolar"
           }
          ],
          "scatterpolargl": [
           {
            "marker": {
             "colorbar": {
              "outlinewidth": 0,
              "ticks": ""
             }
            },
            "type": "scatterpolargl"
           }
          ],
          "scatterternary": [
           {
            "marker": {
             "colorbar": {
              "outlinewidth": 0,
              "ticks": ""
             }
            },
            "type": "scatterternary"
           }
          ],
          "surface": [
           {
            "colorbar": {
             "outlinewidth": 0,
             "ticks": ""
            },
            "colorscale": [
             [
              0,
              "#0d0887"
             ],
             [
              0.1111111111111111,
              "#46039f"
             ],
             [
              0.2222222222222222,
              "#7201a8"
             ],
             [
              0.3333333333333333,
              "#9c179e"
             ],
             [
              0.4444444444444444,
              "#bd3786"
             ],
             [
              0.5555555555555556,
              "#d8576b"
             ],
             [
              0.6666666666666666,
              "#ed7953"
             ],
             [
              0.7777777777777778,
              "#fb9f3a"
             ],
             [
              0.8888888888888888,
              "#fdca26"
             ],
             [
              1,
              "#f0f921"
             ]
            ],
            "type": "surface"
           }
          ],
          "table": [
           {
            "cells": {
             "fill": {
              "color": "#EBF0F8"
             },
             "line": {
              "color": "white"
             }
            },
            "header": {
             "fill": {
              "color": "#C8D4E3"
             },
             "line": {
              "color": "white"
             }
            },
            "type": "table"
           }
          ]
         },
         "layout": {
          "annotationdefaults": {
           "arrowcolor": "#2a3f5f",
           "arrowhead": 0,
           "arrowwidth": 1
          },
          "autotypenumbers": "strict",
          "coloraxis": {
           "colorbar": {
            "outlinewidth": 0,
            "ticks": ""
           }
          },
          "colorscale": {
           "diverging": [
            [
             0,
             "#8e0152"
            ],
            [
             0.1,
             "#c51b7d"
            ],
            [
             0.2,
             "#de77ae"
            ],
            [
             0.3,
             "#f1b6da"
            ],
            [
             0.4,
             "#fde0ef"
            ],
            [
             0.5,
             "#f7f7f7"
            ],
            [
             0.6,
             "#e6f5d0"
            ],
            [
             0.7,
             "#b8e186"
            ],
            [
             0.8,
             "#7fbc41"
            ],
            [
             0.9,
             "#4d9221"
            ],
            [
             1,
             "#276419"
            ]
           ],
           "sequential": [
            [
             0,
             "#0d0887"
            ],
            [
             0.1111111111111111,
             "#46039f"
            ],
            [
             0.2222222222222222,
             "#7201a8"
            ],
            [
             0.3333333333333333,
             "#9c179e"
            ],
            [
             0.4444444444444444,
             "#bd3786"
            ],
            [
             0.5555555555555556,
             "#d8576b"
            ],
            [
             0.6666666666666666,
             "#ed7953"
            ],
            [
             0.7777777777777778,
             "#fb9f3a"
            ],
            [
             0.8888888888888888,
             "#fdca26"
            ],
            [
             1,
             "#f0f921"
            ]
           ],
           "sequentialminus": [
            [
             0,
             "#0d0887"
            ],
            [
             0.1111111111111111,
             "#46039f"
            ],
            [
             0.2222222222222222,
             "#7201a8"
            ],
            [
             0.3333333333333333,
             "#9c179e"
            ],
            [
             0.4444444444444444,
             "#bd3786"
            ],
            [
             0.5555555555555556,
             "#d8576b"
            ],
            [
             0.6666666666666666,
             "#ed7953"
            ],
            [
             0.7777777777777778,
             "#fb9f3a"
            ],
            [
             0.8888888888888888,
             "#fdca26"
            ],
            [
             1,
             "#f0f921"
            ]
           ]
          },
          "colorway": [
           "#636efa",
           "#EF553B",
           "#00cc96",
           "#ab63fa",
           "#FFA15A",
           "#19d3f3",
           "#FF6692",
           "#B6E880",
           "#FF97FF",
           "#FECB52"
          ],
          "font": {
           "color": "#2a3f5f"
          },
          "geo": {
           "bgcolor": "white",
           "lakecolor": "white",
           "landcolor": "#E5ECF6",
           "showlakes": true,
           "showland": true,
           "subunitcolor": "white"
          },
          "hoverlabel": {
           "align": "left"
          },
          "hovermode": "closest",
          "mapbox": {
           "style": "light"
          },
          "paper_bgcolor": "white",
          "plot_bgcolor": "#E5ECF6",
          "polar": {
           "angularaxis": {
            "gridcolor": "white",
            "linecolor": "white",
            "ticks": ""
           },
           "bgcolor": "#E5ECF6",
           "radialaxis": {
            "gridcolor": "white",
            "linecolor": "white",
            "ticks": ""
           }
          },
          "scene": {
           "xaxis": {
            "backgroundcolor": "#E5ECF6",
            "gridcolor": "white",
            "gridwidth": 2,
            "linecolor": "white",
            "showbackground": true,
            "ticks": "",
            "zerolinecolor": "white"
           },
           "yaxis": {
            "backgroundcolor": "#E5ECF6",
            "gridcolor": "white",
            "gridwidth": 2,
            "linecolor": "white",
            "showbackground": true,
            "ticks": "",
            "zerolinecolor": "white"
           },
           "zaxis": {
            "backgroundcolor": "#E5ECF6",
            "gridcolor": "white",
            "gridwidth": 2,
            "linecolor": "white",
            "showbackground": true,
            "ticks": "",
            "zerolinecolor": "white"
           }
          },
          "shapedefaults": {
           "line": {
            "color": "#2a3f5f"
           }
          },
          "ternary": {
           "aaxis": {
            "gridcolor": "white",
            "linecolor": "white",
            "ticks": ""
           },
           "baxis": {
            "gridcolor": "white",
            "linecolor": "white",
            "ticks": ""
           },
           "bgcolor": "#E5ECF6",
           "caxis": {
            "gridcolor": "white",
            "linecolor": "white",
            "ticks": ""
           }
          },
          "title": {
           "x": 0.05
          },
          "xaxis": {
           "automargin": true,
           "gridcolor": "white",
           "linecolor": "white",
           "ticks": "",
           "title": {
            "standoff": 15
           },
           "zerolinecolor": "white",
           "zerolinewidth": 2
          },
          "yaxis": {
           "automargin": true,
           "gridcolor": "white",
           "linecolor": "white",
           "ticks": "",
           "title": {
            "standoff": 15
           },
           "zerolinecolor": "white",
           "zerolinewidth": 2
          }
         }
        },
        "title": {
         "text": "Reporting Airline vs Number of Flights"
        },
        "xaxis": {
         "anchor": "y",
         "domain": [
          0,
          1
         ],
         "title": {
          "text": "Reporting_Airline"
         }
        },
        "yaxis": {
         "anchor": "x",
         "domain": [
          0,
          1
         ],
         "title": {
          "text": "Flights"
         }
        }
       }
      }
     },
     "metadata": {},
     "output_type": "display_data"
    }
   ],
   "source": [
    "bub_data = data.groupby('Reporting_Airline')['Flights'].sum().reset_index()\n",
    "fig=px.scatter(bub_data, x='Reporting_Airline', y='Flights', hover_name='Reporting_Airline', title='Reporting Airline vs Number of Flights', size_max=60)\n",
    "fig.show()"
   ]
  },
  {
   "cell_type": "markdown",
   "id": "ed9735c5-79d2-45e1-8150-e44775d0ea21",
   "metadata": {},
   "source": [
    "## 6.Pie Plot: \n",
    " A pie plot is a circle chart mainly used to represent proportion of part of given data with respect to the whole data. Each slice represents a proportion and on total of the proportion becomes a whole. We can use bar plots in visualizing:\n",
    " \n",
    " * Sales turnover percentatge with respect to different products\n",
    " * Monthly expenditure of a Family\n"
   ]
  },
  {
   "cell_type": "markdown",
   "id": "975945b8-8704-4110-8647-ba448f4c85de",
   "metadata": {},
   "source": [
    "Let us represent the proportion of distance group by month (month indicated by numbers)\n",
    "\n",
    "This plot should contain the following\n",
    "\n",
    "* Title as **Distance group proportion by month**.\n",
    "* values should be **Month**\n",
    "* names should be **DistanceGroup**"
   ]
  },
  {
   "cell_type": "code",
   "execution_count": 17,
   "id": "ee60c94a-d1ca-4ef4-901c-61a8f24e390b",
   "metadata": {},
   "outputs": [
    {
     "data": {
      "application/vnd.plotly.v1+json": {
       "config": {
        "plotlyServerURL": "https://plot.ly"
       },
       "data": [
        {
         "domain": {
          "x": [
           0,
           1
          ],
          "y": [
           0,
           1
          ]
         },
         "hovertemplate": "DistanceGroup=%{label}<br>Month=%{value}<extra></extra>",
         "labels": {
          "bdata": "AQMBCAIHCQQBBAICAQcCCgIDAgkCBAIBAQIEBQEKAgIHBAQCAQEDBQQBAgEHCwMEAwICAQEEBQICAgUCAgUDAQQBCgIBAQIGBAIBAwICAQICCAMGAgECAgMEAwEDBQICBQIICwQBAQIDAgQDBwMCAgMBAQEDCAIDAgEIAgMDAgoGBAUCAwMDBAMBBQEEAgQCCAEEAwIKCQMBAQEFBQMDAgECBwEEBQQCAgIDAgcCAgIDAQICAQQCAgEFAwUDAgMDBgEDAgECBwoBAQQDAgMEAgQHAwMBAQgEAQYDAgICBQIDBQoDBAIGBAIEAgUDAQQDBAMLBgUCBwIEAgQFAggHAgECAgEBAQMLBQYBAwIDAwQDAgMCAgEBAgsEBAQEAwQECAIFAgQCAgsCAwIBAwcCCAIFAQMEBQEFAgICBAEFAQUFBwIGAgYDBAMDAgICAwICCAYCAQEBBgUEBQMEAQICBwQBAwUEAwIHAgEBCwQFAgMCAgcCAQMCAwILBAIFAQMDAgQHAwMDBAUEAgIDAgECAwQEBQMEAgEBBgMBAgIBBQIDBQMCBAMEBwMDAgMDAwgDAwECCAEBAgUDAQECBwEECwQBBAIEAQIKBQQBAQUBAwECBAQCBAIBCwMCAQIJBwMDAgcEAQEGAwMIAQQEAwUBAgcFAgU=",
          "dtype": "i1"
         },
         "legendgroup": "",
         "name": "",
         "showlegend": true,
         "type": "pie",
         "values": {
          "bdata": "AwgHCgIBAgEDCwgICQsDCgMCDAwHCgEGCAECDAoLBQsJBAoHCQoHAQEHBQYEAwICCgwEAgsLBAsHBwULBAcJBQQFAwwFAwcFAQEDBwgKCwMEAgQMBQgMBgcMCAIICAUHBgkHCgEFBgUMCAcMDAwGBAYHDAMGBwgKCwcCBAIBBAQJBAYCCQcEAQwFCAgMBQwCBwUFCQcGBQoEAQkICAEBBgEEAwQJCgILCgIEBQsBBAsEDAUGDAkJBAwEDAcKAwgDCgwMBgoIBQwICwcBDAEGBgQMAwoDDAoKDAcJBwsIDAsCCQkFBgkDCQwFBAcBAgoGCAYKCwcIDAQHCwQGBQsEAQIMAwMJCQwKDAcJAQcCBAgHCAUBBAEHCAkGAQQDCwkMDAsDCAoLBQsDCAUIBgUECAIECwUHAwwCAwoKAQEGCwkBBAEJBgUFCAkKBgwBBQoFBwsKCAcMDAQMDAwJDAcMCwgGCwkFCgQDAQgMAQwMAgoDCQEFBAUKBQMMBAMMBQsMBAIJAgcLBgYGAQkHBgQDBAQIBwsFCwkKCAwDCwcDDAgJCQEMCAMKCwUCCwUCCgMBAggCBQsLDAQGBAUIBAIIBQUDAgQFAQMDAQMICgECAQkHBwkGCQQBBwIJCQsCBwgCAwEMBQwKBwQLAwsFBwELBwYDBAE=",
          "dtype": "i1"
         }
        }
       ],
       "layout": {
        "legend": {
         "tracegroupgap": 0
        },
        "template": {
         "data": {
          "bar": [
           {
            "error_x": {
             "color": "#2a3f5f"
            },
            "error_y": {
             "color": "#2a3f5f"
            },
            "marker": {
             "line": {
              "color": "#E5ECF6",
              "width": 0.5
             },
             "pattern": {
              "fillmode": "overlay",
              "size": 10,
              "solidity": 0.2
             }
            },
            "type": "bar"
           }
          ],
          "barpolar": [
           {
            "marker": {
             "line": {
              "color": "#E5ECF6",
              "width": 0.5
             },
             "pattern": {
              "fillmode": "overlay",
              "size": 10,
              "solidity": 0.2
             }
            },
            "type": "barpolar"
           }
          ],
          "carpet": [
           {
            "aaxis": {
             "endlinecolor": "#2a3f5f",
             "gridcolor": "white",
             "linecolor": "white",
             "minorgridcolor": "white",
             "startlinecolor": "#2a3f5f"
            },
            "baxis": {
             "endlinecolor": "#2a3f5f",
             "gridcolor": "white",
             "linecolor": "white",
             "minorgridcolor": "white",
             "startlinecolor": "#2a3f5f"
            },
            "type": "carpet"
           }
          ],
          "choropleth": [
           {
            "colorbar": {
             "outlinewidth": 0,
             "ticks": ""
            },
            "type": "choropleth"
           }
          ],
          "contour": [
           {
            "colorbar": {
             "outlinewidth": 0,
             "ticks": ""
            },
            "colorscale": [
             [
              0,
              "#0d0887"
             ],
             [
              0.1111111111111111,
              "#46039f"
             ],
             [
              0.2222222222222222,
              "#7201a8"
             ],
             [
              0.3333333333333333,
              "#9c179e"
             ],
             [
              0.4444444444444444,
              "#bd3786"
             ],
             [
              0.5555555555555556,
              "#d8576b"
             ],
             [
              0.6666666666666666,
              "#ed7953"
             ],
             [
              0.7777777777777778,
              "#fb9f3a"
             ],
             [
              0.8888888888888888,
              "#fdca26"
             ],
             [
              1,
              "#f0f921"
             ]
            ],
            "type": "contour"
           }
          ],
          "contourcarpet": [
           {
            "colorbar": {
             "outlinewidth": 0,
             "ticks": ""
            },
            "type": "contourcarpet"
           }
          ],
          "heatmap": [
           {
            "colorbar": {
             "outlinewidth": 0,
             "ticks": ""
            },
            "colorscale": [
             [
              0,
              "#0d0887"
             ],
             [
              0.1111111111111111,
              "#46039f"
             ],
             [
              0.2222222222222222,
              "#7201a8"
             ],
             [
              0.3333333333333333,
              "#9c179e"
             ],
             [
              0.4444444444444444,
              "#bd3786"
             ],
             [
              0.5555555555555556,
              "#d8576b"
             ],
             [
              0.6666666666666666,
              "#ed7953"
             ],
             [
              0.7777777777777778,
              "#fb9f3a"
             ],
             [
              0.8888888888888888,
              "#fdca26"
             ],
             [
              1,
              "#f0f921"
             ]
            ],
            "type": "heatmap"
           }
          ],
          "histogram": [
           {
            "marker": {
             "pattern": {
              "fillmode": "overlay",
              "size": 10,
              "solidity": 0.2
             }
            },
            "type": "histogram"
           }
          ],
          "histogram2d": [
           {
            "colorbar": {
             "outlinewidth": 0,
             "ticks": ""
            },
            "colorscale": [
             [
              0,
              "#0d0887"
             ],
             [
              0.1111111111111111,
              "#46039f"
             ],
             [
              0.2222222222222222,
              "#7201a8"
             ],
             [
              0.3333333333333333,
              "#9c179e"
             ],
             [
              0.4444444444444444,
              "#bd3786"
             ],
             [
              0.5555555555555556,
              "#d8576b"
             ],
             [
              0.6666666666666666,
              "#ed7953"
             ],
             [
              0.7777777777777778,
              "#fb9f3a"
             ],
             [
              0.8888888888888888,
              "#fdca26"
             ],
             [
              1,
              "#f0f921"
             ]
            ],
            "type": "histogram2d"
           }
          ],
          "histogram2dcontour": [
           {
            "colorbar": {
             "outlinewidth": 0,
             "ticks": ""
            },
            "colorscale": [
             [
              0,
              "#0d0887"
             ],
             [
              0.1111111111111111,
              "#46039f"
             ],
             [
              0.2222222222222222,
              "#7201a8"
             ],
             [
              0.3333333333333333,
              "#9c179e"
             ],
             [
              0.4444444444444444,
              "#bd3786"
             ],
             [
              0.5555555555555556,
              "#d8576b"
             ],
             [
              0.6666666666666666,
              "#ed7953"
             ],
             [
              0.7777777777777778,
              "#fb9f3a"
             ],
             [
              0.8888888888888888,
              "#fdca26"
             ],
             [
              1,
              "#f0f921"
             ]
            ],
            "type": "histogram2dcontour"
           }
          ],
          "mesh3d": [
           {
            "colorbar": {
             "outlinewidth": 0,
             "ticks": ""
            },
            "type": "mesh3d"
           }
          ],
          "parcoords": [
           {
            "line": {
             "colorbar": {
              "outlinewidth": 0,
              "ticks": ""
             }
            },
            "type": "parcoords"
           }
          ],
          "pie": [
           {
            "automargin": true,
            "type": "pie"
           }
          ],
          "scatter": [
           {
            "fillpattern": {
             "fillmode": "overlay",
             "size": 10,
             "solidity": 0.2
            },
            "type": "scatter"
           }
          ],
          "scatter3d": [
           {
            "line": {
             "colorbar": {
              "outlinewidth": 0,
              "ticks": ""
             }
            },
            "marker": {
             "colorbar": {
              "outlinewidth": 0,
              "ticks": ""
             }
            },
            "type": "scatter3d"
           }
          ],
          "scattercarpet": [
           {
            "marker": {
             "colorbar": {
              "outlinewidth": 0,
              "ticks": ""
             }
            },
            "type": "scattercarpet"
           }
          ],
          "scattergeo": [
           {
            "marker": {
             "colorbar": {
              "outlinewidth": 0,
              "ticks": ""
             }
            },
            "type": "scattergeo"
           }
          ],
          "scattergl": [
           {
            "marker": {
             "colorbar": {
              "outlinewidth": 0,
              "ticks": ""
             }
            },
            "type": "scattergl"
           }
          ],
          "scattermap": [
           {
            "marker": {
             "colorbar": {
              "outlinewidth": 0,
              "ticks": ""
             }
            },
            "type": "scattermap"
           }
          ],
          "scattermapbox": [
           {
            "marker": {
             "colorbar": {
              "outlinewidth": 0,
              "ticks": ""
             }
            },
            "type": "scattermapbox"
           }
          ],
          "scatterpolar": [
           {
            "marker": {
             "colorbar": {
              "outlinewidth": 0,
              "ticks": ""
             }
            },
            "type": "scatterpolar"
           }
          ],
          "scatterpolargl": [
           {
            "marker": {
             "colorbar": {
              "outlinewidth": 0,
              "ticks": ""
             }
            },
            "type": "scatterpolargl"
           }
          ],
          "scatterternary": [
           {
            "marker": {
             "colorbar": {
              "outlinewidth": 0,
              "ticks": ""
             }
            },
            "type": "scatterternary"
           }
          ],
          "surface": [
           {
            "colorbar": {
             "outlinewidth": 0,
             "ticks": ""
            },
            "colorscale": [
             [
              0,
              "#0d0887"
             ],
             [
              0.1111111111111111,
              "#46039f"
             ],
             [
              0.2222222222222222,
              "#7201a8"
             ],
             [
              0.3333333333333333,
              "#9c179e"
             ],
             [
              0.4444444444444444,
              "#bd3786"
             ],
             [
              0.5555555555555556,
              "#d8576b"
             ],
             [
              0.6666666666666666,
              "#ed7953"
             ],
             [
              0.7777777777777778,
              "#fb9f3a"
             ],
             [
              0.8888888888888888,
              "#fdca26"
             ],
             [
              1,
              "#f0f921"
             ]
            ],
            "type": "surface"
           }
          ],
          "table": [
           {
            "cells": {
             "fill": {
              "color": "#EBF0F8"
             },
             "line": {
              "color": "white"
             }
            },
            "header": {
             "fill": {
              "color": "#C8D4E3"
             },
             "line": {
              "color": "white"
             }
            },
            "type": "table"
           }
          ]
         },
         "layout": {
          "annotationdefaults": {
           "arrowcolor": "#2a3f5f",
           "arrowhead": 0,
           "arrowwidth": 1
          },
          "autotypenumbers": "strict",
          "coloraxis": {
           "colorbar": {
            "outlinewidth": 0,
            "ticks": ""
           }
          },
          "colorscale": {
           "diverging": [
            [
             0,
             "#8e0152"
            ],
            [
             0.1,
             "#c51b7d"
            ],
            [
             0.2,
             "#de77ae"
            ],
            [
             0.3,
             "#f1b6da"
            ],
            [
             0.4,
             "#fde0ef"
            ],
            [
             0.5,
             "#f7f7f7"
            ],
            [
             0.6,
             "#e6f5d0"
            ],
            [
             0.7,
             "#b8e186"
            ],
            [
             0.8,
             "#7fbc41"
            ],
            [
             0.9,
             "#4d9221"
            ],
            [
             1,
             "#276419"
            ]
           ],
           "sequential": [
            [
             0,
             "#0d0887"
            ],
            [
             0.1111111111111111,
             "#46039f"
            ],
            [
             0.2222222222222222,
             "#7201a8"
            ],
            [
             0.3333333333333333,
             "#9c179e"
            ],
            [
             0.4444444444444444,
             "#bd3786"
            ],
            [
             0.5555555555555556,
             "#d8576b"
            ],
            [
             0.6666666666666666,
             "#ed7953"
            ],
            [
             0.7777777777777778,
             "#fb9f3a"
            ],
            [
             0.8888888888888888,
             "#fdca26"
            ],
            [
             1,
             "#f0f921"
            ]
           ],
           "sequentialminus": [
            [
             0,
             "#0d0887"
            ],
            [
             0.1111111111111111,
             "#46039f"
            ],
            [
             0.2222222222222222,
             "#7201a8"
            ],
            [
             0.3333333333333333,
             "#9c179e"
            ],
            [
             0.4444444444444444,
             "#bd3786"
            ],
            [
             0.5555555555555556,
             "#d8576b"
            ],
            [
             0.6666666666666666,
             "#ed7953"
            ],
            [
             0.7777777777777778,
             "#fb9f3a"
            ],
            [
             0.8888888888888888,
             "#fdca26"
            ],
            [
             1,
             "#f0f921"
            ]
           ]
          },
          "colorway": [
           "#636efa",
           "#EF553B",
           "#00cc96",
           "#ab63fa",
           "#FFA15A",
           "#19d3f3",
           "#FF6692",
           "#B6E880",
           "#FF97FF",
           "#FECB52"
          ],
          "font": {
           "color": "#2a3f5f"
          },
          "geo": {
           "bgcolor": "white",
           "lakecolor": "white",
           "landcolor": "#E5ECF6",
           "showlakes": true,
           "showland": true,
           "subunitcolor": "white"
          },
          "hoverlabel": {
           "align": "left"
          },
          "hovermode": "closest",
          "mapbox": {
           "style": "light"
          },
          "paper_bgcolor": "white",
          "plot_bgcolor": "#E5ECF6",
          "polar": {
           "angularaxis": {
            "gridcolor": "white",
            "linecolor": "white",
            "ticks": ""
           },
           "bgcolor": "#E5ECF6",
           "radialaxis": {
            "gridcolor": "white",
            "linecolor": "white",
            "ticks": ""
           }
          },
          "scene": {
           "xaxis": {
            "backgroundcolor": "#E5ECF6",
            "gridcolor": "white",
            "gridwidth": 2,
            "linecolor": "white",
            "showbackground": true,
            "ticks": "",
            "zerolinecolor": "white"
           },
           "yaxis": {
            "backgroundcolor": "#E5ECF6",
            "gridcolor": "white",
            "gridwidth": 2,
            "linecolor": "white",
            "showbackground": true,
            "ticks": "",
            "zerolinecolor": "white"
           },
           "zaxis": {
            "backgroundcolor": "#E5ECF6",
            "gridcolor": "white",
            "gridwidth": 2,
            "linecolor": "white",
            "showbackground": true,
            "ticks": "",
            "zerolinecolor": "white"
           }
          },
          "shapedefaults": {
           "line": {
            "color": "#2a3f5f"
           }
          },
          "ternary": {
           "aaxis": {
            "gridcolor": "white",
            "linecolor": "white",
            "ticks": ""
           },
           "baxis": {
            "gridcolor": "white",
            "linecolor": "white",
            "ticks": ""
           },
           "bgcolor": "#E5ECF6",
           "caxis": {
            "gridcolor": "white",
            "linecolor": "white",
            "ticks": ""
           }
          },
          "title": {
           "x": 0.05
          },
          "xaxis": {
           "automargin": true,
           "gridcolor": "white",
           "linecolor": "white",
           "ticks": "",
           "title": {
            "standoff": 15
           },
           "zerolinecolor": "white",
           "zerolinewidth": 2
          },
          "yaxis": {
           "automargin": true,
           "gridcolor": "white",
           "linecolor": "white",
           "ticks": "",
           "title": {
            "standoff": 15
           },
           "zerolinecolor": "white",
           "zerolinewidth": 2
          }
         }
        },
        "title": {
         "text": "Distance group proportion by month"
        }
       }
      }
     },
     "metadata": {},
     "output_type": "display_data"
    }
   ],
   "source": [
    "fig = px.pie(data, values='Month', names='DistanceGroup', title='Distance group proportion by month')\n",
    "fig.show()"
   ]
  },
  {
   "cell_type": "markdown",
   "id": "459f45e8-a760-4dd0-998b-d850bf7139bc",
   "metadata": {},
   "source": [
    "DistanceGroup is a categorical grouping of flight distances into fixed ranges for simplified analysis and reporting.\n",
    "\n",
    "Flights are grouped by their Great Circle distance (in miles) into predefined buckets.\n",
    "\n",
    "Typically:\n",
    "\n",
    "1: 1–250 miles\n",
    "\n",
    "2: 251–500 miles\n",
    "\n",
    "3: 501–750 miles\n",
    "\n",
    "4: 751–1000 miles\n",
    "\n",
    "5: 1001–1250 miles (Could be different in exact data)"
   ]
  },
  {
   "cell_type": "code",
   "execution_count": 31,
   "id": "fc225026-1cf8-4879-96cf-c87d280d9c62",
   "metadata": {},
   "outputs": [
    {
     "name": "stdout",
     "output_type": "stream",
     "text": [
      "[ 1  3  8  2  7  9  4 10  5 11  6]\n"
     ]
    }
   ],
   "source": [
    "print(data['DistanceGroup'].unique())"
   ]
  },
  {
   "cell_type": "markdown",
   "id": "562bc6a3-d0e4-497b-a7a7-79e20e737a01",
   "metadata": {},
   "source": [
    "Now think how to get a pie chart that shows **Number of flights recorded in each month**"
   ]
  },
  {
   "cell_type": "code",
   "execution_count": 39,
   "id": "d45e45eb-3f50-47f7-aa33-fdbaee2d6886",
   "metadata": {},
   "outputs": [
    {
     "data": {
      "application/vnd.plotly.v1+json": {
       "config": {
        "plotlyServerURL": "https://plot.ly"
       },
       "data": [
        {
         "domain": {
          "x": [
           0,
           1
          ],
          "y": [
           0,
           1
          ]
         },
         "hovertemplate": "Month=%{label}<br>FlightCount=%{value}<extra></extra>",
         "labels": [
          "December",
          "April",
          "July",
          "May",
          "January",
          "November",
          "August",
          "March",
          "September",
          "October",
          "February",
          "June"
         ],
         "legendgroup": "",
         "name": "",
         "showlegend": true,
         "type": "pie",
         "values": {
          "bdata": "ODAuLispKScmJCIg",
          "dtype": "i1"
         }
        }
       ],
       "layout": {
        "legend": {
         "tracegroupgap": 0
        },
        "template": {
         "data": {
          "bar": [
           {
            "error_x": {
             "color": "#2a3f5f"
            },
            "error_y": {
             "color": "#2a3f5f"
            },
            "marker": {
             "line": {
              "color": "#E5ECF6",
              "width": 0.5
             },
             "pattern": {
              "fillmode": "overlay",
              "size": 10,
              "solidity": 0.2
             }
            },
            "type": "bar"
           }
          ],
          "barpolar": [
           {
            "marker": {
             "line": {
              "color": "#E5ECF6",
              "width": 0.5
             },
             "pattern": {
              "fillmode": "overlay",
              "size": 10,
              "solidity": 0.2
             }
            },
            "type": "barpolar"
           }
          ],
          "carpet": [
           {
            "aaxis": {
             "endlinecolor": "#2a3f5f",
             "gridcolor": "white",
             "linecolor": "white",
             "minorgridcolor": "white",
             "startlinecolor": "#2a3f5f"
            },
            "baxis": {
             "endlinecolor": "#2a3f5f",
             "gridcolor": "white",
             "linecolor": "white",
             "minorgridcolor": "white",
             "startlinecolor": "#2a3f5f"
            },
            "type": "carpet"
           }
          ],
          "choropleth": [
           {
            "colorbar": {
             "outlinewidth": 0,
             "ticks": ""
            },
            "type": "choropleth"
           }
          ],
          "contour": [
           {
            "colorbar": {
             "outlinewidth": 0,
             "ticks": ""
            },
            "colorscale": [
             [
              0,
              "#0d0887"
             ],
             [
              0.1111111111111111,
              "#46039f"
             ],
             [
              0.2222222222222222,
              "#7201a8"
             ],
             [
              0.3333333333333333,
              "#9c179e"
             ],
             [
              0.4444444444444444,
              "#bd3786"
             ],
             [
              0.5555555555555556,
              "#d8576b"
             ],
             [
              0.6666666666666666,
              "#ed7953"
             ],
             [
              0.7777777777777778,
              "#fb9f3a"
             ],
             [
              0.8888888888888888,
              "#fdca26"
             ],
             [
              1,
              "#f0f921"
             ]
            ],
            "type": "contour"
           }
          ],
          "contourcarpet": [
           {
            "colorbar": {
             "outlinewidth": 0,
             "ticks": ""
            },
            "type": "contourcarpet"
           }
          ],
          "heatmap": [
           {
            "colorbar": {
             "outlinewidth": 0,
             "ticks": ""
            },
            "colorscale": [
             [
              0,
              "#0d0887"
             ],
             [
              0.1111111111111111,
              "#46039f"
             ],
             [
              0.2222222222222222,
              "#7201a8"
             ],
             [
              0.3333333333333333,
              "#9c179e"
             ],
             [
              0.4444444444444444,
              "#bd3786"
             ],
             [
              0.5555555555555556,
              "#d8576b"
             ],
             [
              0.6666666666666666,
              "#ed7953"
             ],
             [
              0.7777777777777778,
              "#fb9f3a"
             ],
             [
              0.8888888888888888,
              "#fdca26"
             ],
             [
              1,
              "#f0f921"
             ]
            ],
            "type": "heatmap"
           }
          ],
          "histogram": [
           {
            "marker": {
             "pattern": {
              "fillmode": "overlay",
              "size": 10,
              "solidity": 0.2
             }
            },
            "type": "histogram"
           }
          ],
          "histogram2d": [
           {
            "colorbar": {
             "outlinewidth": 0,
             "ticks": ""
            },
            "colorscale": [
             [
              0,
              "#0d0887"
             ],
             [
              0.1111111111111111,
              "#46039f"
             ],
             [
              0.2222222222222222,
              "#7201a8"
             ],
             [
              0.3333333333333333,
              "#9c179e"
             ],
             [
              0.4444444444444444,
              "#bd3786"
             ],
             [
              0.5555555555555556,
              "#d8576b"
             ],
             [
              0.6666666666666666,
              "#ed7953"
             ],
             [
              0.7777777777777778,
              "#fb9f3a"
             ],
             [
              0.8888888888888888,
              "#fdca26"
             ],
             [
              1,
              "#f0f921"
             ]
            ],
            "type": "histogram2d"
           }
          ],
          "histogram2dcontour": [
           {
            "colorbar": {
             "outlinewidth": 0,
             "ticks": ""
            },
            "colorscale": [
             [
              0,
              "#0d0887"
             ],
             [
              0.1111111111111111,
              "#46039f"
             ],
             [
              0.2222222222222222,
              "#7201a8"
             ],
             [
              0.3333333333333333,
              "#9c179e"
             ],
             [
              0.4444444444444444,
              "#bd3786"
             ],
             [
              0.5555555555555556,
              "#d8576b"
             ],
             [
              0.6666666666666666,
              "#ed7953"
             ],
             [
              0.7777777777777778,
              "#fb9f3a"
             ],
             [
              0.8888888888888888,
              "#fdca26"
             ],
             [
              1,
              "#f0f921"
             ]
            ],
            "type": "histogram2dcontour"
           }
          ],
          "mesh3d": [
           {
            "colorbar": {
             "outlinewidth": 0,
             "ticks": ""
            },
            "type": "mesh3d"
           }
          ],
          "parcoords": [
           {
            "line": {
             "colorbar": {
              "outlinewidth": 0,
              "ticks": ""
             }
            },
            "type": "parcoords"
           }
          ],
          "pie": [
           {
            "automargin": true,
            "type": "pie"
           }
          ],
          "scatter": [
           {
            "fillpattern": {
             "fillmode": "overlay",
             "size": 10,
             "solidity": 0.2
            },
            "type": "scatter"
           }
          ],
          "scatter3d": [
           {
            "line": {
             "colorbar": {
              "outlinewidth": 0,
              "ticks": ""
             }
            },
            "marker": {
             "colorbar": {
              "outlinewidth": 0,
              "ticks": ""
             }
            },
            "type": "scatter3d"
           }
          ],
          "scattercarpet": [
           {
            "marker": {
             "colorbar": {
              "outlinewidth": 0,
              "ticks": ""
             }
            },
            "type": "scattercarpet"
           }
          ],
          "scattergeo": [
           {
            "marker": {
             "colorbar": {
              "outlinewidth": 0,
              "ticks": ""
             }
            },
            "type": "scattergeo"
           }
          ],
          "scattergl": [
           {
            "marker": {
             "colorbar": {
              "outlinewidth": 0,
              "ticks": ""
             }
            },
            "type": "scattergl"
           }
          ],
          "scattermap": [
           {
            "marker": {
             "colorbar": {
              "outlinewidth": 0,
              "ticks": ""
             }
            },
            "type": "scattermap"
           }
          ],
          "scattermapbox": [
           {
            "marker": {
             "colorbar": {
              "outlinewidth": 0,
              "ticks": ""
             }
            },
            "type": "scattermapbox"
           }
          ],
          "scatterpolar": [
           {
            "marker": {
             "colorbar": {
              "outlinewidth": 0,
              "ticks": ""
             }
            },
            "type": "scatterpolar"
           }
          ],
          "scatterpolargl": [
           {
            "marker": {
             "colorbar": {
              "outlinewidth": 0,
              "ticks": ""
             }
            },
            "type": "scatterpolargl"
           }
          ],
          "scatterternary": [
           {
            "marker": {
             "colorbar": {
              "outlinewidth": 0,
              "ticks": ""
             }
            },
            "type": "scatterternary"
           }
          ],
          "surface": [
           {
            "colorbar": {
             "outlinewidth": 0,
             "ticks": ""
            },
            "colorscale": [
             [
              0,
              "#0d0887"
             ],
             [
              0.1111111111111111,
              "#46039f"
             ],
             [
              0.2222222222222222,
              "#7201a8"
             ],
             [
              0.3333333333333333,
              "#9c179e"
             ],
             [
              0.4444444444444444,
              "#bd3786"
             ],
             [
              0.5555555555555556,
              "#d8576b"
             ],
             [
              0.6666666666666666,
              "#ed7953"
             ],
             [
              0.7777777777777778,
              "#fb9f3a"
             ],
             [
              0.8888888888888888,
              "#fdca26"
             ],
             [
              1,
              "#f0f921"
             ]
            ],
            "type": "surface"
           }
          ],
          "table": [
           {
            "cells": {
             "fill": {
              "color": "#EBF0F8"
             },
             "line": {
              "color": "white"
             }
            },
            "header": {
             "fill": {
              "color": "#C8D4E3"
             },
             "line": {
              "color": "white"
             }
            },
            "type": "table"
           }
          ]
         },
         "layout": {
          "annotationdefaults": {
           "arrowcolor": "#2a3f5f",
           "arrowhead": 0,
           "arrowwidth": 1
          },
          "autotypenumbers": "strict",
          "coloraxis": {
           "colorbar": {
            "outlinewidth": 0,
            "ticks": ""
           }
          },
          "colorscale": {
           "diverging": [
            [
             0,
             "#8e0152"
            ],
            [
             0.1,
             "#c51b7d"
            ],
            [
             0.2,
             "#de77ae"
            ],
            [
             0.3,
             "#f1b6da"
            ],
            [
             0.4,
             "#fde0ef"
            ],
            [
             0.5,
             "#f7f7f7"
            ],
            [
             0.6,
             "#e6f5d0"
            ],
            [
             0.7,
             "#b8e186"
            ],
            [
             0.8,
             "#7fbc41"
            ],
            [
             0.9,
             "#4d9221"
            ],
            [
             1,
             "#276419"
            ]
           ],
           "sequential": [
            [
             0,
             "#0d0887"
            ],
            [
             0.1111111111111111,
             "#46039f"
            ],
            [
             0.2222222222222222,
             "#7201a8"
            ],
            [
             0.3333333333333333,
             "#9c179e"
            ],
            [
             0.4444444444444444,
             "#bd3786"
            ],
            [
             0.5555555555555556,
             "#d8576b"
            ],
            [
             0.6666666666666666,
             "#ed7953"
            ],
            [
             0.7777777777777778,
             "#fb9f3a"
            ],
            [
             0.8888888888888888,
             "#fdca26"
            ],
            [
             1,
             "#f0f921"
            ]
           ],
           "sequentialminus": [
            [
             0,
             "#0d0887"
            ],
            [
             0.1111111111111111,
             "#46039f"
            ],
            [
             0.2222222222222222,
             "#7201a8"
            ],
            [
             0.3333333333333333,
             "#9c179e"
            ],
            [
             0.4444444444444444,
             "#bd3786"
            ],
            [
             0.5555555555555556,
             "#d8576b"
            ],
            [
             0.6666666666666666,
             "#ed7953"
            ],
            [
             0.7777777777777778,
             "#fb9f3a"
            ],
            [
             0.8888888888888888,
             "#fdca26"
            ],
            [
             1,
             "#f0f921"
            ]
           ]
          },
          "colorway": [
           "#636efa",
           "#EF553B",
           "#00cc96",
           "#ab63fa",
           "#FFA15A",
           "#19d3f3",
           "#FF6692",
           "#B6E880",
           "#FF97FF",
           "#FECB52"
          ],
          "font": {
           "color": "#2a3f5f"
          },
          "geo": {
           "bgcolor": "white",
           "lakecolor": "white",
           "landcolor": "#E5ECF6",
           "showlakes": true,
           "showland": true,
           "subunitcolor": "white"
          },
          "hoverlabel": {
           "align": "left"
          },
          "hovermode": "closest",
          "mapbox": {
           "style": "light"
          },
          "paper_bgcolor": "white",
          "plot_bgcolor": "#E5ECF6",
          "polar": {
           "angularaxis": {
            "gridcolor": "white",
            "linecolor": "white",
            "ticks": ""
           },
           "bgcolor": "#E5ECF6",
           "radialaxis": {
            "gridcolor": "white",
            "linecolor": "white",
            "ticks": ""
           }
          },
          "scene": {
           "xaxis": {
            "backgroundcolor": "#E5ECF6",
            "gridcolor": "white",
            "gridwidth": 2,
            "linecolor": "white",
            "showbackground": true,
            "ticks": "",
            "zerolinecolor": "white"
           },
           "yaxis": {
            "backgroundcolor": "#E5ECF6",
            "gridcolor": "white",
            "gridwidth": 2,
            "linecolor": "white",
            "showbackground": true,
            "ticks": "",
            "zerolinecolor": "white"
           },
           "zaxis": {
            "backgroundcolor": "#E5ECF6",
            "gridcolor": "white",
            "gridwidth": 2,
            "linecolor": "white",
            "showbackground": true,
            "ticks": "",
            "zerolinecolor": "white"
           }
          },
          "shapedefaults": {
           "line": {
            "color": "#2a3f5f"
           }
          },
          "ternary": {
           "aaxis": {
            "gridcolor": "white",
            "linecolor": "white",
            "ticks": ""
           },
           "baxis": {
            "gridcolor": "white",
            "linecolor": "white",
            "ticks": ""
           },
           "bgcolor": "#E5ECF6",
           "caxis": {
            "gridcolor": "white",
            "linecolor": "white",
            "ticks": ""
           }
          },
          "title": {
           "x": 0.05
          },
          "xaxis": {
           "automargin": true,
           "gridcolor": "white",
           "linecolor": "white",
           "ticks": "",
           "title": {
            "standoff": 15
           },
           "zerolinecolor": "white",
           "zerolinewidth": 2
          },
          "yaxis": {
           "automargin": true,
           "gridcolor": "white",
           "linecolor": "white",
           "ticks": "",
           "title": {
            "standoff": 15
           },
           "zerolinecolor": "white",
           "zerolinewidth": 2
          }
         }
        },
        "title": {
         "text": "Number of Flights Recorded in Each Month"
        }
       }
      }
     },
     "metadata": {},
     "output_type": "display_data"
    }
   ],
   "source": [
    "import plotly.express as px\n",
    "import pandas as pd\n",
    "import calendar\n",
    "\n",
    "# Step 1: Count number of flights per month\n",
    "month_counts = data['Month'].value_counts().reset_index()\n",
    "month_counts.columns = ['Month', 'FlightCount']\n",
    "\n",
    "# Step 2: Convert numeric months to names (optional for better visuals)\n",
    "month_counts['Month'] = month_counts['Month'].apply(lambda x: calendar.month_name[int(x)])\n",
    "\n",
    "# Step 3: Create pie chart\n",
    "fig = px.pie(\n",
    "    month_counts,\n",
    "    names='Month',\n",
    "    values='FlightCount',\n",
    "    title='Number of Flights Recorded in Each Month'\n",
    ")\n",
    "\n",
    "fig.show()\n",
    "\n",
    "\n",
    "\n",
    "\n"
   ]
  },
  {
   "cell_type": "markdown",
   "id": "f961fc7c-be20-4818-8cfa-06432ffbbbff",
   "metadata": {},
   "source": [
    "## 7.Sunburst Charts: \n",
    "Sunburst charts represent hierarchial data in the form of concentric circles. Here the innermost circle is the root node which defines the parent, and then the outer rings move down the hierarchy from the centre. They are also called radial charts.We can use them to plot\n",
    "\n",
    "* Worldwide mobile Sales where we can drill down as follows:   \n",
    "    * innermost circle represents total sales  \n",
    "    * first outer circle represents continentwise sales\n",
    "    * second outer circle represents countrywise sales within each continent\n",
    "    \n",
    "    \n",
    "* Disease outbreak hierarchy\n",
    "\n",
    "\n",
    "* Real Estate Industrial chain"
   ]
  },
  {
   "cell_type": "code",
   "execution_count": 52,
   "id": "ee63db42-e78d-492a-a62b-1891e84111ed",
   "metadata": {},
   "outputs": [
    {
     "data": {
      "application/vnd.plotly.v1+json": {
       "config": {
        "plotlyServerURL": "https://plot.ly"
       },
       "data": [
        {
         "domain": {
          "x": [
           0,
           1
          ],
          "y": [
           0,
           1
          ]
         },
         "hovertemplate": "character=%{label}<br>value=%{value}<br>parent=%{parent}<extra></extra>",
         "labels": [
          "Eve",
          "Cain",
          "Seth",
          "Enos",
          "Noam",
          "Abel",
          "Awan",
          "Enoch",
          "Azura"
         ],
         "name": "",
         "parents": [
          "",
          "Eve",
          "Eve",
          "Seth",
          "Seth",
          "Eve",
          "Eve",
          "Awan",
          "Eve"
         ],
         "type": "sunburst",
         "values": {
          "bdata": "Cg4MCgIGBgQE",
          "dtype": "i1"
         }
        }
       ],
       "layout": {
        "legend": {
         "tracegroupgap": 0
        },
        "template": {
         "data": {
          "bar": [
           {
            "error_x": {
             "color": "#2a3f5f"
            },
            "error_y": {
             "color": "#2a3f5f"
            },
            "marker": {
             "line": {
              "color": "#E5ECF6",
              "width": 0.5
             },
             "pattern": {
              "fillmode": "overlay",
              "size": 10,
              "solidity": 0.2
             }
            },
            "type": "bar"
           }
          ],
          "barpolar": [
           {
            "marker": {
             "line": {
              "color": "#E5ECF6",
              "width": 0.5
             },
             "pattern": {
              "fillmode": "overlay",
              "size": 10,
              "solidity": 0.2
             }
            },
            "type": "barpolar"
           }
          ],
          "carpet": [
           {
            "aaxis": {
             "endlinecolor": "#2a3f5f",
             "gridcolor": "white",
             "linecolor": "white",
             "minorgridcolor": "white",
             "startlinecolor": "#2a3f5f"
            },
            "baxis": {
             "endlinecolor": "#2a3f5f",
             "gridcolor": "white",
             "linecolor": "white",
             "minorgridcolor": "white",
             "startlinecolor": "#2a3f5f"
            },
            "type": "carpet"
           }
          ],
          "choropleth": [
           {
            "colorbar": {
             "outlinewidth": 0,
             "ticks": ""
            },
            "type": "choropleth"
           }
          ],
          "contour": [
           {
            "colorbar": {
             "outlinewidth": 0,
             "ticks": ""
            },
            "colorscale": [
             [
              0,
              "#0d0887"
             ],
             [
              0.1111111111111111,
              "#46039f"
             ],
             [
              0.2222222222222222,
              "#7201a8"
             ],
             [
              0.3333333333333333,
              "#9c179e"
             ],
             [
              0.4444444444444444,
              "#bd3786"
             ],
             [
              0.5555555555555556,
              "#d8576b"
             ],
             [
              0.6666666666666666,
              "#ed7953"
             ],
             [
              0.7777777777777778,
              "#fb9f3a"
             ],
             [
              0.8888888888888888,
              "#fdca26"
             ],
             [
              1,
              "#f0f921"
             ]
            ],
            "type": "contour"
           }
          ],
          "contourcarpet": [
           {
            "colorbar": {
             "outlinewidth": 0,
             "ticks": ""
            },
            "type": "contourcarpet"
           }
          ],
          "heatmap": [
           {
            "colorbar": {
             "outlinewidth": 0,
             "ticks": ""
            },
            "colorscale": [
             [
              0,
              "#0d0887"
             ],
             [
              0.1111111111111111,
              "#46039f"
             ],
             [
              0.2222222222222222,
              "#7201a8"
             ],
             [
              0.3333333333333333,
              "#9c179e"
             ],
             [
              0.4444444444444444,
              "#bd3786"
             ],
             [
              0.5555555555555556,
              "#d8576b"
             ],
             [
              0.6666666666666666,
              "#ed7953"
             ],
             [
              0.7777777777777778,
              "#fb9f3a"
             ],
             [
              0.8888888888888888,
              "#fdca26"
             ],
             [
              1,
              "#f0f921"
             ]
            ],
            "type": "heatmap"
           }
          ],
          "histogram": [
           {
            "marker": {
             "pattern": {
              "fillmode": "overlay",
              "size": 10,
              "solidity": 0.2
             }
            },
            "type": "histogram"
           }
          ],
          "histogram2d": [
           {
            "colorbar": {
             "outlinewidth": 0,
             "ticks": ""
            },
            "colorscale": [
             [
              0,
              "#0d0887"
             ],
             [
              0.1111111111111111,
              "#46039f"
             ],
             [
              0.2222222222222222,
              "#7201a8"
             ],
             [
              0.3333333333333333,
              "#9c179e"
             ],
             [
              0.4444444444444444,
              "#bd3786"
             ],
             [
              0.5555555555555556,
              "#d8576b"
             ],
             [
              0.6666666666666666,
              "#ed7953"
             ],
             [
              0.7777777777777778,
              "#fb9f3a"
             ],
             [
              0.8888888888888888,
              "#fdca26"
             ],
             [
              1,
              "#f0f921"
             ]
            ],
            "type": "histogram2d"
           }
          ],
          "histogram2dcontour": [
           {
            "colorbar": {
             "outlinewidth": 0,
             "ticks": ""
            },
            "colorscale": [
             [
              0,
              "#0d0887"
             ],
             [
              0.1111111111111111,
              "#46039f"
             ],
             [
              0.2222222222222222,
              "#7201a8"
             ],
             [
              0.3333333333333333,
              "#9c179e"
             ],
             [
              0.4444444444444444,
              "#bd3786"
             ],
             [
              0.5555555555555556,
              "#d8576b"
             ],
             [
              0.6666666666666666,
              "#ed7953"
             ],
             [
              0.7777777777777778,
              "#fb9f3a"
             ],
             [
              0.8888888888888888,
              "#fdca26"
             ],
             [
              1,
              "#f0f921"
             ]
            ],
            "type": "histogram2dcontour"
           }
          ],
          "mesh3d": [
           {
            "colorbar": {
             "outlinewidth": 0,
             "ticks": ""
            },
            "type": "mesh3d"
           }
          ],
          "parcoords": [
           {
            "line": {
             "colorbar": {
              "outlinewidth": 0,
              "ticks": ""
             }
            },
            "type": "parcoords"
           }
          ],
          "pie": [
           {
            "automargin": true,
            "type": "pie"
           }
          ],
          "scatter": [
           {
            "fillpattern": {
             "fillmode": "overlay",
             "size": 10,
             "solidity": 0.2
            },
            "type": "scatter"
           }
          ],
          "scatter3d": [
           {
            "line": {
             "colorbar": {
              "outlinewidth": 0,
              "ticks": ""
             }
            },
            "marker": {
             "colorbar": {
              "outlinewidth": 0,
              "ticks": ""
             }
            },
            "type": "scatter3d"
           }
          ],
          "scattercarpet": [
           {
            "marker": {
             "colorbar": {
              "outlinewidth": 0,
              "ticks": ""
             }
            },
            "type": "scattercarpet"
           }
          ],
          "scattergeo": [
           {
            "marker": {
             "colorbar": {
              "outlinewidth": 0,
              "ticks": ""
             }
            },
            "type": "scattergeo"
           }
          ],
          "scattergl": [
           {
            "marker": {
             "colorbar": {
              "outlinewidth": 0,
              "ticks": ""
             }
            },
            "type": "scattergl"
           }
          ],
          "scattermap": [
           {
            "marker": {
             "colorbar": {
              "outlinewidth": 0,
              "ticks": ""
             }
            },
            "type": "scattermap"
           }
          ],
          "scattermapbox": [
           {
            "marker": {
             "colorbar": {
              "outlinewidth": 0,
              "ticks": ""
             }
            },
            "type": "scattermapbox"
           }
          ],
          "scatterpolar": [
           {
            "marker": {
             "colorbar": {
              "outlinewidth": 0,
              "ticks": ""
             }
            },
            "type": "scatterpolar"
           }
          ],
          "scatterpolargl": [
           {
            "marker": {
             "colorbar": {
              "outlinewidth": 0,
              "ticks": ""
             }
            },
            "type": "scatterpolargl"
           }
          ],
          "scatterternary": [
           {
            "marker": {
             "colorbar": {
              "outlinewidth": 0,
              "ticks": ""
             }
            },
            "type": "scatterternary"
           }
          ],
          "surface": [
           {
            "colorbar": {
             "outlinewidth": 0,
             "ticks": ""
            },
            "colorscale": [
             [
              0,
              "#0d0887"
             ],
             [
              0.1111111111111111,
              "#46039f"
             ],
             [
              0.2222222222222222,
              "#7201a8"
             ],
             [
              0.3333333333333333,
              "#9c179e"
             ],
             [
              0.4444444444444444,
              "#bd3786"
             ],
             [
              0.5555555555555556,
              "#d8576b"
             ],
             [
              0.6666666666666666,
              "#ed7953"
             ],
             [
              0.7777777777777778,
              "#fb9f3a"
             ],
             [
              0.8888888888888888,
              "#fdca26"
             ],
             [
              1,
              "#f0f921"
             ]
            ],
            "type": "surface"
           }
          ],
          "table": [
           {
            "cells": {
             "fill": {
              "color": "#EBF0F8"
             },
             "line": {
              "color": "white"
             }
            },
            "header": {
             "fill": {
              "color": "#C8D4E3"
             },
             "line": {
              "color": "white"
             }
            },
            "type": "table"
           }
          ]
         },
         "layout": {
          "annotationdefaults": {
           "arrowcolor": "#2a3f5f",
           "arrowhead": 0,
           "arrowwidth": 1
          },
          "autotypenumbers": "strict",
          "coloraxis": {
           "colorbar": {
            "outlinewidth": 0,
            "ticks": ""
           }
          },
          "colorscale": {
           "diverging": [
            [
             0,
             "#8e0152"
            ],
            [
             0.1,
             "#c51b7d"
            ],
            [
             0.2,
             "#de77ae"
            ],
            [
             0.3,
             "#f1b6da"
            ],
            [
             0.4,
             "#fde0ef"
            ],
            [
             0.5,
             "#f7f7f7"
            ],
            [
             0.6,
             "#e6f5d0"
            ],
            [
             0.7,
             "#b8e186"
            ],
            [
             0.8,
             "#7fbc41"
            ],
            [
             0.9,
             "#4d9221"
            ],
            [
             1,
             "#276419"
            ]
           ],
           "sequential": [
            [
             0,
             "#0d0887"
            ],
            [
             0.1111111111111111,
             "#46039f"
            ],
            [
             0.2222222222222222,
             "#7201a8"
            ],
            [
             0.3333333333333333,
             "#9c179e"
            ],
            [
             0.4444444444444444,
             "#bd3786"
            ],
            [
             0.5555555555555556,
             "#d8576b"
            ],
            [
             0.6666666666666666,
             "#ed7953"
            ],
            [
             0.7777777777777778,
             "#fb9f3a"
            ],
            [
             0.8888888888888888,
             "#fdca26"
            ],
            [
             1,
             "#f0f921"
            ]
           ],
           "sequentialminus": [
            [
             0,
             "#0d0887"
            ],
            [
             0.1111111111111111,
             "#46039f"
            ],
            [
             0.2222222222222222,
             "#7201a8"
            ],
            [
             0.3333333333333333,
             "#9c179e"
            ],
            [
             0.4444444444444444,
             "#bd3786"
            ],
            [
             0.5555555555555556,
             "#d8576b"
            ],
            [
             0.6666666666666666,
             "#ed7953"
            ],
            [
             0.7777777777777778,
             "#fb9f3a"
            ],
            [
             0.8888888888888888,
             "#fdca26"
            ],
            [
             1,
             "#f0f921"
            ]
           ]
          },
          "colorway": [
           "#636efa",
           "#EF553B",
           "#00cc96",
           "#ab63fa",
           "#FFA15A",
           "#19d3f3",
           "#FF6692",
           "#B6E880",
           "#FF97FF",
           "#FECB52"
          ],
          "font": {
           "color": "#2a3f5f"
          },
          "geo": {
           "bgcolor": "white",
           "lakecolor": "white",
           "landcolor": "#E5ECF6",
           "showlakes": true,
           "showland": true,
           "subunitcolor": "white"
          },
          "hoverlabel": {
           "align": "left"
          },
          "hovermode": "closest",
          "mapbox": {
           "style": "light"
          },
          "paper_bgcolor": "white",
          "plot_bgcolor": "#E5ECF6",
          "polar": {
           "angularaxis": {
            "gridcolor": "white",
            "linecolor": "white",
            "ticks": ""
           },
           "bgcolor": "#E5ECF6",
           "radialaxis": {
            "gridcolor": "white",
            "linecolor": "white",
            "ticks": ""
           }
          },
          "scene": {
           "xaxis": {
            "backgroundcolor": "#E5ECF6",
            "gridcolor": "white",
            "gridwidth": 2,
            "linecolor": "white",
            "showbackground": true,
            "ticks": "",
            "zerolinecolor": "white"
           },
           "yaxis": {
            "backgroundcolor": "#E5ECF6",
            "gridcolor": "white",
            "gridwidth": 2,
            "linecolor": "white",
            "showbackground": true,
            "ticks": "",
            "zerolinecolor": "white"
           },
           "zaxis": {
            "backgroundcolor": "#E5ECF6",
            "gridcolor": "white",
            "gridwidth": 2,
            "linecolor": "white",
            "showbackground": true,
            "ticks": "",
            "zerolinecolor": "white"
           }
          },
          "shapedefaults": {
           "line": {
            "color": "#2a3f5f"
           }
          },
          "ternary": {
           "aaxis": {
            "gridcolor": "white",
            "linecolor": "white",
            "ticks": ""
           },
           "baxis": {
            "gridcolor": "white",
            "linecolor": "white",
            "ticks": ""
           },
           "bgcolor": "#E5ECF6",
           "caxis": {
            "gridcolor": "white",
            "linecolor": "white",
            "ticks": ""
           }
          },
          "title": {
           "x": 0.05
          },
          "xaxis": {
           "automargin": true,
           "gridcolor": "white",
           "linecolor": "white",
           "ticks": "",
           "title": {
            "standoff": 15
           },
           "zerolinecolor": "white",
           "zerolinewidth": 2
          },
          "yaxis": {
           "automargin": true,
           "gridcolor": "white",
           "linecolor": "white",
           "ticks": "",
           "title": {
            "standoff": 15
           },
           "zerolinecolor": "white",
           "zerolinewidth": 2
          }
         }
        },
        "title": {
         "text": "Family chart"
        }
       }
      }
     },
     "metadata": {},
     "output_type": "display_data"
    }
   ],
   "source": [
    "ex_data = dict(\n",
    "    character=[\"Eve\", \"Cain\", \"Seth\", \"Enos\", \"Noam\", \"Abel\", \"Awan\", \"Enoch\", \"Azura\"],\n",
    "    parent=[\"\", \"Eve\", \"Eve\", \"Seth\", \"Seth\", \"Eve\", \"Eve\", \"Awan\", \"Eve\" ],\n",
    "    value=[10, 14, 12, 10, 2, 6, 6, 4, 4])\n",
    "\n",
    "fig = px.sunburst(\n",
    "    ex_data,\n",
    "    names='character',\n",
    "    parents='parent',\n",
    "    values='value',\n",
    "    title=\"Family chart\"\n",
    ")\n",
    "fig.show()"
   ]
  },
  {
   "cell_type": "markdown",
   "id": "05fd81f2-4ab1-4d98-b8a0-2f8e0dcfe2e1",
   "metadata": {},
   "source": [
    "Let us represent the hierarchical view in othe order of month and destination state holding value of number of flights\n",
    "\n",
    "This plot should contain the following\n",
    "\n",
    "Define hierarchy of sectors from root to leaves in path parameter. Here, we go from Month to DestStateName feature.\n",
    "Set sector values in values parameter. Here, we can pass in Flights feature.\n",
    "Show the figure.\n",
    "Title as Flight Distribution Hierarchy"
   ]
  },
  {
   "cell_type": "code",
   "execution_count": 53,
   "id": "dd9a63ac-3325-4aac-b2e3-9b0a0f9dcbe6",
   "metadata": {},
   "outputs": [
    {
     "data": {
      "application/vnd.plotly.v1+json": {
       "config": {
        "plotlyServerURL": "https://plot.ly"
       },
       "data": [
        {
         "domain": {
          "x": [
           0,
           1
          ],
          "y": [
           0,
           1
          ]
         },
         "hovertemplate": "DestStateName=%{label}<br>Flights=%{value}<br>Month=%{parent}<extra></extra>",
         "labels": [
          "Wisconsin",
          "Georgia",
          "Nebraska",
          "Illinois",
          "Indiana",
          "Minnesota",
          "California",
          "Illinois",
          "California",
          "Nevada",
          "Arizona",
          "California",
          "Hawaii",
          "Georgia",
          "Illinois",
          "Virginia",
          "Oregon",
          "North Carolina",
          "Florida",
          "California",
          "Illinois",
          "North Carolina",
          "Tennessee",
          "Tennessee",
          "Oklahoma",
          "Massachusetts",
          "Kentucky",
          "California",
          "Ohio",
          "New Jersey",
          "Maryland",
          "North Carolina",
          "California",
          "Minnesota",
          "Colorado",
          "Connecticut",
          "Virginia",
          "Texas",
          "North Carolina",
          "Texas",
          "New Jersey",
          "Massachusetts",
          "Texas",
          "New York",
          "Illinois",
          "California",
          "Virginia",
          "Florida",
          "Kentucky",
          "New York",
          "Kentucky",
          "Texas",
          "Michigan",
          "Colorado",
          "Illinois",
          "New York",
          "Illinois",
          "Minnesota",
          "Florida",
          "Maryland",
          "California",
          "Colorado",
          "California",
          "Indiana",
          "Colorado",
          "Missouri",
          "Hawaii",
          "Tennessee",
          "Ohio",
          "New York",
          "Tennessee",
          "North Carolina",
          "Pennsylvania",
          "California",
          "Michigan",
          "Pennsylvania",
          "Georgia",
          "Michigan",
          "Nevada",
          "Georgia",
          "Ohio",
          "Utah",
          "Florida",
          "Maryland",
          "Missouri",
          "Pennsylvania",
          "California",
          "Alaska",
          "Florida",
          "Georgia",
          "New York",
          "New York",
          "Texas",
          "Washington",
          "Missouri",
          "Arizona",
          "Louisiana",
          "Nebraska",
          "Nevada",
          "New Jersey",
          "Maryland",
          "Arizona",
          "Michigan",
          "Texas",
          "Virginia",
          "California",
          "Florida",
          "North Carolina",
          "Texas",
          "Texas",
          "Utah",
          "Virginia",
          "Illinois",
          "Illinois",
          "Texas",
          "Illinois",
          "Georgia",
          "Utah",
          "Wisconsin",
          "Georgia",
          "Alaska",
          "Texas",
          "Virginia",
          "Nevada",
          "Utah",
          "Illinois",
          "Missouri",
          "California",
          "Pennsylvania",
          "Texas",
          "California",
          "Wisconsin",
          "North Carolina",
          "California",
          "Georgia",
          "Colorado",
          "Arizona",
          "Ohio",
          "Washington",
          "Illinois",
          "New York",
          "Missouri",
          "Florida",
          "Florida",
          "California",
          "Oklahoma",
          "California",
          "Tennessee",
          "California",
          "California",
          "California",
          "New Mexico",
          "Illinois",
          "Georgia",
          "Hawaii",
          "Colorado",
          "Connecticut",
          "Illinois",
          "California",
          "Georgia",
          "Colorado",
          "Missouri",
          "Colorado",
          "Oklahoma",
          "Texas",
          "Illinois",
          "Texas",
          "South Carolina",
          "Florida",
          "California",
          "Pennsylvania",
          "Nevada",
          "California",
          "California",
          "Kentucky",
          "California",
          "Texas",
          "Texas",
          "Illinois",
          "North Carolina",
          "Kentucky",
          "North Carolina",
          "Michigan",
          "California",
          "Colorado",
          "Florida",
          "Georgia",
          "New Jersey",
          "Michigan",
          "Virginia",
          "California",
          "Washington",
          "Minnesota",
          "Texas",
          "Illinois",
          "Kentucky",
          "Kentucky",
          "Texas",
          "Illinois",
          "Maryland",
          "Texas",
          "Florida",
          "Florida",
          "California",
          "Massachusetts",
          "Utah",
          "Montana",
          "Louisiana",
          "Florida",
          "Virginia",
          "Kentucky",
          "Alaska",
          "California",
          "Texas",
          "Massachusetts",
          "Texas",
          "Texas",
          "North Carolina",
          "California",
          "Missouri",
          "Texas",
          "California",
          "Massachusetts",
          "Missouri",
          "Colorado",
          "Texas",
          "California",
          "California",
          "Illinois",
          "Georgia",
          "Texas",
          "Georgia",
          "North Carolina",
          "Washington",
          "California",
          "Puerto Rico",
          "Illinois",
          "Idaho",
          "Florida",
          "Alabama",
          "Oregon",
          "Texas",
          "Florida",
          "Virginia",
          "California",
          "California",
          "Texas",
          "Texas",
          "Massachusetts",
          "North Carolina",
          "Pennsylvania",
          "Connecticut",
          "Tennessee",
          "Michigan",
          "California",
          "Iowa",
          "California",
          "Pennsylvania",
          "Kentucky",
          "Michigan",
          "Pennsylvania",
          "Washington",
          "Georgia",
          "New York",
          "Florida",
          "California",
          "Minnesota",
          "Utah",
          "Nevada",
          "Wisconsin",
          "Tennessee",
          "Texas",
          "Florida",
          "New York",
          "Ohio",
          "Tennessee",
          "Virginia",
          "Illinois",
          "Georgia",
          "Oklahoma",
          "Massachusetts",
          "Maryland",
          "Texas",
          "Minnesota",
          "Colorado",
          "Arizona",
          "Texas",
          "New York",
          "California",
          "Texas",
          "Texas",
          "Colorado",
          "New York",
          "Louisiana",
          "New York",
          "Massachusetts",
          "California",
          "Texas",
          "Texas",
          "Colorado",
          "Texas",
          "Illinois",
          "California",
          "Arizona",
          "Michigan",
          "Texas",
          "California",
          "Pennsylvania",
          "Georgia",
          "Connecticut",
          "Georgia",
          "Texas",
          "New Hampshire",
          "Georgia",
          "Illinois",
          "Washington",
          "Pennsylvania",
          "Texas",
          "Wisconsin",
          "Texas",
          "New York",
          "Missouri",
          "Texas",
          "Texas",
          "California",
          "Utah",
          "Indiana",
          "Virginia",
          "California",
          "New Jersey",
          "Ohio",
          "Alabama",
          "Louisiana",
          "Texas",
          "California",
          "Pennsylvania",
          "Michigan",
          "Texas",
          "Wisconsin",
          "Florida",
          "Wisconsin",
          "Missouri",
          "Washington",
          "Washington",
          "Texas",
          "Texas",
          "Alabama",
          "Illinois",
          "Florida",
          "California",
          "California",
          "California",
          "Georgia",
          "Colorado",
          "Florida",
          "Florida",
          "Texas",
          "Pennsylvania",
          "Ohio",
          "California",
          "Texas",
          "Nevada",
          "Nevada",
          "California",
          "Missouri",
          "Minnesota",
          "Nevada",
          "Oregon",
          "Kentucky",
          "Illinois",
          "Texas",
          "Pennsylvania",
          "Texas",
          "Georgia",
          "California",
          "New York",
          "Rhode Island",
          "California",
          "Florida",
          "Michigan",
          "Massachusetts",
          "Tennessee",
          "Oklahoma",
          "Colorado",
          "Illinois",
          "Puerto Rico",
          "Missouri",
          "Georgia",
          "Texas",
          "Colorado",
          "Colorado",
          "Texas",
          "Texas",
          "New York",
          "Tennessee",
          "Kentucky",
          "Washington",
          "Minnesota",
          "Montana",
          "Oklahoma",
          "Illinois",
          "Illinois",
          "Florida",
          "Colorado",
          "Texas",
          "Tennessee",
          "Texas",
          "Nevada",
          "Missouri",
          "Florida",
          "Kentucky",
          "Tennessee",
          "California",
          "Texas",
          "New York",
          "Pennsylvania",
          "Ohio",
          "Nevada",
          "Nevada",
          "Minnesota",
          "Minnesota",
          "California",
          "Florida",
          "Illinois",
          "Ohio",
          "California",
          "Missouri",
          "Wisconsin",
          "California",
          "Kansas",
          "California",
          "Arizona",
          "Washington",
          "Hawaii",
          "Tennessee",
          "California",
          "Indiana",
          "Georgia",
          "Montana",
          "Texas",
          "Georgia",
          "Texas",
          "U.S. Virgin Islands",
          "Illinois",
          "California",
          "Texas",
          "New York",
          "California",
          "Colorado",
          "California",
          "Florida",
          "Michigan",
          "New York",
          "California",
          "Georgia",
          "Hawaii",
          "Connecticut",
          "Florida",
          "California",
          "Minnesota",
          "Michigan",
          "New York",
          "New York",
          "Indiana",
          "Missouri",
          "Georgia",
          "Florida",
          "Maryland",
          "Missouri",
          "Michigan",
          "Massachusetts",
          "New York",
          "Michigan",
          "Georgia",
          "Indiana",
          "Texas",
          "California",
          "Colorado",
          "Arizona",
          "Illinois",
          "California",
          "Florida",
          "Florida",
          "Illinois",
          "Michigan",
          "Tennessee",
          "Illinois",
          "Alaska",
          "California",
          "Georgia",
          "Texas",
          "North Carolina",
          "Kentucky",
          "California",
          "Kentucky",
          "Missouri",
          "Nevada",
          "Missouri",
          "Florida",
          "Florida"
         ],
         "name": "",
         "parents": {
          "bdata": "AwgHCgIBAgEDCwgICQsDCgMCDAwHCgEGCAECDAoLBQsJBAoHCQoHAQEHBQYEAwICCgwEAgsLBAsHBwULBAcJBQQFAwwFAwcFAQEDBwgKCwMEAgQMBQgMBgcMCAIICAUHBgkHCgEFBgUMCAcMDAwGBAYHDAMGBwgKCwcCBAIBBAQJBAYCCQcEAQwFCAgMBQwCBwUFCQcGBQoEAQkICAEBBgEEAwQJCgILCgIEBQsBBAsEDAUGDAkJBAwEDAcKAwgDCgwMBgoIBQwICwcBDAEGBgQMAwoDDAoKDAcJBwsIDAsCCQkFBgkDCQwFBAcBAgoGCAYKCwcIDAQHCwQGBQsEAQIMAwMJCQwKDAcJAQcCBAgHCAUBBAEHCAkGAQQDCwkMDAsDCAoLBQsDCAUIBgUECAIECwUHAwwCAwoKAQEGCwkBBAEJBgUFCAkKBgwBBQoFBwsKCAcMDAQMDAwJDAcMCwgGCwkFCgQDAQgMAQwMAgoDCQEFBAUKBQMMBAMMBQsMBAIJAgcLBgYGAQkHBgQDBAQIBwsFCwkKCAwDCwcDDAgJCQEMCAMKCwUCCwUCCgMBAggCBQsLDAQGBAUIBAIIBQUDAgQFAQMDAQMICgECAQkHBwkGCQQBBwIJCQsCBwgCAwEMBQwKBwQLAwsFBwELBwYDBAE=",
          "dtype": "i1"
         },
         "type": "sunburst",
         "values": {
          "bdata": "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",
          "dtype": "f8"
         }
        }
       ],
       "layout": {
        "legend": {
         "tracegroupgap": 0
        },
        "template": {
         "data": {
          "bar": [
           {
            "error_x": {
             "color": "#2a3f5f"
            },
            "error_y": {
             "color": "#2a3f5f"
            },
            "marker": {
             "line": {
              "color": "#E5ECF6",
              "width": 0.5
             },
             "pattern": {
              "fillmode": "overlay",
              "size": 10,
              "solidity": 0.2
             }
            },
            "type": "bar"
           }
          ],
          "barpolar": [
           {
            "marker": {
             "line": {
              "color": "#E5ECF6",
              "width": 0.5
             },
             "pattern": {
              "fillmode": "overlay",
              "size": 10,
              "solidity": 0.2
             }
            },
            "type": "barpolar"
           }
          ],
          "carpet": [
           {
            "aaxis": {
             "endlinecolor": "#2a3f5f",
             "gridcolor": "white",
             "linecolor": "white",
             "minorgridcolor": "white",
             "startlinecolor": "#2a3f5f"
            },
            "baxis": {
             "endlinecolor": "#2a3f5f",
             "gridcolor": "white",
             "linecolor": "white",
             "minorgridcolor": "white",
             "startlinecolor": "#2a3f5f"
            },
            "type": "carpet"
           }
          ],
          "choropleth": [
           {
            "colorbar": {
             "outlinewidth": 0,
             "ticks": ""
            },
            "type": "choropleth"
           }
          ],
          "contour": [
           {
            "colorbar": {
             "outlinewidth": 0,
             "ticks": ""
            },
            "colorscale": [
             [
              0,
              "#0d0887"
             ],
             [
              0.1111111111111111,
              "#46039f"
             ],
             [
              0.2222222222222222,
              "#7201a8"
             ],
             [
              0.3333333333333333,
              "#9c179e"
             ],
             [
              0.4444444444444444,
              "#bd3786"
             ],
             [
              0.5555555555555556,
              "#d8576b"
             ],
             [
              0.6666666666666666,
              "#ed7953"
             ],
             [
              0.7777777777777778,
              "#fb9f3a"
             ],
             [
              0.8888888888888888,
              "#fdca26"
             ],
             [
              1,
              "#f0f921"
             ]
            ],
            "type": "contour"
           }
          ],
          "contourcarpet": [
           {
            "colorbar": {
             "outlinewidth": 0,
             "ticks": ""
            },
            "type": "contourcarpet"
           }
          ],
          "heatmap": [
           {
            "colorbar": {
             "outlinewidth": 0,
             "ticks": ""
            },
            "colorscale": [
             [
              0,
              "#0d0887"
             ],
             [
              0.1111111111111111,
              "#46039f"
             ],
             [
              0.2222222222222222,
              "#7201a8"
             ],
             [
              0.3333333333333333,
              "#9c179e"
             ],
             [
              0.4444444444444444,
              "#bd3786"
             ],
             [
              0.5555555555555556,
              "#d8576b"
             ],
             [
              0.6666666666666666,
              "#ed7953"
             ],
             [
              0.7777777777777778,
              "#fb9f3a"
             ],
             [
              0.8888888888888888,
              "#fdca26"
             ],
             [
              1,
              "#f0f921"
             ]
            ],
            "type": "heatmap"
           }
          ],
          "histogram": [
           {
            "marker": {
             "pattern": {
              "fillmode": "overlay",
              "size": 10,
              "solidity": 0.2
             }
            },
            "type": "histogram"
           }
          ],
          "histogram2d": [
           {
            "colorbar": {
             "outlinewidth": 0,
             "ticks": ""
            },
            "colorscale": [
             [
              0,
              "#0d0887"
             ],
             [
              0.1111111111111111,
              "#46039f"
             ],
             [
              0.2222222222222222,
              "#7201a8"
             ],
             [
              0.3333333333333333,
              "#9c179e"
             ],
             [
              0.4444444444444444,
              "#bd3786"
             ],
             [
              0.5555555555555556,
              "#d8576b"
             ],
             [
              0.6666666666666666,
              "#ed7953"
             ],
             [
              0.7777777777777778,
              "#fb9f3a"
             ],
             [
              0.8888888888888888,
              "#fdca26"
             ],
             [
              1,
              "#f0f921"
             ]
            ],
            "type": "histogram2d"
           }
          ],
          "histogram2dcontour": [
           {
            "colorbar": {
             "outlinewidth": 0,
             "ticks": ""
            },
            "colorscale": [
             [
              0,
              "#0d0887"
             ],
             [
              0.1111111111111111,
              "#46039f"
             ],
             [
              0.2222222222222222,
              "#7201a8"
             ],
             [
              0.3333333333333333,
              "#9c179e"
             ],
             [
              0.4444444444444444,
              "#bd3786"
             ],
             [
              0.5555555555555556,
              "#d8576b"
             ],
             [
              0.6666666666666666,
              "#ed7953"
             ],
             [
              0.7777777777777778,
              "#fb9f3a"
             ],
             [
              0.8888888888888888,
              "#fdca26"
             ],
             [
              1,
              "#f0f921"
             ]
            ],
            "type": "histogram2dcontour"
           }
          ],
          "mesh3d": [
           {
            "colorbar": {
             "outlinewidth": 0,
             "ticks": ""
            },
            "type": "mesh3d"
           }
          ],
          "parcoords": [
           {
            "line": {
             "colorbar": {
              "outlinewidth": 0,
              "ticks": ""
             }
            },
            "type": "parcoords"
           }
          ],
          "pie": [
           {
            "automargin": true,
            "type": "pie"
           }
          ],
          "scatter": [
           {
            "fillpattern": {
             "fillmode": "overlay",
             "size": 10,
             "solidity": 0.2
            },
            "type": "scatter"
           }
          ],
          "scatter3d": [
           {
            "line": {
             "colorbar": {
              "outlinewidth": 0,
              "ticks": ""
             }
            },
            "marker": {
             "colorbar": {
              "outlinewidth": 0,
              "ticks": ""
             }
            },
            "type": "scatter3d"
           }
          ],
          "scattercarpet": [
           {
            "marker": {
             "colorbar": {
              "outlinewidth": 0,
              "ticks": ""
             }
            },
            "type": "scattercarpet"
           }
          ],
          "scattergeo": [
           {
            "marker": {
             "colorbar": {
              "outlinewidth": 0,
              "ticks": ""
             }
            },
            "type": "scattergeo"
           }
          ],
          "scattergl": [
           {
            "marker": {
             "colorbar": {
              "outlinewidth": 0,
              "ticks": ""
             }
            },
            "type": "scattergl"
           }
          ],
          "scattermap": [
           {
            "marker": {
             "colorbar": {
              "outlinewidth": 0,
              "ticks": ""
             }
            },
            "type": "scattermap"
           }
          ],
          "scattermapbox": [
           {
            "marker": {
             "colorbar": {
              "outlinewidth": 0,
              "ticks": ""
             }
            },
            "type": "scattermapbox"
           }
          ],
          "scatterpolar": [
           {
            "marker": {
             "colorbar": {
              "outlinewidth": 0,
              "ticks": ""
             }
            },
            "type": "scatterpolar"
           }
          ],
          "scatterpolargl": [
           {
            "marker": {
             "colorbar": {
              "outlinewidth": 0,
              "ticks": ""
             }
            },
            "type": "scatterpolargl"
           }
          ],
          "scatterternary": [
           {
            "marker": {
             "colorbar": {
              "outlinewidth": 0,
              "ticks": ""
             }
            },
            "type": "scatterternary"
           }
          ],
          "surface": [
           {
            "colorbar": {
             "outlinewidth": 0,
             "ticks": ""
            },
            "colorscale": [
             [
              0,
              "#0d0887"
             ],
             [
              0.1111111111111111,
              "#46039f"
             ],
             [
              0.2222222222222222,
              "#7201a8"
             ],
             [
              0.3333333333333333,
              "#9c179e"
             ],
             [
              0.4444444444444444,
              "#bd3786"
             ],
             [
              0.5555555555555556,
              "#d8576b"
             ],
             [
              0.6666666666666666,
              "#ed7953"
             ],
             [
              0.7777777777777778,
              "#fb9f3a"
             ],
             [
              0.8888888888888888,
              "#fdca26"
             ],
             [
              1,
              "#f0f921"
             ]
            ],
            "type": "surface"
           }
          ],
          "table": [
           {
            "cells": {
             "fill": {
              "color": "#EBF0F8"
             },
             "line": {
              "color": "white"
             }
            },
            "header": {
             "fill": {
              "color": "#C8D4E3"
             },
             "line": {
              "color": "white"
             }
            },
            "type": "table"
           }
          ]
         },
         "layout": {
          "annotationdefaults": {
           "arrowcolor": "#2a3f5f",
           "arrowhead": 0,
           "arrowwidth": 1
          },
          "autotypenumbers": "strict",
          "coloraxis": {
           "colorbar": {
            "outlinewidth": 0,
            "ticks": ""
           }
          },
          "colorscale": {
           "diverging": [
            [
             0,
             "#8e0152"
            ],
            [
             0.1,
             "#c51b7d"
            ],
            [
             0.2,
             "#de77ae"
            ],
            [
             0.3,
             "#f1b6da"
            ],
            [
             0.4,
             "#fde0ef"
            ],
            [
             0.5,
             "#f7f7f7"
            ],
            [
             0.6,
             "#e6f5d0"
            ],
            [
             0.7,
             "#b8e186"
            ],
            [
             0.8,
             "#7fbc41"
            ],
            [
             0.9,
             "#4d9221"
            ],
            [
             1,
             "#276419"
            ]
           ],
           "sequential": [
            [
             0,
             "#0d0887"
            ],
            [
             0.1111111111111111,
             "#46039f"
            ],
            [
             0.2222222222222222,
             "#7201a8"
            ],
            [
             0.3333333333333333,
             "#9c179e"
            ],
            [
             0.4444444444444444,
             "#bd3786"
            ],
            [
             0.5555555555555556,
             "#d8576b"
            ],
            [
             0.6666666666666666,
             "#ed7953"
            ],
            [
             0.7777777777777778,
             "#fb9f3a"
            ],
            [
             0.8888888888888888,
             "#fdca26"
            ],
            [
             1,
             "#f0f921"
            ]
           ],
           "sequentialminus": [
            [
             0,
             "#0d0887"
            ],
            [
             0.1111111111111111,
             "#46039f"
            ],
            [
             0.2222222222222222,
             "#7201a8"
            ],
            [
             0.3333333333333333,
             "#9c179e"
            ],
            [
             0.4444444444444444,
             "#bd3786"
            ],
            [
             0.5555555555555556,
             "#d8576b"
            ],
            [
             0.6666666666666666,
             "#ed7953"
            ],
            [
             0.7777777777777778,
             "#fb9f3a"
            ],
            [
             0.8888888888888888,
             "#fdca26"
            ],
            [
             1,
             "#f0f921"
            ]
           ]
          },
          "colorway": [
           "#636efa",
           "#EF553B",
           "#00cc96",
           "#ab63fa",
           "#FFA15A",
           "#19d3f3",
           "#FF6692",
           "#B6E880",
           "#FF97FF",
           "#FECB52"
          ],
          "font": {
           "color": "#2a3f5f"
          },
          "geo": {
           "bgcolor": "white",
           "lakecolor": "white",
           "landcolor": "#E5ECF6",
           "showlakes": true,
           "showland": true,
           "subunitcolor": "white"
          },
          "hoverlabel": {
           "align": "left"
          },
          "hovermode": "closest",
          "mapbox": {
           "style": "light"
          },
          "paper_bgcolor": "white",
          "plot_bgcolor": "#E5ECF6",
          "polar": {
           "angularaxis": {
            "gridcolor": "white",
            "linecolor": "white",
            "ticks": ""
           },
           "bgcolor": "#E5ECF6",
           "radialaxis": {
            "gridcolor": "white",
            "linecolor": "white",
            "ticks": ""
           }
          },
          "scene": {
           "xaxis": {
            "backgroundcolor": "#E5ECF6",
            "gridcolor": "white",
            "gridwidth": 2,
            "linecolor": "white",
            "showbackground": true,
            "ticks": "",
            "zerolinecolor": "white"
           },
           "yaxis": {
            "backgroundcolor": "#E5ECF6",
            "gridcolor": "white",
            "gridwidth": 2,
            "linecolor": "white",
            "showbackground": true,
            "ticks": "",
            "zerolinecolor": "white"
           },
           "zaxis": {
            "backgroundcolor": "#E5ECF6",
            "gridcolor": "white",
            "gridwidth": 2,
            "linecolor": "white",
            "showbackground": true,
            "ticks": "",
            "zerolinecolor": "white"
           }
          },
          "shapedefaults": {
           "line": {
            "color": "#2a3f5f"
           }
          },
          "ternary": {
           "aaxis": {
            "gridcolor": "white",
            "linecolor": "white",
            "ticks": ""
           },
           "baxis": {
            "gridcolor": "white",
            "linecolor": "white",
            "ticks": ""
           },
           "bgcolor": "#E5ECF6",
           "caxis": {
            "gridcolor": "white",
            "linecolor": "white",
            "ticks": ""
           }
          },
          "title": {
           "x": 0.05
          },
          "xaxis": {
           "automargin": true,
           "gridcolor": "white",
           "linecolor": "white",
           "ticks": "",
           "title": {
            "standoff": 15
           },
           "zerolinecolor": "white",
           "zerolinewidth": 2
          },
          "yaxis": {
           "automargin": true,
           "gridcolor": "white",
           "linecolor": "white",
           "ticks": "",
           "title": {
            "standoff": 15
           },
           "zerolinecolor": "white",
           "zerolinewidth": 2
          }
         }
        },
        "title": {
         "text": "Flight Distribution Hierarchy"
        }
       }
      }
     },
     "metadata": {},
     "output_type": "display_data"
    }
   ],
   "source": [
    "fig = px.sunburst(data, names='DestStateName',parents='Month' ,values='Flights',title='Flight Distribution Hierarchy')\n",
    "fig.show()"
   ]
  },
  {
   "cell_type": "markdown",
   "id": "ce0b7dae-b2e2-4101-a2d7-fc16a7ac3e51",
   "metadata": {},
   "source": [
    "If your parents column (Month) contains numeric month values (1-12), but your names column only contains state names (e.g. California, Texas), then:\n",
    "\n",
    "There are no matching names = parents pairs in the data for Plotly to build a hierarchy."
   ]
  },
  {
   "cell_type": "code",
   "execution_count": 42,
   "id": "1ce5a2a5-e5d7-4afd-a2cb-f54d7905d10d",
   "metadata": {},
   "outputs": [
    {
     "data": {
      "text/plain": [
       "5312     Wisconsin\n",
       "18357      Georgia\n",
       "6428      Nebraska\n",
       "15414     Illinois\n",
       "10610      Indiana\n",
       "           ...    \n",
       "18946     Missouri\n",
       "16291       Nevada\n",
       "21818     Missouri\n",
       "24116      Florida\n",
       "16705      Florida\n",
       "Name: DestStateName, Length: 500, dtype: object"
      ]
     },
     "execution_count": 42,
     "metadata": {},
     "output_type": "execute_result"
    }
   ],
   "source": [
    "data['DestStateName']"
   ]
  }
 ],
 "metadata": {
  "kernelspec": {
   "display_name": "Python 3 (ipykernel)",
   "language": "python",
   "name": "python3"
  },
  "language_info": {
   "codemirror_mode": {
    "name": "ipython",
    "version": 3
   },
   "file_extension": ".py",
   "mimetype": "text/x-python",
   "name": "python",
   "nbconvert_exporter": "python",
   "pygments_lexer": "ipython3",
   "version": "3.13.5"
  }
 },
 "nbformat": 4,
 "nbformat_minor": 5
}
